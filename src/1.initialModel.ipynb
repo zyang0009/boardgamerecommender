{
 "cells": [
  {
   "cell_type": "code",
   "execution_count": 9,
   "metadata": {},
   "outputs": [],
   "source": [
    "import psycopg2 as pg2\n",
    "import pandas as pd\n",
    "# pd.set_option('display.expand_frame_repr', False)\n",
    "# pd.set_option('display.max_colwidth', -1)\n",
    "import pprint \n",
    "import string\n",
    "import unicodedata\n",
    "import numpy as np\n",
    "import pickle\n",
    "\n",
    "from PIL import Image\n",
    "from wordcloud import WordCloud, STOPWORDS, ImageColorGenerator\n",
    "from sklearn.decomposition import LatentDirichletAllocation\n",
    "import matplotlib.pyplot as plt\n",
    "\n",
    "from sklearn.preprocessing import StandardScaler\n",
    "from sklearn.decomposition import PCA\n",
    "from sklearn import decomposition\n",
    "\n",
    "import matplotlib.pyplot as plt\n",
    "from pandas.plotting import scatter_matrix\n",
    "\n",
    "import nltk\n",
    "from nltk.tokenize import sent_tokenize\n",
    "from nltk.tokenize import word_tokenize\n",
    "from nltk.corpus import stopwords\n",
    "from nltk.stem.porter import PorterStemmer\n",
    "from nltk.stem.snowball import SnowballStemmer\n",
    "from nltk.stem.wordnet import WordNetLemmatizer\n",
    "from nltk.util import ngrams\n",
    "from nltk import pos_tag\n",
    "from nltk import RegexpParser\n",
    "import re\n",
    "\n",
    "from sklearn.feature_extraction.text import TfidfVectorizer\n",
    "from sklearn.feature_extraction.text import CountVectorizer\n",
    "from sklearn.cluster import KMeans"
   ]
  },
  {
   "cell_type": "markdown",
   "metadata": {},
   "source": [
    "## Import pickled cleaned data from previous project"
   ]
  },
  {
   "cell_type": "code",
   "execution_count": 10,
   "metadata": {},
   "outputs": [],
   "source": [
    "with open('../data/boardgamedata.pickle', 'rb') as f:\n",
    "    worddata, numdata = pickle.load(f)\n",
    "    \n",
    "worddata.reset_index(drop=True, inplace=True)\n"
   ]
  },
  {
   "cell_type": "code",
   "execution_count": 117,
   "metadata": {},
   "outputs": [],
   "source": [
    "special = ['&quot;', '&#10;']\n",
    "for chara in special:\n",
    "    worddata['description']= worddata['description'].apply(lambda x: x.replace(chara,''))"
   ]
  },
  {
   "cell_type": "code",
   "execution_count": 130,
   "metadata": {},
   "outputs": [],
   "source": [
    "with open('../data/boardgamedata.pickle', 'wb') as f:\n",
    "    pickle.dump([worddata, numdata], f)\n",
    "    "
   ]
  },
  {
   "cell_type": "code",
   "execution_count": 118,
   "metadata": {
    "scrolled": false
   },
   "outputs": [
    {
     "data": {
      "text/html": [
       "<div>\n",
       "<style scoped>\n",
       "    .dataframe tbody tr th:only-of-type {\n",
       "        vertical-align: middle;\n",
       "    }\n",
       "\n",
       "    .dataframe tbody tr th {\n",
       "        vertical-align: top;\n",
       "    }\n",
       "\n",
       "    .dataframe thead th {\n",
       "        text-align: right;\n",
       "    }\n",
       "</style>\n",
       "<table border=\"1\" class=\"dataframe\">\n",
       "  <thead>\n",
       "    <tr style=\"text-align: right;\">\n",
       "      <th></th>\n",
       "      <th>game.id</th>\n",
       "      <th>name</th>\n",
       "      <th>description</th>\n",
       "      <th>category</th>\n",
       "      <th>mechanic</th>\n",
       "    </tr>\n",
       "  </thead>\n",
       "  <tbody>\n",
       "    <tr>\n",
       "      <th>10</th>\n",
       "      <td>10</td>\n",
       "      <td>Elfenland</td>\n",
       "      <td>Elfenland is a redesign of the original White Wind game Elfenroads.  The game is set in the mythical world of the elves.  A group of fledgling elves (the players) are charged with visiting as many of the twenty Elfencities as they can over the course of 4 rounds.  To accomplish the task they will use various forms of transportation such as Giant Pigs, Elfcarts, Unicorns, Rafts, Magic Clouds, Trollwagons, and Dragons.Gameplay:  Players begin in the Elf capitol, draw one face down movement tile, and are dealt eight transport cards and a secret 'home' city card that they must reach at the end of the 4th round or lose points for each city space away from 'home' they are at the end of the game. Markers of each player's color are placed in each city on the board and are collected when the player visits that city (each counts as 1 point).       The round proceeds in 2 stages.  The first part of the round consists of the drawing of Tiles showing the differing types of transport (except rafts) from a combination of face up and face down tiles (if a player doesn't like the 5 tiles that are face up; they can always draw blind from the face down tiles and hope to get one they need).  These transport tiles need to match the Transportation cards in your hand to use them most effectively.  After each player has a total of 4 tiles they take turns placing a tile on any one of the roads that run between the elf cities.  Only one transport tile may be placed on each road; so players may use other players tiles to travel if they have the matching cards in their hand.  This frequently causes a readjustment of planned travel routes as other players tiles can allow you to move farther or shorter than you had first thought.  Players can play their tiles to help themselves or hinder others by playing a slow mode of transport on another players (perceived) path.Each mode of transport has certain terrain it can travel through quickly or slowly, and those that it cannot. These are listed on the top of each transportation card by the number terrain symbols.  The number of terrain symbols equals how many matching cards you must play to move across a given tile in a given terrain.  For example, a Magic Cloud tile placed in a mountain would take one Magic cloud card to travel across (1 mountain symbol on card means Magic clouds are fast in mountains). If the same tile was placed on a road in forest terrain it would require 2 Magic Cloud cards to travel that route (2 Forest symbols on card means Magic Clouds are slow in Forest).  Magic Clouds cannot travel in desert terrain at all (no desert symbols on card). All modes of transport are different and Rafts can be used on rivers or lakes without needing tiles. Rafts go slow upstream (2 raft cards needed) and fast downstream (1 card needed).  The small lake requires 1 raft card to travel across and the larger lake requires 2 cards to travel across.  Players may keep one unused transport counter and up to 4 Transportation cards from one round to the next.The second part of the round begins after all players have finished placing their transportation tiles for the round.  Each player plays his cards and moves his elf-boot around the board collecting his tokens from the cities visited.  If there is a Transport tile on a route and a player has no matching Transportation card he may 'Caravan' across it by playing any 3 Transportation cards from his hand.As a bit of 'take that' each player has a trouble tile which can be placed next to any transportation tile during the first part of the round.  This counter means that in order to travel that path an additional card of the transport type must be played or 4 cards to 'Caravan'.Victory: if at the end of round 3 a player has visited all 20 cities he is the winner.  If not the game ends after round 4 when 'Home' cities are revealed and each player subtracts points for each city he is away from his 'home' subtracting that from his collected city tokens.  The person with the highest score wins.</td>\n",
       "      <td>[Fantasy, Travel]</td>\n",
       "      <td>[Card Drafting, Hand Management, Point to Point Movement, Route/Network Building]</td>\n",
       "    </tr>\n",
       "    <tr>\n",
       "      <th>11</th>\n",
       "      <td>12</td>\n",
       "      <td>Ra</td>\n",
       "      <td>Ra is an auction and set-collection game with an Ancient Egyptian theme.  Each turn players are able to purchase lots of tiles with their bidding tiles (suns).  Once a player has used up his or her suns, the other players continue until they do likewise, which may set up a situation with a single uncontested player bidding on tiles before the end of the round occurs.  Tension builds because the round may end before all players have had a chance to win their three lots for the epoch.  The various tiles either give immediate points, prevent negative points for not having certain types at the end of the round (epoch), or give points after the final round.  The game lasts for three epochs (rounds).  The game offers a short learning curve, and experienced players find it both fast-moving and a quick play.From the Box:The game spans 1500 years of Egyptian history in less than an hour!The players seek to expand their power and fame and there are many ways to accomplish this: Influencing Pharaohs, Building monuments, Farming on the Nile, Paying homage to the Gods, Advancing the technology and culture of the people. Ra is an auction and set collecting game where players may choose to take risks for great rewards or... And all this is for the glory of the Sun God Ra!</td>\n",
       "      <td>[Ancient, Mythology]</td>\n",
       "      <td>[Auction/Bidding, Press Your Luck, Set Collection]</td>\n",
       "    </tr>\n",
       "    <tr>\n",
       "      <th>12</th>\n",
       "      <td>13</td>\n",
       "      <td>Catan</td>\n",
       "      <td>In Catan (formerly The Settlers of Catan), players try to be the dominant force on the island of Catan by building settlements, cities, and roads. On each turn dice are rolled to determine what resources the island produces. Players collect these resources (cards)&amp;mdash;wood, grain, brick, sheep, or stone&amp;mdash;to build up their civilizations to get to 10 victory points and win the game.Setup includes randomly placing large hexagonal tiles (each showing a resource or the desert) in a honeycomb shape and surrounding them with water tiles, some of which contain ports of exchange. Number disks, which will correspond to die rolls (two 6-sided dice are used), are placed on each resource tile. Each player is given two settlements (think: houses) and roads (sticks) which are, in turn, placed on intersections and borders of the resource tiles. Players collect a hand of resource cards based on which hex tiles their last-placed house is adjacent to. A robber pawn is placed on the desert tile.A turn consists of possibly playing a development card, rolling the dice, everyone (perhaps) collecting resource cards based on the roll and position of houses (or upgraded cities&amp;mdash;think: hotels) unless a 7 is rolled, turning in resource cards (if possible and desired) for improvements, trading cards at a port, and trading resource cards with other players. If a 7 is rolled, the active player moves the robber to a new hex tile and steals resource cards from other players who have built structures adjacent to that tile.Points are accumulated by building settlements and cities, having the longest road and the largest army (from some of the development cards), and gathering certain development cards that simply award victory points. When a player has gathered 10 points (some of which may be held in secret), he announces his total and claims the win.Catan has won multiple awards and is one of the most popular games in recent history due to its amazing ability to appeal to experienced gamers as well as those new to the hobby.Die Siedler von Catan was originally published by KOSMOS and has gone through multiple editions. It was licensed by Mayfair and has undergone four editions as The Settlers of Catan. In 2015, it was formally renamed Catan to better represent itself as the core and base game of the Catan series. It has been re-published in two travel editions, portable edition and compact edition, as a special gallery edition (replaced in 2009 with a family edition), as an anniversary wooden edition, as a deluxe 3D collector's edition, in the basic Simply Catan, as a beginner version, and with an entirely new theme in Japan and Asia as Settlers of Catan: Rockman Edition. Numerous spin-offs and expansions have also been made for the game.</td>\n",
       "      <td>[Negotiation]</td>\n",
       "      <td>[Dice Rolling, Hand Management, Modular Board, Route/Network Building, Trading]</td>\n",
       "    </tr>\n",
       "    <tr>\n",
       "      <th>13</th>\n",
       "      <td>14</td>\n",
       "      <td>Basari</td>\n",
       "      <td>Basari is a game of gem merchants competing in a marketplace: racing, collecting, trading, and predicting what the other merchants will do.To start the game, players receive 12 gemstones (3 each of 4 colors). Each turn there will be a movement phase and an action phase:For movement, everyone simultaneously rolls their die and moves their markers around a track.They then choose one of three different actions to perform. The actions are:- to take a variety of gems from a market stall, - to immediately score from between 4 and 7 points, or - to roll and move again and also collect points.The action cards are revealed simultaneously. If only 1 player chose a particular action, they simply perform that action. If 2 players chose the same action, they barter back and forth with gemstones. One player will eventually accept the other's offer of gems, and the other will take the action. If 3 or 4 players all chose the same action card, that action is cancelled. Note that in 4-player games, there will always be a conflict in choice of 3 actions, so much more negotiating goes on.A new turn begins with everyone rolling their die, moving, then choosing and revealing their action cards. When any merchant piece completes a lap around the board, the round ends and bonus points are awarded based on who has the majority in each gem color and who has completed a lap. After three rounds, the game is over and the highest score wins.Re-implemented by:     Edel, Stein &amp; Reich</td>\n",
       "      <td>[Negotiation]</td>\n",
       "      <td>[Roll, Spin and Move, Set Collection, Simultaneous Action Selection]</td>\n",
       "    </tr>\n",
       "    <tr>\n",
       "      <th>14</th>\n",
       "      <td>15</td>\n",
       "      <td>Cosmic Encounter</td>\n",
       "      <td>By request of Fantasy Flight Games, Board Game Geek lists the various editions of Cosmic Encounter in separate entries. Each edition is the same game at its core, but the features, compatible expansions, and production differ among them. This entry is for the original 1977 Eon version.Players represent alien races that are seeking to spread themselves onto five foreign worlds.  To accomplish this, they make challenges against other players and enlist the aid of interested parties.  But alien powers, which are unique to each race, give players ways to bend or outright break some rule in the game.The game continues until one player occupies five planets in other systems to win. Shared victories are possible and a player need not occupy one's own system to win.</td>\n",
       "      <td>[Bluffing, Negotiation, Science Fiction]</td>\n",
       "      <td>[Hand Management, Variable Player Powers]</td>\n",
       "    </tr>\n",
       "  </tbody>\n",
       "</table>\n",
       "</div>"
      ],
      "text/plain": [
       "    game.id              name                                                                                                                                                                                                                                                                                                                                                                                                                                                                                                                                                                                                                                                                                                                                                                                                                                                                                                                                                                                                                                                                                                                                                                                                                                                                                                                                                                                                                                                                                                                                                                                                                                                                                                                                                                                                                                                                                                                                                                                                                                                                                                                                                                                                                                                                                                                                                                                                                                                                                                                                                                                                                                                                                                                                                                                                                                                                                                                                                                                                                                                                                                                                                                                                                                                                                                                                                                                                                                                                                                                                                                                                                                                                                                                                                                                                                                                                                                                                                                                                                                                                                                                                                                            description                                  category                                                                           mechanic\n",
       "10  10       Elfenland         Elfenland is a redesign of the original White Wind game Elfenroads.  The game is set in the mythical world of the elves.  A group of fledgling elves (the players) are charged with visiting as many of the twenty Elfencities as they can over the course of 4 rounds.  To accomplish the task they will use various forms of transportation such as Giant Pigs, Elfcarts, Unicorns, Rafts, Magic Clouds, Trollwagons, and Dragons.Gameplay:  Players begin in the Elf capitol, draw one face down movement tile, and are dealt eight transport cards and a secret 'home' city card that they must reach at the end of the 4th round or lose points for each city space away from 'home' they are at the end of the game. Markers of each player's color are placed in each city on the board and are collected when the player visits that city (each counts as 1 point).       The round proceeds in 2 stages.  The first part of the round consists of the drawing of Tiles showing the differing types of transport (except rafts) from a combination of face up and face down tiles (if a player doesn't like the 5 tiles that are face up; they can always draw blind from the face down tiles and hope to get one they need).  These transport tiles need to match the Transportation cards in your hand to use them most effectively.  After each player has a total of 4 tiles they take turns placing a tile on any one of the roads that run between the elf cities.  Only one transport tile may be placed on each road; so players may use other players tiles to travel if they have the matching cards in their hand.  This frequently causes a readjustment of planned travel routes as other players tiles can allow you to move farther or shorter than you had first thought.  Players can play their tiles to help themselves or hinder others by playing a slow mode of transport on another players (perceived) path.Each mode of transport has certain terrain it can travel through quickly or slowly, and those that it cannot. These are listed on the top of each transportation card by the number terrain symbols.  The number of terrain symbols equals how many matching cards you must play to move across a given tile in a given terrain.  For example, a Magic Cloud tile placed in a mountain would take one Magic cloud card to travel across (1 mountain symbol on card means Magic clouds are fast in mountains). If the same tile was placed on a road in forest terrain it would require 2 Magic Cloud cards to travel that route (2 Forest symbols on card means Magic Clouds are slow in Forest).  Magic Clouds cannot travel in desert terrain at all (no desert symbols on card). All modes of transport are different and Rafts can be used on rivers or lakes without needing tiles. Rafts go slow upstream (2 raft cards needed) and fast downstream (1 card needed).  The small lake requires 1 raft card to travel across and the larger lake requires 2 cards to travel across.  Players may keep one unused transport counter and up to 4 Transportation cards from one round to the next.The second part of the round begins after all players have finished placing their transportation tiles for the round.  Each player plays his cards and moves his elf-boot around the board collecting his tokens from the cities visited.  If there is a Transport tile on a route and a player has no matching Transportation card he may 'Caravan' across it by playing any 3 Transportation cards from his hand.As a bit of 'take that' each player has a trouble tile which can be placed next to any transportation tile during the first part of the round.  This counter means that in order to travel that path an additional card of the transport type must be played or 4 cards to 'Caravan'.Victory: if at the end of round 3 a player has visited all 20 cities he is the winner.  If not the game ends after round 4 when 'Home' cities are revealed and each player subtracts points for each city he is away from his 'home' subtracting that from his collected city tokens.  The person with the highest score wins.  [Fantasy, Travel]                         [Card Drafting, Hand Management, Point to Point Movement, Route/Network Building]\n",
       "11  12       Ra                Ra is an auction and set-collection game with an Ancient Egyptian theme.  Each turn players are able to purchase lots of tiles with their bidding tiles (suns).  Once a player has used up his or her suns, the other players continue until they do likewise, which may set up a situation with a single uncontested player bidding on tiles before the end of the round occurs.  Tension builds because the round may end before all players have had a chance to win their three lots for the epoch.  The various tiles either give immediate points, prevent negative points for not having certain types at the end of the round (epoch), or give points after the final round.  The game lasts for three epochs (rounds).  The game offers a short learning curve, and experienced players find it both fast-moving and a quick play.From the Box:The game spans 1500 years of Egyptian history in less than an hour!The players seek to expand their power and fame and there are many ways to accomplish this: Influencing Pharaohs, Building monuments, Farming on the Nile, Paying homage to the Gods, Advancing the technology and culture of the people. Ra is an auction and set collecting game where players may choose to take risks for great rewards or... And all this is for the glory of the Sun God Ra!                                                                                                                                                                                                                                                                                                                                                                                                                                                                                                                                                                                                                                                                                                                                                                                                                                                                                                                                                                                                                                                                                                                                                                                                                                                                                                                                                                                                                                                                                                                                                                                                                                                                                                                                                                                                                                                                                                                                                                                                                                                                                                                                                                                                                                                                                                                                                                                                                                                                                                                                                                                                                                                                                                                                                                                                                                                          [Ancient, Mythology]                      [Auction/Bidding, Press Your Luck, Set Collection]                               \n",
       "12  13       Catan             In Catan (formerly The Settlers of Catan), players try to be the dominant force on the island of Catan by building settlements, cities, and roads. On each turn dice are rolled to determine what resources the island produces. Players collect these resources (cards)&mdash;wood, grain, brick, sheep, or stone&mdash;to build up their civilizations to get to 10 victory points and win the game.Setup includes randomly placing large hexagonal tiles (each showing a resource or the desert) in a honeycomb shape and surrounding them with water tiles, some of which contain ports of exchange. Number disks, which will correspond to die rolls (two 6-sided dice are used), are placed on each resource tile. Each player is given two settlements (think: houses) and roads (sticks) which are, in turn, placed on intersections and borders of the resource tiles. Players collect a hand of resource cards based on which hex tiles their last-placed house is adjacent to. A robber pawn is placed on the desert tile.A turn consists of possibly playing a development card, rolling the dice, everyone (perhaps) collecting resource cards based on the roll and position of houses (or upgraded cities&mdash;think: hotels) unless a 7 is rolled, turning in resource cards (if possible and desired) for improvements, trading cards at a port, and trading resource cards with other players. If a 7 is rolled, the active player moves the robber to a new hex tile and steals resource cards from other players who have built structures adjacent to that tile.Points are accumulated by building settlements and cities, having the longest road and the largest army (from some of the development cards), and gathering certain development cards that simply award victory points. When a player has gathered 10 points (some of which may be held in secret), he announces his total and claims the win.Catan has won multiple awards and is one of the most popular games in recent history due to its amazing ability to appeal to experienced gamers as well as those new to the hobby.Die Siedler von Catan was originally published by KOSMOS and has gone through multiple editions. It was licensed by Mayfair and has undergone four editions as The Settlers of Catan. In 2015, it was formally renamed Catan to better represent itself as the core and base game of the Catan series. It has been re-published in two travel editions, portable edition and compact edition, as a special gallery edition (replaced in 2009 with a family edition), as an anniversary wooden edition, as a deluxe 3D collector's edition, in the basic Simply Catan, as a beginner version, and with an entirely new theme in Japan and Asia as Settlers of Catan: Rockman Edition. Numerous spin-offs and expansions have also been made for the game.                                                                                                                                                                                                                                                                                                                                                                                                                                                                                                                                                                                                                                                                                                                                                                                                                                                                                                                                                                                                                                                                                                                                                                                                                                                                                                         [Negotiation]                             [Dice Rolling, Hand Management, Modular Board, Route/Network Building, Trading]  \n",
       "13  14       Basari            Basari is a game of gem merchants competing in a marketplace: racing, collecting, trading, and predicting what the other merchants will do.To start the game, players receive 12 gemstones (3 each of 4 colors). Each turn there will be a movement phase and an action phase:For movement, everyone simultaneously rolls their die and moves their markers around a track.They then choose one of three different actions to perform. The actions are:- to take a variety of gems from a market stall, - to immediately score from between 4 and 7 points, or - to roll and move again and also collect points.The action cards are revealed simultaneously. If only 1 player chose a particular action, they simply perform that action. If 2 players chose the same action, they barter back and forth with gemstones. One player will eventually accept the other's offer of gems, and the other will take the action. If 3 or 4 players all chose the same action card, that action is cancelled. Note that in 4-player games, there will always be a conflict in choice of 3 actions, so much more negotiating goes on.A new turn begins with everyone rolling their die, moving, then choosing and revealing their action cards. When any merchant piece completes a lap around the board, the round ends and bonus points are awarded based on who has the majority in each gem color and who has completed a lap. After three rounds, the game is over and the highest score wins.Re-implemented by:     Edel, Stein & Reich                                                                                                                                                                                                                                                                                                                                                                                                                                                                                                                                                                                                                                                                                                                                                                                                                                                                                                                                                                                                                                                                                                                                                                                                                                                                                                                                                                                                                                                                                                                                                                                                                                                                                                                                                                                                                                                                                                                                                                                                                                                                                                                                                                                                                                                                                                                                                                                                                                                                                                                                                                                                                                                  [Negotiation]                             [Roll, Spin and Move, Set Collection, Simultaneous Action Selection]             \n",
       "14  15       Cosmic Encounter  By request of Fantasy Flight Games, Board Game Geek lists the various editions of Cosmic Encounter in separate entries. Each edition is the same game at its core, but the features, compatible expansions, and production differ among them. This entry is for the original 1977 Eon version.Players represent alien races that are seeking to spread themselves onto five foreign worlds.  To accomplish this, they make challenges against other players and enlist the aid of interested parties.  But alien powers, which are unique to each race, give players ways to bend or outright break some rule in the game.The game continues until one player occupies five planets in other systems to win. Shared victories are possible and a player need not occupy one's own system to win.                                                                                                                                                                                                                                                                                                                                                                                                                                                                                                                                                                                                                                                                                                                                                                                                                                                                                                                                                                                                                                                                                                                                                                                                                                                                                                                                                                                                                                                                                                                                                                                                                                                                                                                                                                                                                                                                                                                                                                                                                                                                                                                                                                                                                                                                                                                                                                                                                                                                                                                                                                                                                                                                                                                                                                                                                                                                                                                                                                                                                                                                                                                                                                                                                                                                                                                                                                                       [Bluffing, Negotiation, Science Fiction]  [Hand Management, Variable Player Powers]                                        "
      ]
     },
     "execution_count": 118,
     "metadata": {},
     "output_type": "execute_result"
    }
   ],
   "source": [
    "worddata[10:15]"
   ]
  },
  {
   "cell_type": "markdown",
   "metadata": {},
   "source": [
    "## Build LDA Model"
   ]
  },
  {
   "cell_type": "code",
   "execution_count": 119,
   "metadata": {},
   "outputs": [],
   "source": [
    "#define common words in data to remove\n",
    "#built from pervious project\n",
    "sw = set(stopwords.words('english'))\n",
    "\n",
    "COMMON_WORDS = [\"game\",\"point\",\"board\",\"player\",\"rule\",\"turn\",\n",
    "                \"tile\",\"card\",\"deck\",\"hand\",\"points\",\"victory\",\n",
    "                \"win\",\"lose\",\"defeat\",\"quot\",\"players\",\"play\"\n",
    "               ]\n",
    "sw.update(COMMON_WORDS)"
   ]
  },
  {
   "cell_type": "markdown",
   "metadata": {},
   "source": [
    "#### Remove numbers from vectorizer\n",
    "\n",
    "Implement preprocess function"
   ]
  },
  {
   "cell_type": "code",
   "execution_count": 137,
   "metadata": {},
   "outputs": [],
   "source": [
    "def preprocess_text(text):\n",
    "    \n",
    "#if text is empty, return empty bag of words\n",
    "    if (text == None):\n",
    "        return []\n",
    "\n",
    "    if (len(text) < 1):\n",
    "        return []\n",
    "#remove numbers\n",
    "    text = text.lower()\n",
    "    text = re.sub(r'\\d+', '', text)\n",
    "\n",
    "#define common words in data to remove\n",
    "    COMMON_WORDS = [\"game\",\"point\",\"board\",\"player\",\"rule\",\"turn\",\n",
    "                \"tile\",\"card\",\"deck\",\"hand\",\"points\",\"victory\",\n",
    "                \"win\",\"lose\",\"defeat\",\"players\",\"play\"]\n",
    "    \n",
    "# #removes common words\n",
    "#     for word in text.split():\n",
    "#         if word in COMMON_WORDS:\n",
    "#             text = text.replace(word, \"\")\n",
    "\n",
    "#tokenize sentences and add part of speech tag\n",
    "    sent_tokens = sent_tokenize(text)\n",
    "\n",
    "    tokens = list(map(word_tokenize, sent_tokens))\n",
    "\n",
    "    sent_tags = list(map(pos_tag, tokens))\n",
    "\n",
    "    grammar = r\"\"\"\n",
    "        SENT: {<(J|N).*>}    \"\"\"\n",
    "\n",
    "    cp = RegexpParser(grammar)\n",
    "    ret_tokens = list()\n",
    "    stemmer_snowball = SnowballStemmer('english')\n",
    "    lemmatizer = WordNetLemmatizer()\n",
    "\n",
    "    for sent in sent_tags:\n",
    "        tree = cp.parse(sent)\n",
    "        for subtree in tree.subtrees():\n",
    "            if subtree.label() == 'SENT':\n",
    "                t_tokenlist = [tpos[0].lower() for tpos in subtree.leaves()]\n",
    "                \n",
    "                t_tokens_lemmatize = list(map(lemmatizer.lemmatize, t_tokenlist))\n",
    "                t_tokens_stemsnowball = list(map(stemmer_snowball.stem, t_tokens_lemmatize))\n",
    "                ret_tokens.extend(t_tokens_stemsnowball)\n",
    "    ret = []\n",
    "\n",
    "#runs through the ret_tokens and compare with common words again and removes common words\n",
    "    for token in ret_tokens:\n",
    "        if token in COMMON_WORDS:\n",
    "            pass\n",
    "        else:\n",
    "            ret.append(token)\n",
    "    return(' '.join(ret))"
   ]
  },
  {
   "cell_type": "code",
   "execution_count": null,
   "metadata": {},
   "outputs": [],
   "source": []
  },
  {
   "cell_type": "code",
   "execution_count": 138,
   "metadata": {},
   "outputs": [],
   "source": [
    "count_vectorizer = CountVectorizer(stop_words=sw, \n",
    "                                   preprocessor=preprocess_text, \n",
    "                                   max_df=0.85,\n",
    "                                  min_df=2, \n",
    "                                   max_features=1000,\n",
    "                                  strip_accents='unicode')"
   ]
  },
  {
   "cell_type": "code",
   "execution_count": 139,
   "metadata": {},
   "outputs": [
    {
     "name": "stderr",
     "output_type": "stream",
     "text": [
      "/home/zy/anaconda3/lib/python3.7/site-packages/sklearn/feature_extraction/text.py:386: UserWarning: Your stop_words may be inconsistent with your preprocessing. Tokenizing the stop words generated tokens ['ourselv', 'sha', 'victori', 'yourselv'] not in stop_words.\n",
      "  'stop_words.' % sorted(inconsistent))\n"
     ]
    }
   ],
   "source": [
    "word_vec = count_vectorizer.fit_transform(worddata['description'])"
   ]
  },
  {
   "cell_type": "code",
   "execution_count": 140,
   "metadata": {
    "scrolled": true
   },
   "outputs": [
    {
     "data": {
      "text/plain": [
       "LatentDirichletAllocation(learning_method='online', n_jobs=-2,\n",
       "                          random_state=1659)"
      ]
     },
     "execution_count": 140,
     "metadata": {},
     "output_type": "execute_result"
    }
   ],
   "source": [
    "lda = LatentDirichletAllocation(learning_method='online', n_jobs=-2, \n",
    "                                random_state=1659)\n",
    "lda.fit(word_vec)"
   ]
  },
  {
   "cell_type": "code",
   "execution_count": 21,
   "metadata": {},
   "outputs": [],
   "source": [
    "def top_topic_features(model, feature_names, num_features=10):\n",
    "    sorted_topics = feature_names[model.components_.argsort(axis=1)[:, ::-1][:, :num_features]]\n",
    "    return sorted_topics"
   ]
  },
  {
   "cell_type": "code",
   "execution_count": 141,
   "metadata": {
    "scrolled": true
   },
   "outputs": [
    {
     "data": {
      "text/plain": [
       "array([['number', 'round', 'first', 'th', 'score', 'color', 'token',\n",
       "        'valu', 'end', 'anim'],\n",
       "       ['dice', 'die', 'question', 'roll', 'child', 'parti', 'answer',\n",
       "        'challeng', 'eacut', 'fun'],\n",
       "       ['hero', 'ship', 'new', 'star', 'king', 'dragon', 'planet',\n",
       "        'dungeon', 'pack', 'expans'],\n",
       "       ['citi', 'race', 'track', 'money', 'phase', 'car', 'zombi',\n",
       "        'monopoli', 'train', 'cube'],\n",
       "       ['team', 'word', 'letter', 'british', 'aacut', 'block', 'sid',\n",
       "        'la', 'que', 'six'],\n",
       "       ['battl', 'war', 'unit', 'scenario', 'combat', 'armi', 'map',\n",
       "        'forc', 'th', 'counter'],\n",
       "       ['new', 'rsquo', 'expans', 'rdquo', 'ldquo', 'edit', 'bull',\n",
       "        'action', 'set', 'compani'],\n",
       "       ['charact', 'action', 'time', 'power', 'world', 'monster', 'way',\n",
       "        'build', 'differ', 'good'],\n",
       "       ['piec', 'space', 'oppon', 'move', 'squar', 'pawn', 'side',\n",
       "        'number', 'th', 'first'],\n",
       "       ['ndash', 'red', 'black', 'stone', 'treasur', 'color', 'blue',\n",
       "        'white', 'island', 'ball']], dtype='<U11')"
      ]
     },
     "execution_count": 141,
     "metadata": {},
     "output_type": "execute_result"
    }
   ],
   "source": [
    "feature_names = np.array(count_vectorizer.get_feature_names())\n",
    "top_topic_features(lda, feature_names=feature_names)\n"
   ]
  },
  {
   "cell_type": "markdown",
   "metadata": {},
   "source": [
    "### Create Probability Matrix"
   ]
  },
  {
   "cell_type": "code",
   "execution_count": 23,
   "metadata": {},
   "outputs": [],
   "source": [
    "def predict_proba(model, vectorizer, text):\n",
    "    if type(text) == str:\n",
    "        text = [text]\n",
    "    vec_text = vectorizer.transform(text)\n",
    "    doc_probs = model.transform(vec_text)\n",
    "    return doc_probs"
   ]
  },
  {
   "cell_type": "code",
   "execution_count": 142,
   "metadata": {},
   "outputs": [],
   "source": [
    "game_probs = predict_proba(lda, count_vectorizer, worddata.description)"
   ]
  },
  {
   "cell_type": "code",
   "execution_count": 143,
   "metadata": {},
   "outputs": [],
   "source": [
    "#pickle the fitted transformed model\n",
    "\n",
    "with open('../models/lda.pickle', 'wb') as f:\n",
    "    pickle.dump([lda,count_vectorizer,game_probs], f)"
   ]
  },
  {
   "cell_type": "markdown",
   "metadata": {},
   "source": [
    "## Building the Recommender"
   ]
  },
  {
   "cell_type": "code",
   "execution_count": 22,
   "metadata": {},
   "outputs": [],
   "source": [
    "# function to find index of FIRST  game given the game title\n",
    "\n",
    "def find_game_idx(df, game_title):\n",
    "    try:\n",
    "        return df.name[df.name.str.contains(game_title)].index[0]\n",
    "    except:\n",
    "        return None\n",
    "\n",
    "def find_game_id(df, idx):\n",
    "    return df['game.id'].iloc[idx]\n"
   ]
  },
  {
   "cell_type": "markdown",
   "metadata": {},
   "source": [
    "## TODO: if search returns multiple results, what then?? Need to solve this"
   ]
  },
  {
   "cell_type": "code",
   "execution_count": 23,
   "metadata": {},
   "outputs": [
    {
     "data": {
      "text/plain": [
       "11"
      ]
     },
     "execution_count": 23,
     "metadata": {},
     "output_type": "execute_result"
    }
   ],
   "source": [
    "search = worddata.name.str.contains('Betrayal')\n",
    "search.sum()\n"
   ]
  },
  {
   "cell_type": "markdown",
   "metadata": {},
   "source": [
    "## /TODO"
   ]
  },
  {
   "cell_type": "code",
   "execution_count": 25,
   "metadata": {},
   "outputs": [],
   "source": [
    "from sklearn.metrics.pairwise import cosine_distances, euclidean_distances"
   ]
  },
  {
   "cell_type": "code",
   "execution_count": 26,
   "metadata": {},
   "outputs": [],
   "source": [
    "def sort_by_distance(idx, probs, distance_funct=cosine_distances, num_games=10):\n",
    "    #returns array of indices of games closest to the provided game index\n",
    "    return distance_funct(probs[idx].reshape(1,-1), probs).ravel().argsort()[:10]"
   ]
  },
  {
   "cell_type": "markdown",
   "metadata": {},
   "source": [
    "* Debug sort_by_distance function\n",
    "* check distances inside the function\n"
   ]
  },
  {
   "cell_type": "code",
   "execution_count": 27,
   "metadata": {},
   "outputs": [],
   "source": [
    "def find_closest_games_names(sorted_distances, names):\n",
    "    #finds names of an array of game idx's\n",
    "    name_array = names.iloc[sorted_distances]\n",
    "    return name_array"
   ]
  },
  {
   "cell_type": "code",
   "execution_count": 132,
   "metadata": {},
   "outputs": [],
   "source": [
    "def recommend(df, game_title, prob_matrix, \n",
    "             distance_funct=cosine_distances, num_games=10):\n",
    "    game_index = find_game_idx(df, game_title)\n",
    "    game_sim = sort_by_distance(game_index, prob_matrix, distance_funct, num_games)\n",
    "    game_recs = find_closest_games_names(game_sim, df.name)\n",
    "    game_ids = find_game_id(df, game_rec.index)\n",
    "    \n",
    "#     rec_df = pd.DataFrame({'id':game_ids,'name':game_recs})\n",
    "    rec_df = find_closest_games(game_sim,df)\n",
    "    \n",
    "    return rec_df"
   ]
  },
  {
   "cell_type": "code",
   "execution_count": 29,
   "metadata": {
    "scrolled": true
   },
   "outputs": [
    {
     "ename": "NameError",
     "evalue": "name 'game_probs' is not defined",
     "output_type": "error",
     "traceback": [
      "\u001b[0;31m---------------------------------------------------------------------------\u001b[0m",
      "\u001b[0;31mNameError\u001b[0m                                 Traceback (most recent call last)",
      "\u001b[0;32m<ipython-input-29-4e471dbef386>\u001b[0m in \u001b[0;36m<module>\u001b[0;34m\u001b[0m\n\u001b[0;32m----> 1\u001b[0;31m \u001b[0mgame_rec\u001b[0m \u001b[0;34m=\u001b[0m \u001b[0mrecommend\u001b[0m\u001b[0;34m(\u001b[0m\u001b[0mworddata\u001b[0m\u001b[0;34m,\u001b[0m \u001b[0;34m'Catan'\u001b[0m\u001b[0;34m,\u001b[0m \u001b[0mgame_probs\u001b[0m\u001b[0;34m)\u001b[0m\u001b[0;34m\u001b[0m\u001b[0;34m\u001b[0m\u001b[0m\n\u001b[0m\u001b[1;32m      2\u001b[0m \u001b[0mgame_rec\u001b[0m\u001b[0;34m\u001b[0m\u001b[0;34m\u001b[0m\u001b[0m\n",
      "\u001b[0;31mNameError\u001b[0m: name 'game_probs' is not defined"
     ]
    }
   ],
   "source": [
    "game_rec = recommend(worddata, 'Catan', game_probs)\n",
    "game_rec"
   ]
  },
  {
   "cell_type": "code",
   "execution_count": 126,
   "metadata": {},
   "outputs": [],
   "source": [
    "def find_closest_games(sorted_distances, gamedata_df):\n",
    "    #finds names of an array of game idx's\n",
    "    name_array = gamedata_df.iloc[sorted_distances]\n",
    "    return name_array"
   ]
  },
  {
   "cell_type": "code",
   "execution_count": 151,
   "metadata": {},
   "outputs": [],
   "source": [
    "#save prob matrix for use later\n",
    "with open('../models/prob_matrix.pickle', 'wb') as f:\n",
    "    pickle.dump(game_probs,f)"
   ]
  },
  {
   "cell_type": "markdown",
   "metadata": {},
   "source": [
    "## TODO: use suprise Library to test"
   ]
  },
  {
   "cell_type": "code",
   "execution_count": 165,
   "metadata": {},
   "outputs": [
    {
     "name": "stdout",
     "output_type": "stream",
     "text": [
      "<class 'pandas.core.frame.DataFrame'>\n",
      "RangeIndex: 74264 entries, 0 to 74263\n",
      "Data columns (total 5 columns):\n",
      " #   Column       Non-Null Count  Dtype \n",
      "---  ------       --------------  ----- \n",
      " 0   game.id      74264 non-null  int64 \n",
      " 1   name         74264 non-null  object\n",
      " 2   description  74264 non-null  object\n",
      " 3   category     74264 non-null  object\n",
      " 4   mechanic     74264 non-null  object\n",
      "dtypes: int64(1), object(4)\n",
      "memory usage: 2.8+ MB\n"
     ]
    }
   ],
   "source": [
    "worddata.info()"
   ]
  },
  {
   "cell_type": "code",
   "execution_count": 146,
   "metadata": {},
   "outputs": [],
   "source": [
    "def load_data():\n",
    "    with open('../data/boardgamedata.pickle', 'rb') as f:\n",
    "        worddata, numdata = pickle.load(f)\n",
    "    worddata.reset_index(drop=True, inplace=True)\n",
    "\n",
    "    return worddata, numdata\n",
    "\n",
    "def load_model():\n",
    "    with open('../models/prob_matrix.pickle', 'rb') as f:\n",
    "        game_probs = pickle.load(f)\n",
    "    return game_probs\n",
    "\n",
    "def find_game_idx(df, game_title):\n",
    "    #returns the first found index of a game given a name search string query\n",
    "    return df.name[df.name.str.contains(game_title)].index[0]\n",
    "\n",
    "\n",
    "def find_game_id(df, idx):\n",
    "    #returns game id of an array of indices of games\n",
    "    return df['game.id'].iloc[idx]\n",
    "\n",
    "\n",
    "def sort_by_distance(idx, probs, num_games):\n",
    "    #returns array of indices of games most similiar to the provided game index\n",
    "    return cosine_distances(probs[idx].reshape(1,-1), probs).ravel().argsort()[:num_games]\n",
    "\n",
    "def find_closest_games_names(sorted_distances, names):\n",
    "    #finds names of an array of game idx's\n",
    "    name_array = names.iloc[sorted_distances]\n",
    "    return name_array\n",
    "\n",
    "def find_closest_games(sorted_distances, gamedata_df):\n",
    "    #finds names of an array of game idx's\n",
    "    name_array = gamedata_df.iloc[sorted_distances]\n",
    "    return name_array\n",
    "\n",
    "def recommend_games(game_title, num_games):\n",
    "    #returns recommendations for games in a list format\n",
    "    df, numdata = load_data()\n",
    "    prob_matrix = load_model()\n",
    "    \n",
    "    game_index = find_game_idx(df, game_title)\n",
    "    game_sim = sort_by_distance(game_index, prob_matrix, num_games)\n",
    "    game_recs = find_closest_games_names(game_sim, df.name)\n",
    "    game_ids = find_game_id(df, game_recs.index)\n",
    "    \n",
    "    rec_df = find_closest_games(game_sim,df)\n",
    "    to_html = rec_df.drop(axis=1,columns='game.id')\n",
    "    to_html['category'] = to_html.category.apply(lambda x: \",\".join(x))\n",
    "    to_html['mechanic'] = to_html.mechanic.apply(lambda x: \",\".join(x))\n",
    "    to_html['short_desc'] = to_html.description.apply(lambda x: ' '.join(re.split(r'(?<=[.:;])\\s', x)[:4]))\n",
    "    to_html['short_desc'] = to_html['short_desc'].apply(lambda x: lxml.html.fromstring(x).text_content())\n",
    "    to_html.drop(axis=1,columns='description',inplace=True)\n",
    "\n",
    "    return to_html"
   ]
  },
  {
   "cell_type": "code",
   "execution_count": 154,
   "metadata": {},
   "outputs": [],
   "source": [
    "data = recommend_games(\"Catan\", 15)"
   ]
  },
  {
   "cell_type": "code",
   "execution_count": 155,
   "metadata": {},
   "outputs": [
    {
     "data": {
      "text/html": [
       "<div>\n",
       "<style scoped>\n",
       "    .dataframe tbody tr th:only-of-type {\n",
       "        vertical-align: middle;\n",
       "    }\n",
       "\n",
       "    .dataframe tbody tr th {\n",
       "        vertical-align: top;\n",
       "    }\n",
       "\n",
       "    .dataframe thead th {\n",
       "        text-align: right;\n",
       "    }\n",
       "</style>\n",
       "<table border=\"1\" class=\"dataframe\">\n",
       "  <thead>\n",
       "    <tr style=\"text-align: right;\">\n",
       "      <th></th>\n",
       "      <th>name</th>\n",
       "      <th>category</th>\n",
       "      <th>mechanic</th>\n",
       "      <th>short_desc</th>\n",
       "    </tr>\n",
       "  </thead>\n",
       "  <tbody>\n",
       "    <tr>\n",
       "      <th>12</th>\n",
       "      <td>Catan</td>\n",
       "      <td>Negotiation</td>\n",
       "      <td>Dice Rolling,Hand Management,Modular Board,Route/Network Building,Trading</td>\n",
       "      <td>In Catan (formerly The Settlers of Catan), players try to be the dominant force on the island of Catan by building settlements, cities, and roads. On each turn dice are rolled to determine what resources the island produces. Players collect these resources (cards)&amp;mdash;wood, grain, brick, sheep, or stone&amp;mdash;to build up their civilizations to get to 10 victory points and win the game.Setup includes randomly placing large hexagonal tiles (each showing a resource or the desert) in a honeycomb shape and surrounding them with water tiles, some of which contain ports of exchange. Number disks, which will correspond to die rolls (two 6-sided dice are used), are placed on each resource tile.</td>\n",
       "    </tr>\n",
       "    <tr>\n",
       "      <th>36033</th>\n",
       "      <td>Humans!!! 2: Sea Food</td>\n",
       "      <td>Expansion for Base-game,Fighting,Horror,Humor</td>\n",
       "      <td>Hand Management,Roll,Spin and Move,Variable Player Powers</td>\n",
       "      <td>Twilight Creations is pleased to announce our first expansion for our popular Humans!!! line. Humans!!! 2: Sea Food is set on a naval base and features 16 new event cards, 16 new tiles, rules and 10 new zombie navy figure pawns with player card. Map Tile art is by Kurt Miller, and Event card art is by fan favorite David Aikins.Part of the Zombies!!! series.</td>\n",
       "    </tr>\n",
       "    <tr>\n",
       "      <th>37737</th>\n",
       "      <td>Geckopoly</td>\n",
       "      <td>Economic,Negotiation</td>\n",
       "      <td>Auction/Bidding,Roll,Spin and Move,Set Collection,Trading</td>\n",
       "      <td>Geico Insurance, the company known for its great rates, superior service, and, of course, its talkative gecko mascot, created this custom game to reward its agents for meeting and exceeding sales goals. A promotional game, yes, but the omnipresent gecko made it a popular purchase at Geico company store sites, as well. Themed with an engaging city-by-city travel slant, and styled with a very contemporary look, GECKOPOLY had the Company&amp;rsquo;s competitors seeing green!Publisher's Description</td>\n",
       "    </tr>\n",
       "    <tr>\n",
       "      <th>7408</th>\n",
       "      <td>Peanut Butter &amp; Jelly</td>\n",
       "      <td>Children's Game,Racing</td>\n",
       "      <td>Pattern Recognition,Set Collection</td>\n",
       "      <td>Let's race to see who'll be first to match the pieces and make a peanut butter and jelly sandwich in proper sandwich order. Players use a spinner to acquire sandwich components: bread, peanut butter, and jelly.This is apparently a different game than Peanut Butter &amp; Jelly, which also had an edition from Parker Brothers in 1971.</td>\n",
       "    </tr>\n",
       "    <tr>\n",
       "      <th>7502</th>\n",
       "      <td>Transaction</td>\n",
       "      <td>Economic,Educational</td>\n",
       "      <td>Auction/Bidding,Secret Unit Deployment,Simultaneous Action Selection,Stock Holding</td>\n",
       "      <td>Transaction, the wall street game is the result of over ten years of work.  With the game you can simulate conditions as they happen in the actual stock market.  This is not just a game of printed cards, spinners, dice and paraphernalia usually found in a game.  Actual happenings have been carefully gathered and programmed into a new device which releases authentic stock market data similar to the release of such data by an expensive electronic data processing unit.</td>\n",
       "    </tr>\n",
       "  </tbody>\n",
       "</table>\n",
       "</div>"
      ],
      "text/plain": [
       "                        name                                       category                                                                            mechanic                                                                                                                                                                                                                                                                                                                                                                                                                                                                                                                                                                                                                                                                                                                short_desc\n",
       "12     Catan                  Negotiation                                    Dice Rolling,Hand Management,Modular Board,Route/Network Building,Trading           In Catan (formerly The Settlers of Catan), players try to be the dominant force on the island of Catan by building settlements, cities, and roads. On each turn dice are rolled to determine what resources the island produces. Players collect these resources (cards)&mdash;wood, grain, brick, sheep, or stone&mdash;to build up their civilizations to get to 10 victory points and win the game.Setup includes randomly placing large hexagonal tiles (each showing a resource or the desert) in a honeycomb shape and surrounding them with water tiles, some of which contain ports of exchange. Number disks, which will correspond to die rolls (two 6-sided dice are used), are placed on each resource tile.\n",
       "36033  Humans!!! 2: Sea Food  Expansion for Base-game,Fighting,Horror,Humor  Hand Management,Roll,Spin and Move,Variable Player Powers                           Twilight Creations is pleased to announce our first expansion for our popular Humans!!! line. Humans!!! 2: Sea Food is set on a naval base and features 16 new event cards, 16 new tiles, rules and 10 new zombie navy figure pawns with player card. Map Tile art is by Kurt Miller, and Event card art is by fan favorite David Aikins.Part of the Zombies!!! series.                                                                                                                                                                                                                                                                                                                                                 \n",
       "37737  Geckopoly              Economic,Negotiation                           Auction/Bidding,Roll,Spin and Move,Set Collection,Trading                           Geico Insurance, the company known for its great rates, superior service, and, of course, its talkative gecko mascot, created this custom game to reward its agents for meeting and exceeding sales goals. A promotional game, yes, but the omnipresent gecko made it a popular purchase at Geico company store sites, as well. Themed with an engaging city-by-city travel slant, and styled with a very contemporary look, GECKOPOLY had the Company&rsquo;s competitors seeing green!Publisher's Description                                                                                                                                                                                                         \n",
       "7408   Peanut Butter & Jelly  Children's Game,Racing                         Pattern Recognition,Set Collection                                                  Let's race to see who'll be first to match the pieces and make a peanut butter and jelly sandwich in proper sandwich order. Players use a spinner to acquire sandwich components: bread, peanut butter, and jelly.This is apparently a different game than Peanut Butter & Jelly, which also had an edition from Parker Brothers in 1971.                                                                                                                                                                                                                                                                                                                                                                               \n",
       "7502   Transaction            Economic,Educational                           Auction/Bidding,Secret Unit Deployment,Simultaneous Action Selection,Stock Holding  Transaction, the wall street game is the result of over ten years of work.  With the game you can simulate conditions as they happen in the actual stock market.  This is not just a game of printed cards, spinners, dice and paraphernalia usually found in a game.  Actual happenings have been carefully gathered and programmed into a new device which releases authentic stock market data similar to the release of such data by an expensive electronic data processing unit.                                                                                                                                                                                                                                  "
      ]
     },
     "execution_count": 155,
     "metadata": {},
     "output_type": "execute_result"
    }
   ],
   "source": [
    "data.head()\n"
   ]
  },
  {
   "cell_type": "code",
   "execution_count": 94,
   "metadata": {
    "scrolled": true
   },
   "outputs": [
    {
     "data": {
      "text/plain": [
       "'In Catan (formerly The Settlers of Catan), players try to be the dominant force on the island of Catan by building settlements, cities, and roads. On each turn dice are rolled to determine what resources the island produces. Players collect these resources (cards)&mdash;wood, grain, brick, sheep, or stone&mdash;to build up their civilizations to get to 10 victory points and win the game.&#10;&#10;Setup includes randomly placing large hexagonal tiles (each showing a resource or the desert) in a honeycomb shape and surrounding them with water tiles, some of which contain ports of exchange.'"
      ]
     },
     "execution_count": 94,
     "metadata": {},
     "output_type": "execute_result"
    }
   ],
   "source": [
    "text = data.description.iloc[0]\n",
    "' '.join(re.split(r'(?<=[.:;])\\s', text)[:3])"
   ]
  },
  {
   "cell_type": "code",
   "execution_count": 95,
   "metadata": {},
   "outputs": [],
   "source": [
    "data['short_desc'] = data.description.apply(lambda x: ' '.join(re.split(r'(?<=[.:;])\\s', x)[:4]))"
   ]
  },
  {
   "cell_type": "code",
   "execution_count": 163,
   "metadata": {},
   "outputs": [],
   "source": [
    "import lxml.html\n",
    "data['short_desc'] = data['short_desc'].apply(lambda x: lxml.html.fromstring(x).text_content())"
   ]
  },
  {
   "cell_type": "code",
   "execution_count": null,
   "metadata": {},
   "outputs": [],
   "source": []
  }
 ],
 "metadata": {
  "kernelspec": {
   "display_name": "Python 3",
   "language": "python",
   "name": "python3"
  },
  "language_info": {
   "codemirror_mode": {
    "name": "ipython",
    "version": 3
   },
   "file_extension": ".py",
   "mimetype": "text/x-python",
   "name": "python",
   "nbconvert_exporter": "python",
   "pygments_lexer": "ipython3",
   "version": "3.7.7"
  }
 },
 "nbformat": 4,
 "nbformat_minor": 4
}
