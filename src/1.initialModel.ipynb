{
 "cells": [
  {
   "cell_type": "code",
   "execution_count": 9,
   "metadata": {},
   "outputs": [],
   "source": [
    "import psycopg2 as pg2\n",
    "import pandas as pd\n",
    "# pd.set_option('display.expand_frame_repr', False)\n",
    "# pd.set_option('display.max_colwidth', -1)\n",
    "import pprint \n",
    "import string\n",
    "import unicodedata\n",
    "import numpy as np\n",
    "import pickle\n",
    "\n",
    "from PIL import Image\n",
    "from wordcloud import WordCloud, STOPWORDS, ImageColorGenerator\n",
    "from sklearn.decomposition import LatentDirichletAllocation\n",
    "import matplotlib.pyplot as plt\n",
    "\n",
    "from sklearn.preprocessing import StandardScaler\n",
    "from sklearn.decomposition import PCA\n",
    "from sklearn import decomposition\n",
    "\n",
    "import matplotlib.pyplot as plt\n",
    "from pandas.plotting import scatter_matrix\n",
    "\n",
    "import nltk\n",
    "from nltk.tokenize import sent_tokenize\n",
    "from nltk.tokenize import word_tokenize\n",
    "from nltk.corpus import stopwords\n",
    "from nltk.stem.porter import PorterStemmer\n",
    "from nltk.stem.snowball import SnowballStemmer\n",
    "from nltk.stem.wordnet import WordNetLemmatizer\n",
    "from nltk.util import ngrams\n",
    "from nltk import pos_tag\n",
    "from nltk import RegexpParser\n",
    "import re\n",
    "\n",
    "from sklearn.feature_extraction.text import TfidfVectorizer\n",
    "from sklearn.feature_extraction.text import CountVectorizer\n",
    "from sklearn.cluster import KMeans"
   ]
  },
  {
   "cell_type": "markdown",
   "metadata": {},
   "source": [
    "## Import pickled cleaned data from previous project"
   ]
  },
  {
   "cell_type": "code",
   "execution_count": 10,
   "metadata": {},
   "outputs": [],
   "source": [
    "with open('../data/boardgamedata.pickle', 'rb') as f:\n",
    "    worddata, numdata = pickle.load(f)\n",
    "    \n",
    "worddata.reset_index(drop=True, inplace=True)"
   ]
  },
  {
   "cell_type": "code",
   "execution_count": 11,
   "metadata": {},
   "outputs": [
    {
     "data": {
      "text/html": [
       "<div>\n",
       "<style scoped>\n",
       "    .dataframe tbody tr th:only-of-type {\n",
       "        vertical-align: middle;\n",
       "    }\n",
       "\n",
       "    .dataframe tbody tr th {\n",
       "        vertical-align: top;\n",
       "    }\n",
       "\n",
       "    .dataframe thead th {\n",
       "        text-align: right;\n",
       "    }\n",
       "</style>\n",
       "<table border=\"1\" class=\"dataframe\">\n",
       "  <thead>\n",
       "    <tr style=\"text-align: right;\">\n",
       "      <th></th>\n",
       "      <th>game.id</th>\n",
       "      <th>name</th>\n",
       "      <th>description</th>\n",
       "      <th>category</th>\n",
       "      <th>mechanic</th>\n",
       "    </tr>\n",
       "  </thead>\n",
       "  <tbody>\n",
       "    <tr>\n",
       "      <th>10</th>\n",
       "      <td>10</td>\n",
       "      <td>Elfenland</td>\n",
       "      <td>Elfenland is a redesign of the original White Wind game Elfenroads.  The game is set in the mythical world of the elves.  A group of fledgling elves (the players) are charged with visiting as many of the twenty Elfencities as they can over the course of 4 rounds.  To accomplish the task they will use various forms of transportation such as Giant Pigs, Elfcarts, Unicorns, Rafts, Magic Clouds, Trollwagons, and Dragons.&amp;#10;&amp;#10;Gameplay:  Players begin in the Elf capitol, draw one face down movement tile, and are dealt eight transport cards and a secret 'home' city card that they must reach at the end of the 4th round or lose points for each city space away from 'home' they are at the end of the game. Markers of each player's color are placed in each city on the board and are collected when the player visits that city (each counts as 1 point).&amp;#10;  &amp;#10;     The round proceeds in 2 stages.  The first part of the round consists of the drawing of Tiles showing the differing types of transport (except rafts) from a combination of face up and face down tiles (if a player doesn't like the 5 tiles that are face up; they can always draw blind from the face down tiles and hope to get one they need).  These transport tiles need to match the Transportation cards in your hand to use them most effectively.  After each player has a total of 4 tiles they take turns placing a tile on any one of the roads that run between the elf cities.  Only one transport tile may be placed on each road; so players may use other players tiles to travel if they have the matching cards in their hand.  This frequently causes a readjustment of planned travel routes as other players tiles can allow you to move farther or shorter than you had first thought.  Players can play their tiles to help themselves or hinder others by playing a slow mode of transport on another players (perceived) path.&amp;#10;&amp;#10;Each mode of transport has certain terrain it can travel through quickly or slowly, and those that it cannot. These are listed on the top of each transportation card by the number terrain symbols.  The number of terrain symbols equals how many matching cards you must play to move across a given tile in a given terrain.  For example, a Magic Cloud tile placed in a mountain would take one Magic cloud card to travel across (1 mountain symbol on card means Magic clouds are fast in mountains). If the same tile was placed on a road in forest terrain it would require 2 Magic Cloud cards to travel that route (2 Forest symbols on card means Magic Clouds are slow in Forest).  Magic Clouds cannot travel in desert terrain at all (no desert symbols on card). All modes of transport are different and Rafts can be used on rivers or lakes without needing tiles. Rafts go slow upstream (2 raft cards needed) and fast downstream (1 card needed).  The small lake requires 1 raft card to travel across and the larger lake requires 2 cards to travel across.  Players may keep one unused transport counter and up to 4 Transportation cards from one round to the next.&amp;#10;&amp;#10;The second part of the round begins after all players have finished placing their transportation tiles for the round.  Each player plays his cards and moves his elf-boot around the board collecting his tokens from the cities visited.  If there is a Transport tile on a route and a player has no matching Transportation card he may 'Caravan' across it by playing any 3 Transportation cards from his hand.&amp;#10;&amp;#10;As a bit of 'take that' each player has a trouble tile which can be placed next to any transportation tile during the first part of the round.  This counter means that in order to travel that path an additional card of the transport type must be played or 4 cards to 'Caravan'.&amp;#10;&amp;#10;Victory: if at the end of round 3 a player has visited all 20 cities he is the winner.  If not the game ends after round 4 when 'Home' cities are revealed and each player subtracts points for each city he is away from his 'home' subtracting that from his collected city tokens.  The person with the highest score wins.&amp;#10;&amp;#10;</td>\n",
       "      <td>[Fantasy, Travel]</td>\n",
       "      <td>[Card Drafting, Hand Management, Point to Point Movement, Route/Network Building]</td>\n",
       "    </tr>\n",
       "    <tr>\n",
       "      <th>11</th>\n",
       "      <td>12</td>\n",
       "      <td>Ra</td>\n",
       "      <td>Ra is an auction and set-collection game with an Ancient Egyptian theme.  Each turn players are able to purchase lots of tiles with their bidding tiles (suns).  Once a player has used up his or her suns, the other players continue until they do likewise, which may set up a situation with a single uncontested player bidding on tiles before the end of the round occurs.  Tension builds because the round may end before all players have had a chance to win their three lots for the epoch.  The various tiles either give immediate points, prevent negative points for not having certain types at the end of the round (epoch), or give points after the final round.  The game lasts for three &amp;quot;epochs&amp;quot; (rounds).  The game offers a short learning curve, and experienced players find it both fast-moving and a quick play.&amp;#10;&amp;#10;From the Box:&amp;#10;The game spans 1500 years of Egyptian history in less than an hour!&amp;#10;The players seek to expand their power and fame and there are many ways to accomplish this: Influencing Pharaohs, Building monuments, Farming on the Nile, Paying homage to the Gods, Advancing the technology and culture of the people. Ra is an auction and set collecting game where players may choose to take risks for great rewards or... And all this is for the glory of the Sun God Ra!&amp;#10;&amp;#10;</td>\n",
       "      <td>[Ancient, Mythology]</td>\n",
       "      <td>[Auction/Bidding, Press Your Luck, Set Collection]</td>\n",
       "    </tr>\n",
       "    <tr>\n",
       "      <th>12</th>\n",
       "      <td>13</td>\n",
       "      <td>Catan</td>\n",
       "      <td>In Catan (formerly The Settlers of Catan), players try to be the dominant force on the island of Catan by building settlements, cities, and roads. On each turn dice are rolled to determine what resources the island produces. Players collect these resources (cards)&amp;mdash;wood, grain, brick, sheep, or stone&amp;mdash;to build up their civilizations to get to 10 victory points and win the game.&amp;#10;&amp;#10;Setup includes randomly placing large hexagonal tiles (each showing a resource or the desert) in a honeycomb shape and surrounding them with water tiles, some of which contain ports of exchange. Number disks, which will correspond to die rolls (two 6-sided dice are used), are placed on each resource tile. Each player is given two settlements (think: houses) and roads (sticks) which are, in turn, placed on intersections and borders of the resource tiles. Players collect a hand of resource cards based on which hex tiles their last-placed house is adjacent to. A robber pawn is placed on the desert tile.&amp;#10;&amp;#10;A turn consists of possibly playing a development card, rolling the dice, everyone (perhaps) collecting resource cards based on the roll and position of houses (or upgraded cities&amp;mdash;think: hotels) unless a 7 is rolled, turning in resource cards (if possible and desired) for improvements, trading cards at a port, and trading resource cards with other players. If a 7 is rolled, the active player moves the robber to a new hex tile and steals resource cards from other players who have built structures adjacent to that tile.&amp;#10;&amp;#10;Points are accumulated by building settlements and cities, having the longest road and the largest army (from some of the development cards), and gathering certain development cards that simply award victory points. When a player has gathered 10 points (some of which may be held in secret), he announces his total and claims the win.&amp;#10;&amp;#10;Catan has won multiple awards and is one of the most popular games in recent history due to its amazing ability to appeal to experienced gamers as well as those new to the hobby.&amp;#10;&amp;#10;Die Siedler von Catan was originally published by KOSMOS and has gone through multiple editions. It was licensed by Mayfair and has undergone four editions as The Settlers of Catan. In 2015, it was formally renamed Catan to better represent itself as the core and base game of the Catan series. It has been re-published in two travel editions, portable edition and compact edition, as a special gallery edition (replaced in 2009 with a family edition), as an anniversary wooden edition, as a deluxe 3D collector's edition, in the basic Simply Catan, as a beginner version, and with an entirely new theme in Japan and Asia as Settlers of Catan: Rockman Edition. Numerous spin-offs and expansions have also been made for the game.&amp;#10;&amp;#10;</td>\n",
       "      <td>[Negotiation]</td>\n",
       "      <td>[Dice Rolling, Hand Management, Modular Board, Route/Network Building, Trading]</td>\n",
       "    </tr>\n",
       "    <tr>\n",
       "      <th>13</th>\n",
       "      <td>14</td>\n",
       "      <td>Basari</td>\n",
       "      <td>Basari is a game of gem merchants competing in a marketplace&amp;quot;: racing, collecting, trading, and predicting what the other merchants will do.&amp;#10;&amp;#10;To start the game, players receive 12 gemstones (3 each of 4 colors). &amp;#10;Each turn there will be a movement phase and an action phase:&amp;#10;&amp;#10;For movement, everyone simultaneously rolls their die and moves their markers around a track.&amp;#10;&amp;#10;They then choose one of three different actions to perform. The actions are:&amp;#10;- to take a variety of gems from a market stall, &amp;#10;- to immediately score from between 4 and 7 points, or &amp;#10;- to roll and move again and also collect points.&amp;#10;&amp;#10;The action cards are revealed simultaneously. If only 1 player chose a particular action, they simply perform that action. If 2 players chose the same action, they barter back and forth with gemstones. One player will eventually accept the other's offer of gems, and the other will take the action. If 3 or 4 players all chose the same action card, that action is cancelled. Note that in 4-player games, there will always be a conflict in choice of 3 actions, so much more negotiating goes on.&amp;#10;&amp;#10;A new turn begins with everyone rolling their die, moving, then choosing and revealing their action cards. When any merchant piece completes a lap around the board, the round ends and bonus points are awarded based on who has the majority in each gem color and who has completed a lap. After three rounds, the game is over and the highest score wins.&amp;#10;&amp;#10;Re-implemented by:&amp;#10;&amp;#10;&amp;#10;     Edel, Stein &amp; Reich&amp;#10;&amp;#10;&amp;#10;</td>\n",
       "      <td>[Negotiation]</td>\n",
       "      <td>[Roll, Spin and Move, Set Collection, Simultaneous Action Selection]</td>\n",
       "    </tr>\n",
       "    <tr>\n",
       "      <th>14</th>\n",
       "      <td>15</td>\n",
       "      <td>Cosmic Encounter</td>\n",
       "      <td>By request of Fantasy Flight Games, Board Game Geek lists the various editions of Cosmic Encounter in separate entries. Each edition is the same game at its core, but the features, compatible expansions, and production differ among them. This entry is for the original 1977 Eon version.&amp;#10;&amp;#10;Players represent alien races that are seeking to spread themselves onto five foreign worlds.  To accomplish this, they make challenges against other players and enlist the aid of interested parties.  But alien powers, which are unique to each race, give players ways to bend or outright break some rule in the game.&amp;#10;&amp;#10;The game continues until one player occupies five planets in other systems to win. Shared victories are possible and a player need not occupy one's own system to win.&amp;#10;&amp;#10;</td>\n",
       "      <td>[Bluffing, Negotiation, Science Fiction]</td>\n",
       "      <td>[Hand Management, Variable Player Powers]</td>\n",
       "    </tr>\n",
       "  </tbody>\n",
       "</table>\n",
       "</div>"
      ],
      "text/plain": [
       "    game.id              name                                                                                                                                                                                                                                                                                                                                                                                                                                                                                                                                                                                                                                                                                                                                                                                                                                                                                                                                                                                                                                                                                                                                                                                                                                                                                                                                                                                                                                                                                                                                                                                                                                                                                                                                                                                                                                                                                                                                                                                                                                                                                                                                                                                                                                                                                                                                                                                                                                                                                                                                                                                                                                                                                                                                                                                                                                                                                                                                                                                                                                                                                                                                                                                                                                                                                                                                                                                                                                                                                                                                                                                                                                                                                                                                                                                                                                                                                                                                                                                                                                                                                                                                                                                                                                                  description                                  category                                                                           mechanic\n",
       "10  10       Elfenland         Elfenland is a redesign of the original White Wind game Elfenroads.  The game is set in the mythical world of the elves.  A group of fledgling elves (the players) are charged with visiting as many of the twenty Elfencities as they can over the course of 4 rounds.  To accomplish the task they will use various forms of transportation such as Giant Pigs, Elfcarts, Unicorns, Rafts, Magic Clouds, Trollwagons, and Dragons.&#10;&#10;Gameplay:  Players begin in the Elf capitol, draw one face down movement tile, and are dealt eight transport cards and a secret 'home' city card that they must reach at the end of the 4th round or lose points for each city space away from 'home' they are at the end of the game. Markers of each player's color are placed in each city on the board and are collected when the player visits that city (each counts as 1 point).&#10;  &#10;     The round proceeds in 2 stages.  The first part of the round consists of the drawing of Tiles showing the differing types of transport (except rafts) from a combination of face up and face down tiles (if a player doesn't like the 5 tiles that are face up; they can always draw blind from the face down tiles and hope to get one they need).  These transport tiles need to match the Transportation cards in your hand to use them most effectively.  After each player has a total of 4 tiles they take turns placing a tile on any one of the roads that run between the elf cities.  Only one transport tile may be placed on each road; so players may use other players tiles to travel if they have the matching cards in their hand.  This frequently causes a readjustment of planned travel routes as other players tiles can allow you to move farther or shorter than you had first thought.  Players can play their tiles to help themselves or hinder others by playing a slow mode of transport on another players (perceived) path.&#10;&#10;Each mode of transport has certain terrain it can travel through quickly or slowly, and those that it cannot. These are listed on the top of each transportation card by the number terrain symbols.  The number of terrain symbols equals how many matching cards you must play to move across a given tile in a given terrain.  For example, a Magic Cloud tile placed in a mountain would take one Magic cloud card to travel across (1 mountain symbol on card means Magic clouds are fast in mountains). If the same tile was placed on a road in forest terrain it would require 2 Magic Cloud cards to travel that route (2 Forest symbols on card means Magic Clouds are slow in Forest).  Magic Clouds cannot travel in desert terrain at all (no desert symbols on card). All modes of transport are different and Rafts can be used on rivers or lakes without needing tiles. Rafts go slow upstream (2 raft cards needed) and fast downstream (1 card needed).  The small lake requires 1 raft card to travel across and the larger lake requires 2 cards to travel across.  Players may keep one unused transport counter and up to 4 Transportation cards from one round to the next.&#10;&#10;The second part of the round begins after all players have finished placing their transportation tiles for the round.  Each player plays his cards and moves his elf-boot around the board collecting his tokens from the cities visited.  If there is a Transport tile on a route and a player has no matching Transportation card he may 'Caravan' across it by playing any 3 Transportation cards from his hand.&#10;&#10;As a bit of 'take that' each player has a trouble tile which can be placed next to any transportation tile during the first part of the round.  This counter means that in order to travel that path an additional card of the transport type must be played or 4 cards to 'Caravan'.&#10;&#10;Victory: if at the end of round 3 a player has visited all 20 cities he is the winner.  If not the game ends after round 4 when 'Home' cities are revealed and each player subtracts points for each city he is away from his 'home' subtracting that from his collected city tokens.  The person with the highest score wins.&#10;&#10;  [Fantasy, Travel]                         [Card Drafting, Hand Management, Point to Point Movement, Route/Network Building]\n",
       "11  12       Ra                Ra is an auction and set-collection game with an Ancient Egyptian theme.  Each turn players are able to purchase lots of tiles with their bidding tiles (suns).  Once a player has used up his or her suns, the other players continue until they do likewise, which may set up a situation with a single uncontested player bidding on tiles before the end of the round occurs.  Tension builds because the round may end before all players have had a chance to win their three lots for the epoch.  The various tiles either give immediate points, prevent negative points for not having certain types at the end of the round (epoch), or give points after the final round.  The game lasts for three &quot;epochs&quot; (rounds).  The game offers a short learning curve, and experienced players find it both fast-moving and a quick play.&#10;&#10;From the Box:&#10;The game spans 1500 years of Egyptian history in less than an hour!&#10;The players seek to expand their power and fame and there are many ways to accomplish this: Influencing Pharaohs, Building monuments, Farming on the Nile, Paying homage to the Gods, Advancing the technology and culture of the people. Ra is an auction and set collecting game where players may choose to take risks for great rewards or... And all this is for the glory of the Sun God Ra!&#10;&#10;                                                                                                                                                                                                                                                                                                                                                                                                                                                                                                                                                                                                                                                                                                                                                                                                                                                                                                                                                                                                                                                                                                                                                                                                                                                                                                                                                                                                                                                                                                                                                                                                                                                                                                                                                                                                                                                                                                                                                                                                                                                                                                                                                                                                                                                                                                                                                                                                                                                                                                                                                                                                                                                                                                                                                                                                                                                                                      [Ancient, Mythology]                      [Auction/Bidding, Press Your Luck, Set Collection]                               \n",
       "12  13       Catan             In Catan (formerly The Settlers of Catan), players try to be the dominant force on the island of Catan by building settlements, cities, and roads. On each turn dice are rolled to determine what resources the island produces. Players collect these resources (cards)&mdash;wood, grain, brick, sheep, or stone&mdash;to build up their civilizations to get to 10 victory points and win the game.&#10;&#10;Setup includes randomly placing large hexagonal tiles (each showing a resource or the desert) in a honeycomb shape and surrounding them with water tiles, some of which contain ports of exchange. Number disks, which will correspond to die rolls (two 6-sided dice are used), are placed on each resource tile. Each player is given two settlements (think: houses) and roads (sticks) which are, in turn, placed on intersections and borders of the resource tiles. Players collect a hand of resource cards based on which hex tiles their last-placed house is adjacent to. A robber pawn is placed on the desert tile.&#10;&#10;A turn consists of possibly playing a development card, rolling the dice, everyone (perhaps) collecting resource cards based on the roll and position of houses (or upgraded cities&mdash;think: hotels) unless a 7 is rolled, turning in resource cards (if possible and desired) for improvements, trading cards at a port, and trading resource cards with other players. If a 7 is rolled, the active player moves the robber to a new hex tile and steals resource cards from other players who have built structures adjacent to that tile.&#10;&#10;Points are accumulated by building settlements and cities, having the longest road and the largest army (from some of the development cards), and gathering certain development cards that simply award victory points. When a player has gathered 10 points (some of which may be held in secret), he announces his total and claims the win.&#10;&#10;Catan has won multiple awards and is one of the most popular games in recent history due to its amazing ability to appeal to experienced gamers as well as those new to the hobby.&#10;&#10;Die Siedler von Catan was originally published by KOSMOS and has gone through multiple editions. It was licensed by Mayfair and has undergone four editions as The Settlers of Catan. In 2015, it was formally renamed Catan to better represent itself as the core and base game of the Catan series. It has been re-published in two travel editions, portable edition and compact edition, as a special gallery edition (replaced in 2009 with a family edition), as an anniversary wooden edition, as a deluxe 3D collector's edition, in the basic Simply Catan, as a beginner version, and with an entirely new theme in Japan and Asia as Settlers of Catan: Rockman Edition. Numerous spin-offs and expansions have also been made for the game.&#10;&#10;                                                                                                                                                                                                                                                                                                                                                                                                                                                                                                                                                                                                                                                                                                                                                                                                                                                                                                                                                                                                                                                                                                                                                                                                                                                                                                                   [Negotiation]                             [Dice Rolling, Hand Management, Modular Board, Route/Network Building, Trading]  \n",
       "13  14       Basari            Basari is a game of gem merchants competing in a marketplace&quot;: racing, collecting, trading, and predicting what the other merchants will do.&#10;&#10;To start the game, players receive 12 gemstones (3 each of 4 colors). &#10;Each turn there will be a movement phase and an action phase:&#10;&#10;For movement, everyone simultaneously rolls their die and moves their markers around a track.&#10;&#10;They then choose one of three different actions to perform. The actions are:&#10;- to take a variety of gems from a market stall, &#10;- to immediately score from between 4 and 7 points, or &#10;- to roll and move again and also collect points.&#10;&#10;The action cards are revealed simultaneously. If only 1 player chose a particular action, they simply perform that action. If 2 players chose the same action, they barter back and forth with gemstones. One player will eventually accept the other's offer of gems, and the other will take the action. If 3 or 4 players all chose the same action card, that action is cancelled. Note that in 4-player games, there will always be a conflict in choice of 3 actions, so much more negotiating goes on.&#10;&#10;A new turn begins with everyone rolling their die, moving, then choosing and revealing their action cards. When any merchant piece completes a lap around the board, the round ends and bonus points are awarded based on who has the majority in each gem color and who has completed a lap. After three rounds, the game is over and the highest score wins.&#10;&#10;Re-implemented by:&#10;&#10;&#10;     Edel, Stein & Reich&#10;&#10;&#10;                                                                                                                                                                                                                                                                                                                                                                                                                                                                                                                                                                                                                                                                                                                                                                                                                                                                                                                                                                                                                                                                                                                                                                                                                                                                                                                                                                                                                                                                                                                                                                                                                                                                                                                                                                                                                                                                                                                                                                                                                                                                                                                                                                                                                                                                                                                                                                                                                                                                                                                                                                                                    [Negotiation]                             [Roll, Spin and Move, Set Collection, Simultaneous Action Selection]             \n",
       "14  15       Cosmic Encounter  By request of Fantasy Flight Games, Board Game Geek lists the various editions of Cosmic Encounter in separate entries. Each edition is the same game at its core, but the features, compatible expansions, and production differ among them. This entry is for the original 1977 Eon version.&#10;&#10;Players represent alien races that are seeking to spread themselves onto five foreign worlds.  To accomplish this, they make challenges against other players and enlist the aid of interested parties.  But alien powers, which are unique to each race, give players ways to bend or outright break some rule in the game.&#10;&#10;The game continues until one player occupies five planets in other systems to win. Shared victories are possible and a player need not occupy one's own system to win.&#10;&#10;                                                                                                                                                                                                                                                                                                                                                                                                                                                                                                                                                                                                                                                                                                                                                                                                                                                                                                                                                                                                                                                                                                                                                                                                                                                                                                                                                                                                                                                                                                                                                                                                                                                                                                                                                                                                                                                                                                                                                                                                                                                                                                                                                                                                                                                                                                                                                                                                                                                                                                                                                                                                                                                                                                                                                                                                                                                                                                                                                                                                                                                                                                                                                                                                                                                                                                                                                                                                                               [Bluffing, Negotiation, Science Fiction]  [Hand Management, Variable Player Powers]                                        "
      ]
     },
     "execution_count": 11,
     "metadata": {},
     "output_type": "execute_result"
    }
   ],
   "source": [
    "worddata[10:15]"
   ]
  },
  {
   "cell_type": "markdown",
   "metadata": {},
   "source": [
    "## Build LDA Model"
   ]
  },
  {
   "cell_type": "code",
   "execution_count": 12,
   "metadata": {},
   "outputs": [],
   "source": [
    "#define common words in data to remove\n",
    "#built from pervious project\n",
    "sw = set(stopwords.words('english'))\n",
    "\n",
    "COMMON_WORDS = [\"game\",\"point\",\"board\",\"player\",\"rule\",\"turn\",\n",
    "                \"tile\",\"card\",\"deck\",\"hand\",\"points\",\"victory\",\n",
    "                \"win\",\"lose\",\"defeat\",\"quot\",\"players\",\"play\"\n",
    "               ]\n",
    "sw.update(COMMON_WORDS)"
   ]
  },
  {
   "cell_type": "markdown",
   "metadata": {},
   "source": [
    "#### Remove numbers from vectorizer\n",
    "\n",
    "Implement preprocess function"
   ]
  },
  {
   "cell_type": "code",
   "execution_count": 13,
   "metadata": {},
   "outputs": [],
   "source": [
    "def preprocess_text(text):\n",
    "    \n",
    "#if text is empty, return empty bag of words\n",
    "    if (text == None):\n",
    "        return []\n",
    "\n",
    "    if (len(text) < 1):\n",
    "        return []\n",
    "#remove numbers\n",
    "    text = text.lower()\n",
    "    text = re.sub(r'\\d+', '', text)\n",
    "\n",
    "#define common words in data to remove\n",
    "    COMMON_WORDS = [\"game\",\"point\",\"board\",\"player\",\"rule\",\"turn\",\n",
    "                \"tile\",\"card\",\"deck\",\"hand\",\"points\",\"victory\",\n",
    "                \"win\",\"lose\",\"defeat\",\"quot\",\"players\",\"play\"]\n",
    "    \n",
    "#removes common words\n",
    "    for word in text.split():\n",
    "        if word in COMMON_WORDS:\n",
    "            text = text.replace(word, \"\")\n",
    "\n",
    "#tokenize sentences and add part of speech tag\n",
    "    sent_tokens = sent_tokenize(text)\n",
    "\n",
    "    tokens = list(map(word_tokenize, sent_tokens))\n",
    "\n",
    "    sent_tags = list(map(pos_tag, tokens))\n",
    "\n",
    "    grammar = r\"\"\"\n",
    "        SENT: {<(J|N).*>}    \"\"\"\n",
    "\n",
    "    cp = RegexpParser(grammar)\n",
    "    ret_tokens = list()\n",
    "    stemmer_snowball = SnowballStemmer('english')\n",
    "    lemmatizer = WordNetLemmatizer()\n",
    "\n",
    "    for sent in sent_tags:\n",
    "        tree = cp.parse(sent)\n",
    "        for subtree in tree.subtrees():\n",
    "            if subtree.label() == 'SENT':\n",
    "                t_tokenlist = [tpos[0].lower() for tpos in subtree.leaves()]\n",
    "                \n",
    "                t_tokens_lemmatize = list(map(lemmatizer.lemmatize, t_tokenlist))\n",
    "                t_tokens_stemsnowball = list(map(stemmer_snowball.stem, t_tokens_lemmatize))\n",
    "                ret_tokens.extend(t_tokens_stemsnowball)\n",
    "    ret = []\n",
    "\n",
    "#runs through the ret_tokens and compare with common words again and removes common words\n",
    "    for token in ret_tokens:\n",
    "        if token in COMMON_WORDS:\n",
    "            pass\n",
    "        else:\n",
    "            ret.append(token)\n",
    "    return(' '.join(ret))"
   ]
  },
  {
   "cell_type": "code",
   "execution_count": null,
   "metadata": {},
   "outputs": [],
   "source": []
  },
  {
   "cell_type": "code",
   "execution_count": 15,
   "metadata": {},
   "outputs": [],
   "source": [
    "count_vectorizer = CountVectorizer(stop_words=sw, \n",
    "                                   preprocessor=preprocess_text, \n",
    "                                   max_df=0.85,\n",
    "                                  min_df=2, \n",
    "                                   max_features=1000,\n",
    "                                  strip_accents='unicode')"
   ]
  },
  {
   "cell_type": "code",
   "execution_count": 16,
   "metadata": {},
   "outputs": [
    {
     "name": "stderr",
     "output_type": "stream",
     "text": [
      "/home/zy/anaconda3/lib/python3.7/site-packages/sklearn/feature_extraction/text.py:386: UserWarning: Your stop_words may be inconsistent with your preprocessing. Tokenizing the stop words generated tokens ['ourselv', 'sha', 'yourselv'] not in stop_words.\n",
      "  'stop_words.' % sorted(inconsistent))\n"
     ]
    }
   ],
   "source": [
    "word_vec = count_vectorizer.fit_transform(worddata['description'])"
   ]
  },
  {
   "cell_type": "code",
   "execution_count": 19,
   "metadata": {
    "scrolled": true
   },
   "outputs": [
    {
     "data": {
      "text/plain": [
       "LatentDirichletAllocation(learning_method='online', n_jobs=-2,\n",
       "                          random_state=1659)"
      ]
     },
     "execution_count": 19,
     "metadata": {},
     "output_type": "execute_result"
    }
   ],
   "source": [
    "lda = LatentDirichletAllocation(learning_method='online', n_jobs=-2, \n",
    "                                random_state=1659)\n",
    "lda.fit(word_vec)"
   ]
  },
  {
   "cell_type": "code",
   "execution_count": 21,
   "metadata": {},
   "outputs": [],
   "source": [
    "def top_topic_features(model, feature_names, num_features=10):\n",
    "    sorted_topics = feature_names[model.components_.argsort(axis=1)[:, ::-1][:, :num_features]]\n",
    "    return sorted_topics"
   ]
  },
  {
   "cell_type": "code",
   "execution_count": 22,
   "metadata": {
    "scrolled": true
   },
   "outputs": [
    {
     "data": {
      "text/plain": [
       "array([['ship', 'action', 'power', 'attack', 'resourc', 'phase', 'build',\n",
       "        'control', 'star', 'world'],\n",
       "       ['piec', 'color', 'space', 'squar', 'anim', 'red', 'pawn',\n",
       "        'oppon', 'side', 'move'],\n",
       "       ['dice', 'die', 'roll', 'number', 'space', 'track', 'first',\n",
       "        'aacut', 'marker', 'move'],\n",
       "       ['word', 'question', 'first', 'letter', 'answer', 'child', 'fun',\n",
       "        'correct', 'object', 'space'],\n",
       "       ['race', 'oppon', 'mission', 'car', 'eacut', 'element', 'creatur',\n",
       "        'fast', 'differ', 'damag'],\n",
       "       ['er', 'round', 'number', 'end', 'score', 'valu', 'face', 'tabl',\n",
       "        'set', 'pile'],\n",
       "       ['token', 'citi', 'hous', 'properti', 'monopoli', 'coin', 'set',\n",
       "        'edit', 'symbol', 'alien'],\n",
       "       ['team', 'hero', 'money', 'event', 'time', 'faction', 'compani',\n",
       "        'room', 'master', 'market'],\n",
       "       ['war', 'battl', 'unit', 'scenario', 'combat', 'armi', 'map',\n",
       "        'forc', 'counter', 'system'],\n",
       "       ['new', 'charact', 'expans', 'rsquo', 'monster', 'power', 'ndash',\n",
       "        'adventur', 'abil', 'treasur']], dtype='<U11')"
      ]
     },
     "execution_count": 22,
     "metadata": {},
     "output_type": "execute_result"
    }
   ],
   "source": [
    "feature_names = np.array(count_vectorizer.get_feature_names())\n",
    "top_topic_features(lda, feature_names=feature_names)\n"
   ]
  },
  {
   "cell_type": "markdown",
   "metadata": {},
   "source": [
    "### Create Probability Matrix"
   ]
  },
  {
   "cell_type": "code",
   "execution_count": 23,
   "metadata": {},
   "outputs": [],
   "source": [
    "def predict_proba(model, vectorizer, text):\n",
    "    if type(text) == str:\n",
    "        text = [text]\n",
    "    vec_text = vectorizer.transform(text)\n",
    "    doc_probs = model.transform(vec_text)\n",
    "    return doc_probs"
   ]
  },
  {
   "cell_type": "code",
   "execution_count": 24,
   "metadata": {},
   "outputs": [
    {
     "ename": "KeyboardInterrupt",
     "evalue": "",
     "output_type": "error",
     "traceback": [
      "\u001b[0;31m---------------------------------------------------------------------------\u001b[0m",
      "\u001b[0;31mKeyboardInterrupt\u001b[0m                         Traceback (most recent call last)",
      "\u001b[0;32m<ipython-input-24-9649c8da5e16>\u001b[0m in \u001b[0;36m<module>\u001b[0;34m\u001b[0m\n\u001b[0;32m----> 1\u001b[0;31m \u001b[0mgame_probs\u001b[0m \u001b[0;34m=\u001b[0m \u001b[0mpredict_proba\u001b[0m\u001b[0;34m(\u001b[0m\u001b[0mlda\u001b[0m\u001b[0;34m,\u001b[0m \u001b[0mcount_vectorizer\u001b[0m\u001b[0;34m,\u001b[0m \u001b[0mworddata\u001b[0m\u001b[0;34m.\u001b[0m\u001b[0mdescription\u001b[0m\u001b[0;34m)\u001b[0m\u001b[0;34m\u001b[0m\u001b[0;34m\u001b[0m\u001b[0m\n\u001b[0m",
      "\u001b[0;32m<ipython-input-23-15b2f88f8ac8>\u001b[0m in \u001b[0;36mpredict_proba\u001b[0;34m(model, vectorizer, text)\u001b[0m\n\u001b[1;32m      2\u001b[0m     \u001b[0;32mif\u001b[0m \u001b[0mtype\u001b[0m\u001b[0;34m(\u001b[0m\u001b[0mtext\u001b[0m\u001b[0;34m)\u001b[0m \u001b[0;34m==\u001b[0m \u001b[0mstr\u001b[0m\u001b[0;34m:\u001b[0m\u001b[0;34m\u001b[0m\u001b[0;34m\u001b[0m\u001b[0m\n\u001b[1;32m      3\u001b[0m         \u001b[0mtext\u001b[0m \u001b[0;34m=\u001b[0m \u001b[0;34m[\u001b[0m\u001b[0mtext\u001b[0m\u001b[0;34m]\u001b[0m\u001b[0;34m\u001b[0m\u001b[0;34m\u001b[0m\u001b[0m\n\u001b[0;32m----> 4\u001b[0;31m     \u001b[0mvec_text\u001b[0m \u001b[0;34m=\u001b[0m \u001b[0mvectorizer\u001b[0m\u001b[0;34m.\u001b[0m\u001b[0mtransform\u001b[0m\u001b[0;34m(\u001b[0m\u001b[0mtext\u001b[0m\u001b[0;34m)\u001b[0m\u001b[0;34m\u001b[0m\u001b[0;34m\u001b[0m\u001b[0m\n\u001b[0m\u001b[1;32m      5\u001b[0m     \u001b[0mdoc_probs\u001b[0m \u001b[0;34m=\u001b[0m \u001b[0mmodel\u001b[0m\u001b[0;34m.\u001b[0m\u001b[0mtransform\u001b[0m\u001b[0;34m(\u001b[0m\u001b[0mvec_text\u001b[0m\u001b[0;34m)\u001b[0m\u001b[0;34m\u001b[0m\u001b[0;34m\u001b[0m\u001b[0m\n\u001b[1;32m      6\u001b[0m     \u001b[0;32mreturn\u001b[0m \u001b[0mdoc_probs\u001b[0m\u001b[0;34m\u001b[0m\u001b[0;34m\u001b[0m\u001b[0m\n",
      "\u001b[0;32m~/anaconda3/lib/python3.7/site-packages/sklearn/feature_extraction/text.py\u001b[0m in \u001b[0;36mtransform\u001b[0;34m(self, raw_documents)\u001b[0m\n\u001b[1;32m   1247\u001b[0m \u001b[0;34m\u001b[0m\u001b[0m\n\u001b[1;32m   1248\u001b[0m         \u001b[0;31m# use the same matrix-building strategy as fit_transform\u001b[0m\u001b[0;34m\u001b[0m\u001b[0;34m\u001b[0m\u001b[0;34m\u001b[0m\u001b[0m\n\u001b[0;32m-> 1249\u001b[0;31m         \u001b[0m_\u001b[0m\u001b[0;34m,\u001b[0m \u001b[0mX\u001b[0m \u001b[0;34m=\u001b[0m \u001b[0mself\u001b[0m\u001b[0;34m.\u001b[0m\u001b[0m_count_vocab\u001b[0m\u001b[0;34m(\u001b[0m\u001b[0mraw_documents\u001b[0m\u001b[0;34m,\u001b[0m \u001b[0mfixed_vocab\u001b[0m\u001b[0;34m=\u001b[0m\u001b[0;32mTrue\u001b[0m\u001b[0;34m)\u001b[0m\u001b[0;34m\u001b[0m\u001b[0;34m\u001b[0m\u001b[0m\n\u001b[0m\u001b[1;32m   1250\u001b[0m         \u001b[0;32mif\u001b[0m \u001b[0mself\u001b[0m\u001b[0;34m.\u001b[0m\u001b[0mbinary\u001b[0m\u001b[0;34m:\u001b[0m\u001b[0;34m\u001b[0m\u001b[0;34m\u001b[0m\u001b[0m\n\u001b[1;32m   1251\u001b[0m             \u001b[0mX\u001b[0m\u001b[0;34m.\u001b[0m\u001b[0mdata\u001b[0m\u001b[0;34m.\u001b[0m\u001b[0mfill\u001b[0m\u001b[0;34m(\u001b[0m\u001b[0;36m1\u001b[0m\u001b[0;34m)\u001b[0m\u001b[0;34m\u001b[0m\u001b[0;34m\u001b[0m\u001b[0m\n",
      "\u001b[0;32m~/anaconda3/lib/python3.7/site-packages/sklearn/feature_extraction/text.py\u001b[0m in \u001b[0;36m_count_vocab\u001b[0;34m(self, raw_documents, fixed_vocab)\u001b[0m\n\u001b[1;32m   1108\u001b[0m         \u001b[0;32mfor\u001b[0m \u001b[0mdoc\u001b[0m \u001b[0;32min\u001b[0m \u001b[0mraw_documents\u001b[0m\u001b[0;34m:\u001b[0m\u001b[0;34m\u001b[0m\u001b[0;34m\u001b[0m\u001b[0m\n\u001b[1;32m   1109\u001b[0m             \u001b[0mfeature_counter\u001b[0m \u001b[0;34m=\u001b[0m \u001b[0;34m{\u001b[0m\u001b[0;34m}\u001b[0m\u001b[0;34m\u001b[0m\u001b[0;34m\u001b[0m\u001b[0m\n\u001b[0;32m-> 1110\u001b[0;31m             \u001b[0;32mfor\u001b[0m \u001b[0mfeature\u001b[0m \u001b[0;32min\u001b[0m \u001b[0manalyze\u001b[0m\u001b[0;34m(\u001b[0m\u001b[0mdoc\u001b[0m\u001b[0;34m)\u001b[0m\u001b[0;34m:\u001b[0m\u001b[0;34m\u001b[0m\u001b[0;34m\u001b[0m\u001b[0m\n\u001b[0m\u001b[1;32m   1111\u001b[0m                 \u001b[0;32mtry\u001b[0m\u001b[0;34m:\u001b[0m\u001b[0;34m\u001b[0m\u001b[0;34m\u001b[0m\u001b[0m\n\u001b[1;32m   1112\u001b[0m                     \u001b[0mfeature_idx\u001b[0m \u001b[0;34m=\u001b[0m \u001b[0mvocabulary\u001b[0m\u001b[0;34m[\u001b[0m\u001b[0mfeature\u001b[0m\u001b[0;34m]\u001b[0m\u001b[0;34m\u001b[0m\u001b[0;34m\u001b[0m\u001b[0m\n",
      "\u001b[0;32m~/anaconda3/lib/python3.7/site-packages/sklearn/feature_extraction/text.py\u001b[0m in \u001b[0;36m_analyze\u001b[0;34m(doc, analyzer, tokenizer, ngrams, preprocessor, decoder, stop_words)\u001b[0m\n\u001b[1;32m    102\u001b[0m     \u001b[0;32melse\u001b[0m\u001b[0;34m:\u001b[0m\u001b[0;34m\u001b[0m\u001b[0;34m\u001b[0m\u001b[0m\n\u001b[1;32m    103\u001b[0m         \u001b[0;32mif\u001b[0m \u001b[0mpreprocessor\u001b[0m \u001b[0;32mis\u001b[0m \u001b[0;32mnot\u001b[0m \u001b[0;32mNone\u001b[0m\u001b[0;34m:\u001b[0m\u001b[0;34m\u001b[0m\u001b[0;34m\u001b[0m\u001b[0m\n\u001b[0;32m--> 104\u001b[0;31m             \u001b[0mdoc\u001b[0m \u001b[0;34m=\u001b[0m \u001b[0mpreprocessor\u001b[0m\u001b[0;34m(\u001b[0m\u001b[0mdoc\u001b[0m\u001b[0;34m)\u001b[0m\u001b[0;34m\u001b[0m\u001b[0;34m\u001b[0m\u001b[0m\n\u001b[0m\u001b[1;32m    105\u001b[0m         \u001b[0;32mif\u001b[0m \u001b[0mtokenizer\u001b[0m \u001b[0;32mis\u001b[0m \u001b[0;32mnot\u001b[0m \u001b[0;32mNone\u001b[0m\u001b[0;34m:\u001b[0m\u001b[0;34m\u001b[0m\u001b[0;34m\u001b[0m\u001b[0m\n\u001b[1;32m    106\u001b[0m             \u001b[0mdoc\u001b[0m \u001b[0;34m=\u001b[0m \u001b[0mtokenizer\u001b[0m\u001b[0;34m(\u001b[0m\u001b[0mdoc\u001b[0m\u001b[0;34m)\u001b[0m\u001b[0;34m\u001b[0m\u001b[0;34m\u001b[0m\u001b[0m\n",
      "\u001b[0;32m<ipython-input-13-3a4c1e1d6992>\u001b[0m in \u001b[0;36mpreprocess_text\u001b[0;34m(text)\u001b[0m\n\u001b[1;32m     24\u001b[0m     \u001b[0msent_tokens\u001b[0m \u001b[0;34m=\u001b[0m \u001b[0msent_tokenize\u001b[0m\u001b[0;34m(\u001b[0m\u001b[0mtext\u001b[0m\u001b[0;34m)\u001b[0m\u001b[0;34m\u001b[0m\u001b[0;34m\u001b[0m\u001b[0m\n\u001b[1;32m     25\u001b[0m \u001b[0;34m\u001b[0m\u001b[0m\n\u001b[0;32m---> 26\u001b[0;31m     \u001b[0mtokens\u001b[0m \u001b[0;34m=\u001b[0m \u001b[0mlist\u001b[0m\u001b[0;34m(\u001b[0m\u001b[0mmap\u001b[0m\u001b[0;34m(\u001b[0m\u001b[0mword_tokenize\u001b[0m\u001b[0;34m,\u001b[0m \u001b[0msent_tokens\u001b[0m\u001b[0;34m)\u001b[0m\u001b[0;34m)\u001b[0m\u001b[0;34m\u001b[0m\u001b[0;34m\u001b[0m\u001b[0m\n\u001b[0m\u001b[1;32m     27\u001b[0m \u001b[0;34m\u001b[0m\u001b[0m\n\u001b[1;32m     28\u001b[0m     \u001b[0msent_tags\u001b[0m \u001b[0;34m=\u001b[0m \u001b[0mlist\u001b[0m\u001b[0;34m(\u001b[0m\u001b[0mmap\u001b[0m\u001b[0;34m(\u001b[0m\u001b[0mpos_tag\u001b[0m\u001b[0;34m,\u001b[0m \u001b[0mtokens\u001b[0m\u001b[0;34m)\u001b[0m\u001b[0;34m)\u001b[0m\u001b[0;34m\u001b[0m\u001b[0;34m\u001b[0m\u001b[0m\n",
      "\u001b[0;32m~/anaconda3/lib/python3.7/site-packages/nltk/tokenize/__init__.py\u001b[0m in \u001b[0;36mword_tokenize\u001b[0;34m(text, language, preserve_line)\u001b[0m\n\u001b[1;32m    129\u001b[0m     \u001b[0msentences\u001b[0m \u001b[0;34m=\u001b[0m \u001b[0;34m[\u001b[0m\u001b[0mtext\u001b[0m\u001b[0;34m]\u001b[0m \u001b[0;32mif\u001b[0m \u001b[0mpreserve_line\u001b[0m \u001b[0;32melse\u001b[0m \u001b[0msent_tokenize\u001b[0m\u001b[0;34m(\u001b[0m\u001b[0mtext\u001b[0m\u001b[0;34m,\u001b[0m \u001b[0mlanguage\u001b[0m\u001b[0;34m)\u001b[0m\u001b[0;34m\u001b[0m\u001b[0;34m\u001b[0m\u001b[0m\n\u001b[1;32m    130\u001b[0m     return [\n\u001b[0;32m--> 131\u001b[0;31m         \u001b[0mtoken\u001b[0m \u001b[0;32mfor\u001b[0m \u001b[0msent\u001b[0m \u001b[0;32min\u001b[0m \u001b[0msentences\u001b[0m \u001b[0;32mfor\u001b[0m \u001b[0mtoken\u001b[0m \u001b[0;32min\u001b[0m \u001b[0m_treebank_word_tokenizer\u001b[0m\u001b[0;34m.\u001b[0m\u001b[0mtokenize\u001b[0m\u001b[0;34m(\u001b[0m\u001b[0msent\u001b[0m\u001b[0;34m)\u001b[0m\u001b[0;34m\u001b[0m\u001b[0;34m\u001b[0m\u001b[0m\n\u001b[0m\u001b[1;32m    132\u001b[0m     ]\n",
      "\u001b[0;32m~/anaconda3/lib/python3.7/site-packages/nltk/tokenize/__init__.py\u001b[0m in \u001b[0;36m<listcomp>\u001b[0;34m(.0)\u001b[0m\n\u001b[1;32m    129\u001b[0m     \u001b[0msentences\u001b[0m \u001b[0;34m=\u001b[0m \u001b[0;34m[\u001b[0m\u001b[0mtext\u001b[0m\u001b[0;34m]\u001b[0m \u001b[0;32mif\u001b[0m \u001b[0mpreserve_line\u001b[0m \u001b[0;32melse\u001b[0m \u001b[0msent_tokenize\u001b[0m\u001b[0;34m(\u001b[0m\u001b[0mtext\u001b[0m\u001b[0;34m,\u001b[0m \u001b[0mlanguage\u001b[0m\u001b[0;34m)\u001b[0m\u001b[0;34m\u001b[0m\u001b[0;34m\u001b[0m\u001b[0m\n\u001b[1;32m    130\u001b[0m     return [\n\u001b[0;32m--> 131\u001b[0;31m         \u001b[0mtoken\u001b[0m \u001b[0;32mfor\u001b[0m \u001b[0msent\u001b[0m \u001b[0;32min\u001b[0m \u001b[0msentences\u001b[0m \u001b[0;32mfor\u001b[0m \u001b[0mtoken\u001b[0m \u001b[0;32min\u001b[0m \u001b[0m_treebank_word_tokenizer\u001b[0m\u001b[0;34m.\u001b[0m\u001b[0mtokenize\u001b[0m\u001b[0;34m(\u001b[0m\u001b[0msent\u001b[0m\u001b[0;34m)\u001b[0m\u001b[0;34m\u001b[0m\u001b[0;34m\u001b[0m\u001b[0m\n\u001b[0m\u001b[1;32m    132\u001b[0m     ]\n",
      "\u001b[0;32m~/anaconda3/lib/python3.7/site-packages/nltk/tokenize/destructive.py\u001b[0m in \u001b[0;36mtokenize\u001b[0;34m(self, text, convert_parentheses, return_str)\u001b[0m\n\u001b[1;32m    109\u001b[0m \u001b[0;34m\u001b[0m\u001b[0m\n\u001b[1;32m    110\u001b[0m         \u001b[0;32mfor\u001b[0m \u001b[0mregexp\u001b[0m\u001b[0;34m,\u001b[0m \u001b[0msubstitution\u001b[0m \u001b[0;32min\u001b[0m \u001b[0mself\u001b[0m\u001b[0;34m.\u001b[0m\u001b[0mPUNCTUATION\u001b[0m\u001b[0;34m:\u001b[0m\u001b[0;34m\u001b[0m\u001b[0;34m\u001b[0m\u001b[0m\n\u001b[0;32m--> 111\u001b[0;31m             \u001b[0mtext\u001b[0m \u001b[0;34m=\u001b[0m \u001b[0mregexp\u001b[0m\u001b[0;34m.\u001b[0m\u001b[0msub\u001b[0m\u001b[0;34m(\u001b[0m\u001b[0msubstitution\u001b[0m\u001b[0;34m,\u001b[0m \u001b[0mtext\u001b[0m\u001b[0;34m)\u001b[0m\u001b[0;34m\u001b[0m\u001b[0;34m\u001b[0m\u001b[0m\n\u001b[0m\u001b[1;32m    112\u001b[0m \u001b[0;34m\u001b[0m\u001b[0m\n\u001b[1;32m    113\u001b[0m         \u001b[0;31m# Handles parentheses.\u001b[0m\u001b[0;34m\u001b[0m\u001b[0;34m\u001b[0m\u001b[0;34m\u001b[0m\u001b[0m\n",
      "\u001b[0;32m~/anaconda3/lib/python3.7/re.py\u001b[0m in \u001b[0;36m_subx\u001b[0;34m(pattern, template)\u001b[0m\n\u001b[1;32m    305\u001b[0m     \u001b[0;32mreturn\u001b[0m \u001b[0msre_parse\u001b[0m\u001b[0;34m.\u001b[0m\u001b[0mexpand_template\u001b[0m\u001b[0;34m(\u001b[0m\u001b[0mtemplate\u001b[0m\u001b[0;34m,\u001b[0m \u001b[0mmatch\u001b[0m\u001b[0;34m)\u001b[0m\u001b[0;34m\u001b[0m\u001b[0;34m\u001b[0m\u001b[0m\n\u001b[1;32m    306\u001b[0m \u001b[0;34m\u001b[0m\u001b[0m\n\u001b[0;32m--> 307\u001b[0;31m \u001b[0;32mdef\u001b[0m \u001b[0m_subx\u001b[0m\u001b[0;34m(\u001b[0m\u001b[0mpattern\u001b[0m\u001b[0;34m,\u001b[0m \u001b[0mtemplate\u001b[0m\u001b[0;34m)\u001b[0m\u001b[0;34m:\u001b[0m\u001b[0;34m\u001b[0m\u001b[0;34m\u001b[0m\u001b[0m\n\u001b[0m\u001b[1;32m    308\u001b[0m     \u001b[0;31m# internal: Pattern.sub/subn implementation helper\u001b[0m\u001b[0;34m\u001b[0m\u001b[0;34m\u001b[0m\u001b[0;34m\u001b[0m\u001b[0m\n\u001b[1;32m    309\u001b[0m     \u001b[0mtemplate\u001b[0m \u001b[0;34m=\u001b[0m \u001b[0m_compile_repl\u001b[0m\u001b[0;34m(\u001b[0m\u001b[0mtemplate\u001b[0m\u001b[0;34m,\u001b[0m \u001b[0mpattern\u001b[0m\u001b[0;34m)\u001b[0m\u001b[0;34m\u001b[0m\u001b[0;34m\u001b[0m\u001b[0m\n",
      "\u001b[0;31mKeyboardInterrupt\u001b[0m: "
     ]
    }
   ],
   "source": [
    "game_probs = predict_proba(lda, count_vectorizer, worddata.description)"
   ]
  },
  {
   "cell_type": "code",
   "execution_count": 19,
   "metadata": {},
   "outputs": [],
   "source": [
    "#pickle the fitted transformed model\n",
    "\n",
    "with open('../models/lda.pickle', 'wb') as f:\n",
    "    pickle.dump([lda,count_vectorizer,game_probs], f)"
   ]
  },
  {
   "cell_type": "markdown",
   "metadata": {},
   "source": [
    "## Building the Recommender"
   ]
  },
  {
   "cell_type": "code",
   "execution_count": 22,
   "metadata": {},
   "outputs": [],
   "source": [
    "# function to find index of FIRST  game given the game title\n",
    "\n",
    "def find_game_idx(df, game_title):\n",
    "    try:\n",
    "        return df.name[df.name.str.contains(game_title)].index[0]\n",
    "    except:\n",
    "        return None\n",
    "\n",
    "def find_game_id(df, idx):\n",
    "    return df['game.id'].iloc[idx]\n"
   ]
  },
  {
   "cell_type": "markdown",
   "metadata": {},
   "source": [
    "## TODO: if search returns multiple results, what then?? Need to solve this"
   ]
  },
  {
   "cell_type": "code",
   "execution_count": 23,
   "metadata": {},
   "outputs": [
    {
     "data": {
      "text/plain": [
       "11"
      ]
     },
     "execution_count": 23,
     "metadata": {},
     "output_type": "execute_result"
    }
   ],
   "source": [
    "search = worddata.name.str.contains('Betrayal')\n",
    "search.sum()\n"
   ]
  },
  {
   "cell_type": "markdown",
   "metadata": {},
   "source": [
    "## /TODO"
   ]
  },
  {
   "cell_type": "code",
   "execution_count": 25,
   "metadata": {},
   "outputs": [],
   "source": [
    "from sklearn.metrics.pairwise import cosine_distances, euclidean_distances"
   ]
  },
  {
   "cell_type": "code",
   "execution_count": 26,
   "metadata": {},
   "outputs": [],
   "source": [
    "def sort_by_distance(idx, probs, distance_funct=cosine_distances, num_games=10):\n",
    "    #returns array of indices of games closest to the provided game index\n",
    "    return distance_funct(probs[idx].reshape(1,-1), probs).ravel().argsort()[:10]"
   ]
  },
  {
   "cell_type": "markdown",
   "metadata": {},
   "source": [
    "* Debug sort_by_distance function\n",
    "* check distances inside the function\n"
   ]
  },
  {
   "cell_type": "code",
   "execution_count": 27,
   "metadata": {},
   "outputs": [],
   "source": [
    "def find_closest_games_names(sorted_distances, names):\n",
    "    #finds names of an array of game idx's\n",
    "    name_array = names.iloc[sorted_distances]\n",
    "    return name_array"
   ]
  },
  {
   "cell_type": "code",
   "execution_count": 34,
   "metadata": {
    "scrolled": true
   },
   "outputs": [
    {
     "data": {
      "text/plain": [
       "12                                          Catan\n",
       "54254                              Pocket Paddles\n",
       "71292                       Dice City: Shipwright\n",
       "62950                          Small Star Empires\n",
       "68682          Dice Bazaar: Monkey Mini Expansion\n",
       "26389                         El Juego de la Liga\n",
       "132                             Buy Low Sell High\n",
       "5131                      The Ark of the Covenant\n",
       "63732    All About Town: Columbia, South Carolina\n",
       "2013                                      Wembley\n",
       "Name: name, dtype: object"
      ]
     },
     "execution_count": 34,
     "metadata": {},
     "output_type": "execute_result"
    }
   ],
   "source": [
    "game_index = find_game_idx(worddata,'Catan')\n",
    "game_sim = sort_by_distance(game_index, game_probs)\n",
    "find_closest_games_names(game_sim,worddata.name)\n"
   ]
  },
  {
   "cell_type": "code",
   "execution_count": 28,
   "metadata": {},
   "outputs": [],
   "source": [
    "def recommend(df, game_title, prob_matrix, \n",
    "             distance_funct=cosine_distances, num_games=10):\n",
    "    game_index = find_game_idx(df, game_title)\n",
    "    game_sim = sort_by_distance(game_index, prob_matrix, distance_funct, num_games)\n",
    "    game_recs = find_closest_games_names(game_sim, df.name)\n",
    "    game_ids = find_game_id(df, game_rec.index)\n",
    "    \n",
    "#     rec_df = pd.DataFrame({'id':game_ids,'name':game_recs})\n",
    "    rec_df = find_closest_games(game_sim,df)\n",
    "    \n",
    "    return rec_df"
   ]
  },
  {
   "cell_type": "code",
   "execution_count": 29,
   "metadata": {
    "scrolled": true
   },
   "outputs": [
    {
     "ename": "NameError",
     "evalue": "name 'game_probs' is not defined",
     "output_type": "error",
     "traceback": [
      "\u001b[0;31m---------------------------------------------------------------------------\u001b[0m",
      "\u001b[0;31mNameError\u001b[0m                                 Traceback (most recent call last)",
      "\u001b[0;32m<ipython-input-29-4e471dbef386>\u001b[0m in \u001b[0;36m<module>\u001b[0;34m\u001b[0m\n\u001b[0;32m----> 1\u001b[0;31m \u001b[0mgame_rec\u001b[0m \u001b[0;34m=\u001b[0m \u001b[0mrecommend\u001b[0m\u001b[0;34m(\u001b[0m\u001b[0mworddata\u001b[0m\u001b[0;34m,\u001b[0m \u001b[0;34m'Catan'\u001b[0m\u001b[0;34m,\u001b[0m \u001b[0mgame_probs\u001b[0m\u001b[0;34m)\u001b[0m\u001b[0;34m\u001b[0m\u001b[0;34m\u001b[0m\u001b[0m\n\u001b[0m\u001b[1;32m      2\u001b[0m \u001b[0mgame_rec\u001b[0m\u001b[0;34m\u001b[0m\u001b[0;34m\u001b[0m\u001b[0m\n",
      "\u001b[0;31mNameError\u001b[0m: name 'game_probs' is not defined"
     ]
    }
   ],
   "source": [
    "game_rec = recommend(worddata, 'Catan', game_probs)\n",
    "game_rec"
   ]
  },
  {
   "cell_type": "code",
   "execution_count": 126,
   "metadata": {},
   "outputs": [],
   "source": [
    "def find_closest_games(sorted_distances, gamedata_df):\n",
    "    #finds names of an array of game idx's\n",
    "    name_array = gamedata_df.iloc[sorted_distances]\n",
    "    return name_array"
   ]
  },
  {
   "cell_type": "code",
   "execution_count": null,
   "metadata": {},
   "outputs": [],
   "source": [
    "data = pd.read_csv('recs.csv')"
   ]
  },
  {
   "cell_type": "code",
   "execution_count": 61,
   "metadata": {},
   "outputs": [],
   "source": [
    "#save prob matrix for use later\n",
    "with open('../models/prob_matrix.pickle', 'wb') as f:\n",
    "    pickle.dump(game_probs,f)"
   ]
  },
  {
   "cell_type": "markdown",
   "metadata": {},
   "source": [
    "## TODO: use suprise Library to test"
   ]
  },
  {
   "cell_type": "code",
   "execution_count": 99,
   "metadata": {},
   "outputs": [],
   "source": [
    "def load_data():\n",
    "    with open('../data/boardgamedata.pickle', 'rb') as f:\n",
    "        worddata, numdata = pickle.load(f)\n",
    "    worddata.reset_index(drop=True, inplace=True)\n",
    "\n",
    "    return worddata, numdata\n",
    "\n",
    "def load_model():\n",
    "    with open('../models/prob_matrix.pickle', 'rb') as f:\n",
    "        game_probs = pickle.load(f)\n",
    "    return game_probs\n",
    "\n",
    "def find_game_idx(df, game_title):\n",
    "    #returns the first found index of a game given a name search string query\n",
    "    return df.name[df.name.str.contains(game_title)].index[0]\n",
    "\n",
    "\n",
    "def find_game_id(df, idx):\n",
    "    #returns game id of an array of indices of games\n",
    "    return df['game.id'].iloc[idx]\n",
    "\n",
    "\n",
    "def sort_by_distance(idx, probs, num_games):\n",
    "    #returns array of indices of games most similiar to the provided game index\n",
    "    return euclidean_distances(probs[idx].reshape(1,-1), probs).ravel().argsort()[:num_games]\n",
    "\n",
    "def find_closest_games_names(sorted_distances, names):\n",
    "    #finds names of an array of game idx's\n",
    "    name_array = names.iloc[sorted_distances]\n",
    "    return name_array\n",
    "\n",
    "def find_closest_games(sorted_distances, gamedata_df):\n",
    "    #finds names of an array of game idx's\n",
    "    name_array = gamedata_df.iloc[sorted_distances]\n",
    "    return name_array\n",
    "\n",
    "def recommend_games(game_title, num_games):\n",
    "    #returns recommendations for games in a list format\n",
    "    df, numdata = load_data()\n",
    "    prob_matrix = load_model()\n",
    "    \n",
    "    game_index = find_game_idx(df, game_title)\n",
    "    game_sim = sort_by_distance(game_index, prob_matrix, num_games)\n",
    "    game_recs = find_closest_games_names(game_sim, df.name)\n",
    "    game_ids = find_game_id(df, game_recs.index)\n",
    "    \n",
    "    rec_df = find_closest_games(game_sim,df)\n",
    "    to_html = rec_df.drop(axis=1,columns='game.id')\n",
    "    to_html['category'] = to_html.category.apply(lambda x: \",\".join(x))\n",
    "    to_html['mechanic'] = to_html.mechanic.apply(lambda x: \",\".join(x))\n",
    "    to_html['short_desc'] = to_html.description.apply(lambda x: ' '.join(re.split(r'(?<=[.:;])\\s', x)[:4]))\n",
    "    to_html.drop(axis=1,columns='description',inplace=True)\n",
    "    return to_html"
   ]
  },
  {
   "cell_type": "code",
   "execution_count": 100,
   "metadata": {},
   "outputs": [],
   "source": [
    "data = recommend_games(\"Catan\",10)"
   ]
  },
  {
   "cell_type": "code",
   "execution_count": 101,
   "metadata": {},
   "outputs": [
    {
     "data": {
      "text/html": [
       "<div>\n",
       "<style scoped>\n",
       "    .dataframe tbody tr th:only-of-type {\n",
       "        vertical-align: middle;\n",
       "    }\n",
       "\n",
       "    .dataframe tbody tr th {\n",
       "        vertical-align: top;\n",
       "    }\n",
       "\n",
       "    .dataframe thead th {\n",
       "        text-align: right;\n",
       "    }\n",
       "</style>\n",
       "<table border=\"1\" class=\"dataframe\">\n",
       "  <thead>\n",
       "    <tr style=\"text-align: right;\">\n",
       "      <th></th>\n",
       "      <th>name</th>\n",
       "      <th>category</th>\n",
       "      <th>mechanic</th>\n",
       "      <th>short_desc</th>\n",
       "    </tr>\n",
       "  </thead>\n",
       "  <tbody>\n",
       "    <tr>\n",
       "      <th>12</th>\n",
       "      <td>Catan</td>\n",
       "      <td>Negotiation</td>\n",
       "      <td>Dice Rolling,Hand Management,Modular Board,Route/Network Building,Trading</td>\n",
       "      <td>In Catan (formerly The Settlers of Catan), players try to be the dominant force on the island of Catan by building settlements, cities, and roads. On each turn dice are rolled to determine what resources the island produces. Players collect these resources (cards)&amp;mdash;wood, grain, brick, sheep, or stone&amp;mdash;to build up their civilizations to get to 10 victory points and win the game.&amp;#10;&amp;#10;Setup includes randomly placing large hexagonal tiles (each showing a resource or the desert) in a honeycomb shape and surrounding them with water tiles, some of which contain ports of exchange. Number disks, which will correspond to die rolls (two 6-sided dice are used), are placed on each resource tile.</td>\n",
       "    </tr>\n",
       "    <tr>\n",
       "      <th>54254</th>\n",
       "      <td>Pocket Paddles</td>\n",
       "      <td>Nautical,Print &amp; Play,Racing</td>\n",
       "      <td>Auction/Bidding,Point to Point Movement</td>\n",
       "      <td>Pocket Paddles is a free print and play game for two players that fits in your wallet. All you need to play is the credit card-sized gameboard and 7 coins per player.&amp;#10;&amp;#10;In Pocket Paddles players compete in a furious paddle boat race. Whoever lands three ships on the sandy shores of Victor Island first, is declared winner, and is rewarded the platinum-power-paddle. The coins act as currency in a blind-bidding and bluffing round, in which the movement of your ships is determined.</td>\n",
       "    </tr>\n",
       "    <tr>\n",
       "      <th>71292</th>\n",
       "      <td>Dice City: Shipwright</td>\n",
       "      <td>City Building,Expansion for Base-game</td>\n",
       "      <td>Dice Rolling,Take That,Worker Placement</td>\n",
       "      <td>A promo card that was part of the Dice Tower 2016 (Season 12) Kickstarter campaign.&amp;#10;&amp;#10;Its text says: &amp;#10;Reduce the cost of the next Trade Ship you take by 2 resources of any type.&amp;#10;&amp;#10;</td>\n",
       "    </tr>\n",
       "    <tr>\n",
       "      <th>62950</th>\n",
       "      <td>Small Star Empires</td>\n",
       "      <td>Science Fiction,Territory Building</td>\n",
       "      <td>Area Control,Area Influence,Area Enclosure,Grid Movement,Modular Board</td>\n",
       "      <td>Small Star Empires is a quick area control game for 2-4 players. In this game, players colonize the galaxy using their ships, which they move on a modular board containing hexagonal spaces (systems). The modular board is made up of seven different double-sided sector tiles, which allows for a different map and different experience each time you play the game.&amp;#10;&amp;#10;During a turn, a player must move one of their ships on the board. They can move the ship only in a straight line, as far away as they want, but they cannot go over systems controlled by other players.</td>\n",
       "    </tr>\n",
       "    <tr>\n",
       "      <th>132</th>\n",
       "      <td>Buy Low Sell High</td>\n",
       "      <td>Economic</td>\n",
       "      <td>Commodity Speculation</td>\n",
       "      <td>Another of Reiner Knizia's fleet of games, this one is about making profits by buying and selling business stock. Players use cards to manipulate the price of three types of stocks (oil, technology, and retail), and the buying and selling of the stocks is pretty severely limited. Short and sweet, this game is both elegant and abstract.  In a change from the original version, the three stocks have different levels of volatility.</td>\n",
       "    </tr>\n",
       "  </tbody>\n",
       "</table>\n",
       "</div>"
      ],
      "text/plain": [
       "                        name                               category                                                                   mechanic                                                                                                                                                                                                                                                                                                                                                                                                                                                                                                                                                                                                                                                                                                                          short_desc\n",
       "12     Catan                  Negotiation                            Dice Rolling,Hand Management,Modular Board,Route/Network Building,Trading  In Catan (formerly The Settlers of Catan), players try to be the dominant force on the island of Catan by building settlements, cities, and roads. On each turn dice are rolled to determine what resources the island produces. Players collect these resources (cards)&mdash;wood, grain, brick, sheep, or stone&mdash;to build up their civilizations to get to 10 victory points and win the game.&#10;&#10;Setup includes randomly placing large hexagonal tiles (each showing a resource or the desert) in a honeycomb shape and surrounding them with water tiles, some of which contain ports of exchange. Number disks, which will correspond to die rolls (two 6-sided dice are used), are placed on each resource tile.\n",
       "54254  Pocket Paddles         Nautical,Print & Play,Racing           Auction/Bidding,Point to Point Movement                                    Pocket Paddles is a free print and play game for two players that fits in your wallet. All you need to play is the credit card-sized gameboard and 7 coins per player.&#10;&#10;In Pocket Paddles players compete in a furious paddle boat race. Whoever lands three ships on the sandy shores of Victor Island first, is declared winner, and is rewarded the platinum-power-paddle. The coins act as currency in a blind-bidding and bluffing round, in which the movement of your ships is determined.                                                                                                                                                                                                                         \n",
       "71292  Dice City: Shipwright  City Building,Expansion for Base-game  Dice Rolling,Take That,Worker Placement                                    A promo card that was part of the Dice Tower 2016 (Season 12) Kickstarter campaign.&#10;&#10;Its text says: &#10;Reduce the cost of the next Trade Ship you take by 2 resources of any type.&#10;&#10;                                                                                                                                                                                                                                                                                                                                                                                                                                                                                                                            \n",
       "62950  Small Star Empires     Science Fiction,Territory Building     Area Control,Area Influence,Area Enclosure,Grid Movement,Modular Board     Small Star Empires is a quick area control game for 2-4 players. In this game, players colonize the galaxy using their ships, which they move on a modular board containing hexagonal spaces (systems). The modular board is made up of seven different double-sided sector tiles, which allows for a different map and different experience each time you play the game.&#10;&#10;During a turn, a player must move one of their ships on the board. They can move the ship only in a straight line, as far away as they want, but they cannot go over systems controlled by other players.                                                                                                                                      \n",
       "132    Buy Low Sell High      Economic                               Commodity Speculation                                                      Another of Reiner Knizia's fleet of games, this one is about making profits by buying and selling business stock. Players use cards to manipulate the price of three types of stocks (oil, technology, and retail), and the buying and selling of the stocks is pretty severely limited. Short and sweet, this game is both elegant and abstract.  In a change from the original version, the three stocks have different levels of volatility.                                                                                                                                                                                                                                                                                   "
      ]
     },
     "execution_count": 101,
     "metadata": {},
     "output_type": "execute_result"
    }
   ],
   "source": [
    "data.head()"
   ]
  },
  {
   "cell_type": "code",
   "execution_count": 71,
   "metadata": {
    "scrolled": true
   },
   "outputs": [
    {
     "data": {
      "text/plain": [
       "12       [Negotiation]                                \n",
       "54254    [Nautical, Print & Play, Racing]             \n",
       "71292    [City Building, Expansion for Base-game]     \n",
       "62950    [Science Fiction, Territory Building]        \n",
       "132      [Economic]                                   \n",
       "26389    [Sports]                                     \n",
       "63732    [Educational]                                \n",
       "2013     [Dice, Sports]                               \n",
       "48640    [Economic]                                   \n",
       "15459    [Economic, Space Exploration, Transportation]\n",
       "Name: category, dtype: object"
      ]
     },
     "execution_count": 71,
     "metadata": {},
     "output_type": "execute_result"
    }
   ],
   "source": [
    "data.category"
   ]
  },
  {
   "cell_type": "code",
   "execution_count": 80,
   "metadata": {},
   "outputs": [],
   "source": [
    "data['category'] = data.category.apply(lambda x: \",\".join(x))\n",
    "data['mechanic'] = data.mechanic.apply(lambda x: \",\".join(x))"
   ]
  },
  {
   "cell_type": "code",
   "execution_count": 94,
   "metadata": {
    "scrolled": true
   },
   "outputs": [
    {
     "data": {
      "text/plain": [
       "'In Catan (formerly The Settlers of Catan), players try to be the dominant force on the island of Catan by building settlements, cities, and roads. On each turn dice are rolled to determine what resources the island produces. Players collect these resources (cards)&mdash;wood, grain, brick, sheep, or stone&mdash;to build up their civilizations to get to 10 victory points and win the game.&#10;&#10;Setup includes randomly placing large hexagonal tiles (each showing a resource or the desert) in a honeycomb shape and surrounding them with water tiles, some of which contain ports of exchange.'"
      ]
     },
     "execution_count": 94,
     "metadata": {},
     "output_type": "execute_result"
    }
   ],
   "source": [
    "text = data.description.iloc[0]\n",
    "' '.join(re.split(r'(?<=[.:;])\\s', text)[:3])"
   ]
  },
  {
   "cell_type": "code",
   "execution_count": 95,
   "metadata": {},
   "outputs": [],
   "source": [
    "data['short_desc'] = data.description.apply(lambda x: ' '.join(re.split(r'(?<=[.:;])\\s', x)[:4]))"
   ]
  },
  {
   "cell_type": "code",
   "execution_count": 96,
   "metadata": {
    "scrolled": true
   },
   "outputs": [
    {
     "data": {
      "text/html": [
       "<div>\n",
       "<style scoped>\n",
       "    .dataframe tbody tr th:only-of-type {\n",
       "        vertical-align: middle;\n",
       "    }\n",
       "\n",
       "    .dataframe tbody tr th {\n",
       "        vertical-align: top;\n",
       "    }\n",
       "\n",
       "    .dataframe thead th {\n",
       "        text-align: right;\n",
       "    }\n",
       "</style>\n",
       "<table border=\"1\" class=\"dataframe\">\n",
       "  <thead>\n",
       "    <tr style=\"text-align: right;\">\n",
       "      <th></th>\n",
       "      <th>name</th>\n",
       "      <th>description</th>\n",
       "      <th>category</th>\n",
       "      <th>mechanic</th>\n",
       "      <th>short</th>\n",
       "    </tr>\n",
       "  </thead>\n",
       "  <tbody>\n",
       "    <tr>\n",
       "      <th>12</th>\n",
       "      <td>Catan</td>\n",
       "      <td>In Catan (formerly The Settlers of Catan), players try to be the dominant force on the island of Catan by building settlements, cities, and roads. On each turn dice are rolled to determine what resources the island produces. Players collect these resources (cards)&amp;mdash;wood, grain, brick, sheep, or stone&amp;mdash;to build up their civilizations to get to 10 victory points and win the game.&amp;#10;&amp;#10;Setup includes randomly placing large hexagonal tiles (each showing a resource or the desert) in a honeycomb shape and surrounding them with water tiles, some of which contain ports of exchange. Number disks, which will correspond to die rolls (two 6-sided dice are used), are placed on each resource tile. Each player is given two settlements (think: houses) and roads (sticks) which are, in turn, placed on intersections and borders of the resource tiles. Players collect a hand of resource cards based on which hex tiles their last-placed house is adjacent to. A robber pawn is placed on the desert tile.&amp;#10;&amp;#10;A turn consists of possibly playing a development card, rolling the dice, everyone (perhaps) collecting resource cards based on the roll and position of houses (or upgraded cities&amp;mdash;think: hotels) unless a 7 is rolled, turning in resource cards (if possible and desired) for improvements, trading cards at a port, and trading resource cards with other players. If a 7 is rolled, the active player moves the robber to a new hex tile and steals resource cards from other players who have built structures adjacent to that tile.&amp;#10;&amp;#10;Points are accumulated by building settlements and cities, having the longest road and the largest army (from some of the development cards), and gathering certain development cards that simply award victory points. When a player has gathered 10 points (some of which may be held in secret), he announces his total and claims the win.&amp;#10;&amp;#10;Catan has won multiple awards and is one of the most popular games in recent history due to its amazing ability to appeal to experienced gamers as well as those new to the hobby.&amp;#10;&amp;#10;Die Siedler von Catan was originally published by KOSMOS and has gone through multiple editions. It was licensed by Mayfair and has undergone four editions as The Settlers of Catan. In 2015, it was formally renamed Catan to better represent itself as the core and base game of the Catan series. It has been re-published in two travel editions, portable edition and compact edition, as a special gallery edition (replaced in 2009 with a family edition), as an anniversary wooden edition, as a deluxe 3D collector's edition, in the basic Simply Catan, as a beginner version, and with an entirely new theme in Japan and Asia as Settlers of Catan: Rockman Edition. Numerous spin-offs and expansions have also been made for the game.&amp;#10;&amp;#10;</td>\n",
       "      <td>Negotiation</td>\n",
       "      <td>Dice Rolling,Hand Management,Modular Board,Route/Network Building,Trading</td>\n",
       "      <td>In Catan (formerly The Settlers of Catan), players try to be the dominant force on the island of Catan by building settlements, cities, and roads. On each turn dice are rolled to determine what resources the island produces. Players collect these resources (cards)&amp;mdash;wood, grain, brick, sheep, or stone&amp;mdash;to build up their civilizations to get to 10 victory points and win the game.&amp;#10;&amp;#10;Setup includes randomly placing large hexagonal tiles (each showing a resource or the desert) in a honeycomb shape and surrounding them with water tiles, some of which contain ports of exchange. Number disks, which will correspond to die rolls (two 6-sided dice are used), are placed on each resource tile.</td>\n",
       "    </tr>\n",
       "    <tr>\n",
       "      <th>54254</th>\n",
       "      <td>Pocket Paddles</td>\n",
       "      <td>Pocket Paddles is a free print and play game for two players that fits in your wallet. All you need to play is the credit card-sized gameboard and 7 coins per player.&amp;#10;&amp;#10;In Pocket Paddles players compete in a furious paddle boat race. Whoever lands three ships on the sandy shores of Victor Island first, is declared winner, and is rewarded the platinum-power-paddle. The coins act as currency in a blind-bidding and bluffing round, in which the movement of your ships is determined. However, these coins also act as ships. Therefore, placing ships on the board drains your bidding resources.&amp;#10;&amp;#10;Tactics, wits and some winds of fate will carry the winner to Victor Island.&amp;#10;&amp;#10;</td>\n",
       "      <td>Nautical,Print &amp; Play,Racing</td>\n",
       "      <td>Auction/Bidding,Point to Point Movement</td>\n",
       "      <td>Pocket Paddles is a free print and play game for two players that fits in your wallet. All you need to play is the credit card-sized gameboard and 7 coins per player.&amp;#10;&amp;#10;In Pocket Paddles players compete in a furious paddle boat race. Whoever lands three ships on the sandy shores of Victor Island first, is declared winner, and is rewarded the platinum-power-paddle. The coins act as currency in a blind-bidding and bluffing round, in which the movement of your ships is determined.</td>\n",
       "    </tr>\n",
       "    <tr>\n",
       "      <th>71292</th>\n",
       "      <td>Dice City: Shipwright</td>\n",
       "      <td>A promo card that was part of the Dice Tower 2016 (Season 12) Kickstarter campaign.&amp;#10;&amp;#10;Its text says: &amp;#10;Reduce the cost of the next Trade Ship you take by 2 resources of any type.&amp;#10;&amp;#10;</td>\n",
       "      <td>City Building,Expansion for Base-game</td>\n",
       "      <td>Dice Rolling,Take That,Worker Placement</td>\n",
       "      <td>A promo card that was part of the Dice Tower 2016 (Season 12) Kickstarter campaign.&amp;#10;&amp;#10;Its text says: &amp;#10;Reduce the cost of the next Trade Ship you take by 2 resources of any type.&amp;#10;&amp;#10;</td>\n",
       "    </tr>\n",
       "    <tr>\n",
       "      <th>62950</th>\n",
       "      <td>Small Star Empires</td>\n",
       "      <td>Small Star Empires is a quick area control game for 2-4 players. In this game, players colonize the galaxy using their ships, which they move on a modular board containing hexagonal spaces (systems). The modular board is made up of seven different double-sided sector tiles, which allows for a different map and different experience each time you play the game.&amp;#10;&amp;#10;During a turn, a player must move one of their ships on the board. They can move the ship only in a straight line, as far away as they want, but they cannot go over systems controlled by other players. After moving the ship, the player has to choose whether to place a colony or a trade station in that system. Both of these mark control over the system until the end of the game, but the trade station gives the player bonus points for each adjacent system controlled by their opponents. The game ends when either all of the players have placed their colonies and trade stations on the board or until none of the players' ships can move (because they have become blocked by other players' systems).&amp;#10;&amp;#10;After the game ends, points are calculated. Each player gets one point for each planet that they have in their systems. (Systems have 1 to 3 planets on the board.) Players also earn points for Nebulae; the more they have from one color, the more points they earn, with bonus points from other special systems such as the Unexplored System Tiles, which are part of a variant in the game. After calculating the points, the player with the most points wins!&amp;#10;&amp;#10;</td>\n",
       "      <td>Science Fiction,Territory Building</td>\n",
       "      <td>Area Control,Area Influence,Area Enclosure,Grid Movement,Modular Board</td>\n",
       "      <td>Small Star Empires is a quick area control game for 2-4 players. In this game, players colonize the galaxy using their ships, which they move on a modular board containing hexagonal spaces (systems). The modular board is made up of seven different double-sided sector tiles, which allows for a different map and different experience each time you play the game.&amp;#10;&amp;#10;During a turn, a player must move one of their ships on the board. They can move the ship only in a straight line, as far away as they want, but they cannot go over systems controlled by other players.</td>\n",
       "    </tr>\n",
       "    <tr>\n",
       "      <th>132</th>\n",
       "      <td>Buy Low Sell High</td>\n",
       "      <td>Another of Reiner Knizia's fleet of games, this one is about making profits by buying and selling business stock. Players use cards to manipulate the price of three types of stocks (oil, technology, and retail), and the buying and selling of the stocks is pretty severely limited. Short and sweet, this game is both elegant and abstract.  In a change from the original version, the three stocks have different levels of volatility.  Technology is the most volatile, oil is the least volatile but with higher dividends, and retail falls in the middle.&amp;#10;&amp;#10;The original version of this game, Palmyra, was based around three trade routes which were represented by wooden amphoras.&amp;#10;&amp;#10;</td>\n",
       "      <td>Economic</td>\n",
       "      <td>Commodity Speculation</td>\n",
       "      <td>Another of Reiner Knizia's fleet of games, this one is about making profits by buying and selling business stock. Players use cards to manipulate the price of three types of stocks (oil, technology, and retail), and the buying and selling of the stocks is pretty severely limited. Short and sweet, this game is both elegant and abstract.  In a change from the original version, the three stocks have different levels of volatility.</td>\n",
       "    </tr>\n",
       "  </tbody>\n",
       "</table>\n",
       "</div>"
      ],
      "text/plain": [
       "                        name                                                                                                                                                                                                                                                                                                                                                                                                                                                                                                                                                                                                                                                                                                                                                                                                                                                                                                                                                                                                                                                                                                                                                                                                                                                                                                                                                                                                                                                                                                                                                                                                                                                                                                                                                                                                                                                                                                                                                                                                                                                                                                                                                                                                                                                                                                                                                                                                                                                                                                                                                                                                                                                                                                                                                                                                                                                                                                                                 description                               category                                                                   mechanic                                                                                                                                                                                                                                                                                                                                                                                                                                                                                                                                                                                                                                                                                                                               short\n",
       "12     Catan                  In Catan (formerly The Settlers of Catan), players try to be the dominant force on the island of Catan by building settlements, cities, and roads. On each turn dice are rolled to determine what resources the island produces. Players collect these resources (cards)&mdash;wood, grain, brick, sheep, or stone&mdash;to build up their civilizations to get to 10 victory points and win the game.&#10;&#10;Setup includes randomly placing large hexagonal tiles (each showing a resource or the desert) in a honeycomb shape and surrounding them with water tiles, some of which contain ports of exchange. Number disks, which will correspond to die rolls (two 6-sided dice are used), are placed on each resource tile. Each player is given two settlements (think: houses) and roads (sticks) which are, in turn, placed on intersections and borders of the resource tiles. Players collect a hand of resource cards based on which hex tiles their last-placed house is adjacent to. A robber pawn is placed on the desert tile.&#10;&#10;A turn consists of possibly playing a development card, rolling the dice, everyone (perhaps) collecting resource cards based on the roll and position of houses (or upgraded cities&mdash;think: hotels) unless a 7 is rolled, turning in resource cards (if possible and desired) for improvements, trading cards at a port, and trading resource cards with other players. If a 7 is rolled, the active player moves the robber to a new hex tile and steals resource cards from other players who have built structures adjacent to that tile.&#10;&#10;Points are accumulated by building settlements and cities, having the longest road and the largest army (from some of the development cards), and gathering certain development cards that simply award victory points. When a player has gathered 10 points (some of which may be held in secret), he announces his total and claims the win.&#10;&#10;Catan has won multiple awards and is one of the most popular games in recent history due to its amazing ability to appeal to experienced gamers as well as those new to the hobby.&#10;&#10;Die Siedler von Catan was originally published by KOSMOS and has gone through multiple editions. It was licensed by Mayfair and has undergone four editions as The Settlers of Catan. In 2015, it was formally renamed Catan to better represent itself as the core and base game of the Catan series. It has been re-published in two travel editions, portable edition and compact edition, as a special gallery edition (replaced in 2009 with a family edition), as an anniversary wooden edition, as a deluxe 3D collector's edition, in the basic Simply Catan, as a beginner version, and with an entirely new theme in Japan and Asia as Settlers of Catan: Rockman Edition. Numerous spin-offs and expansions have also been made for the game.&#10;&#10;  Negotiation                            Dice Rolling,Hand Management,Modular Board,Route/Network Building,Trading  In Catan (formerly The Settlers of Catan), players try to be the dominant force on the island of Catan by building settlements, cities, and roads. On each turn dice are rolled to determine what resources the island produces. Players collect these resources (cards)&mdash;wood, grain, brick, sheep, or stone&mdash;to build up their civilizations to get to 10 victory points and win the game.&#10;&#10;Setup includes randomly placing large hexagonal tiles (each showing a resource or the desert) in a honeycomb shape and surrounding them with water tiles, some of which contain ports of exchange. Number disks, which will correspond to die rolls (two 6-sided dice are used), are placed on each resource tile.\n",
       "54254  Pocket Paddles         Pocket Paddles is a free print and play game for two players that fits in your wallet. All you need to play is the credit card-sized gameboard and 7 coins per player.&#10;&#10;In Pocket Paddles players compete in a furious paddle boat race. Whoever lands three ships on the sandy shores of Victor Island first, is declared winner, and is rewarded the platinum-power-paddle. The coins act as currency in a blind-bidding and bluffing round, in which the movement of your ships is determined. However, these coins also act as ships. Therefore, placing ships on the board drains your bidding resources.&#10;&#10;Tactics, wits and some winds of fate will carry the winner to Victor Island.&#10;&#10;                                                                                                                                                                                                                                                                                                                                                                                                                                                                                                                                                                                                                                                                                                                                                                                                                                                                                                                                                                                                                                                                                                                                                                                                                                                                                                                                                                                                                                                                                                                                                                                                                                                                                                                                                                                                                                                                                                                                                                                                                                                                                                                                                                                                                      Nautical,Print & Play,Racing           Auction/Bidding,Point to Point Movement                                    Pocket Paddles is a free print and play game for two players that fits in your wallet. All you need to play is the credit card-sized gameboard and 7 coins per player.&#10;&#10;In Pocket Paddles players compete in a furious paddle boat race. Whoever lands three ships on the sandy shores of Victor Island first, is declared winner, and is rewarded the platinum-power-paddle. The coins act as currency in a blind-bidding and bluffing round, in which the movement of your ships is determined.                                                                                                                                                                                                                         \n",
       "71292  Dice City: Shipwright  A promo card that was part of the Dice Tower 2016 (Season 12) Kickstarter campaign.&#10;&#10;Its text says: &#10;Reduce the cost of the next Trade Ship you take by 2 resources of any type.&#10;&#10;                                                                                                                                                                                                                                                                                                                                                                                                                                                                                                                                                                                                                                                                                                                                                                                                                                                                                                                                                                                                                                                                                                                                                                                                                                                                                                                                                                                                                                                                                                                                                                                                                                                                                                                                                                                                                                                                                                                                                                                                                                                                                                                                                                                                                                                                                                                                                                                                                                                                                                                                                                                                                                                                                                                                      City Building,Expansion for Base-game  Dice Rolling,Take That,Worker Placement                                    A promo card that was part of the Dice Tower 2016 (Season 12) Kickstarter campaign.&#10;&#10;Its text says: &#10;Reduce the cost of the next Trade Ship you take by 2 resources of any type.&#10;&#10;                                                                                                                                                                                                                                                                                                                                                                                                                                                                                                                            \n",
       "62950  Small Star Empires     Small Star Empires is a quick area control game for 2-4 players. In this game, players colonize the galaxy using their ships, which they move on a modular board containing hexagonal spaces (systems). The modular board is made up of seven different double-sided sector tiles, which allows for a different map and different experience each time you play the game.&#10;&#10;During a turn, a player must move one of their ships on the board. They can move the ship only in a straight line, as far away as they want, but they cannot go over systems controlled by other players. After moving the ship, the player has to choose whether to place a colony or a trade station in that system. Both of these mark control over the system until the end of the game, but the trade station gives the player bonus points for each adjacent system controlled by their opponents. The game ends when either all of the players have placed their colonies and trade stations on the board or until none of the players' ships can move (because they have become blocked by other players' systems).&#10;&#10;After the game ends, points are calculated. Each player gets one point for each planet that they have in their systems. (Systems have 1 to 3 planets on the board.) Players also earn points for Nebulae; the more they have from one color, the more points they earn, with bonus points from other special systems such as the Unexplored System Tiles, which are part of a variant in the game. After calculating the points, the player with the most points wins!&#10;&#10;                                                                                                                                                                                                                                                                                                                                                                                                                                                                                                                                                                                                                                                                                                                                                                                                                                                                                                                                                                                                                                                                                                                                                                                                                                                                                                                                    Science Fiction,Territory Building     Area Control,Area Influence,Area Enclosure,Grid Movement,Modular Board     Small Star Empires is a quick area control game for 2-4 players. In this game, players colonize the galaxy using their ships, which they move on a modular board containing hexagonal spaces (systems). The modular board is made up of seven different double-sided sector tiles, which allows for a different map and different experience each time you play the game.&#10;&#10;During a turn, a player must move one of their ships on the board. They can move the ship only in a straight line, as far away as they want, but they cannot go over systems controlled by other players.                                                                                                                                      \n",
       "132    Buy Low Sell High      Another of Reiner Knizia's fleet of games, this one is about making profits by buying and selling business stock. Players use cards to manipulate the price of three types of stocks (oil, technology, and retail), and the buying and selling of the stocks is pretty severely limited. Short and sweet, this game is both elegant and abstract.  In a change from the original version, the three stocks have different levels of volatility.  Technology is the most volatile, oil is the least volatile but with higher dividends, and retail falls in the middle.&#10;&#10;The original version of this game, Palmyra, was based around three trade routes which were represented by wooden amphoras.&#10;&#10;                                                                                                                                                                                                                                                                                                                                                                                                                                                                                                                                                                                                                                                                                                                                                                                                                                                                                                                                                                                                                                                                                                                                                                                                                                                                                                                                                                                                                                                                                                                                                                                                                                                                                                                                                                                                                                                                                                                                                                                                                                                                                                                                                                                                                        Economic                               Commodity Speculation                                                      Another of Reiner Knizia's fleet of games, this one is about making profits by buying and selling business stock. Players use cards to manipulate the price of three types of stocks (oil, technology, and retail), and the buying and selling of the stocks is pretty severely limited. Short and sweet, this game is both elegant and abstract.  In a change from the original version, the three stocks have different levels of volatility.                                                                                                                                                                                                                                                                                   "
      ]
     },
     "execution_count": 96,
     "metadata": {},
     "output_type": "execute_result"
    }
   ],
   "source": [
    "data.head()"
   ]
  },
  {
   "cell_type": "code",
   "execution_count": null,
   "metadata": {},
   "outputs": [],
   "source": []
  },
  {
   "cell_type": "code",
   "execution_count": 102,
   "metadata": {
    "scrolled": false
   },
   "outputs": [
    {
     "data": {
      "text/plain": [
       "[['Catan',\n",
       "  'Negotiation',\n",
       "  'Dice Rolling,Hand Management,Modular Board,Route/Network Building,Trading',\n",
       "  'In Catan (formerly The Settlers of Catan), players try to be the dominant force on the island of Catan by building settlements, cities, and roads. On each turn dice are rolled to determine what resources the island produces. Players collect these resources (cards)&mdash;wood, grain, brick, sheep, or stone&mdash;to build up their civilizations to get to 10 victory points and win the game.&#10;&#10;Setup includes randomly placing large hexagonal tiles (each showing a resource or the desert) in a honeycomb shape and surrounding them with water tiles, some of which contain ports of exchange. Number disks, which will correspond to die rolls (two 6-sided dice are used), are placed on each resource tile.'],\n",
       " ['Pocket Paddles',\n",
       "  'Nautical,Print & Play,Racing',\n",
       "  'Auction/Bidding,Point to Point Movement',\n",
       "  'Pocket Paddles is a free print and play game for two players that fits in your wallet. All you need to play is the credit card-sized gameboard and 7 coins per player.&#10;&#10;In Pocket Paddles players compete in a furious paddle boat race. Whoever lands three ships on the sandy shores of Victor Island first, is declared winner, and is rewarded the platinum-power-paddle. The coins act as currency in a blind-bidding and bluffing round, in which the movement of your ships is determined.'],\n",
       " ['Dice City: Shipwright',\n",
       "  'City Building,Expansion for Base-game',\n",
       "  'Dice Rolling,Take That,Worker Placement',\n",
       "  'A promo card that was part of the Dice Tower 2016 (Season 12) Kickstarter campaign.&#10;&#10;Its text says: &#10;Reduce the cost of the next Trade Ship you take by 2 resources of any type.&#10;&#10;'],\n",
       " ['Small Star Empires',\n",
       "  'Science Fiction,Territory Building',\n",
       "  'Area Control,Area Influence,Area Enclosure,Grid Movement,Modular Board',\n",
       "  'Small Star Empires is a quick area control game for 2-4 players. In this game, players colonize the galaxy using their ships, which they move on a modular board containing hexagonal spaces (systems). The modular board is made up of seven different double-sided sector tiles, which allows for a different map and different experience each time you play the game.&#10;&#10;During a turn, a player must move one of their ships on the board. They can move the ship only in a straight line, as far away as they want, but they cannot go over systems controlled by other players.'],\n",
       " ['Buy Low Sell High',\n",
       "  'Economic',\n",
       "  'Commodity Speculation',\n",
       "  \"Another of Reiner Knizia's fleet of games, this one is about making profits by buying and selling business stock. Players use cards to manipulate the price of three types of stocks (oil, technology, and retail), and the buying and selling of the stocks is pretty severely limited. Short and sweet, this game is both elegant and abstract.  In a change from the original version, the three stocks have different levels of volatility.\"],\n",
       " ['El Juego de la Liga',\n",
       "  'Sports',\n",
       "  'Roll,Spin and Move',\n",
       "  \"&quot;The Game of the League&quot; 2003/2004 based on the Spanish Football League.&#10;&#10;Content:&#10;- 1 board&#10;- 8 colored player's pieces  &#10;- 2 dices&#10;- 8 classification cards&#10;- 67 incidents cards&#10;- 220 football players cards (with all the league star players)&#10;- Bills of money&#10;- Games calendar&#10;- 20 cards of team alignment&#10;&#10;\"],\n",
       " ['All About Town: Columbia, South Carolina',\n",
       "  'Educational',\n",
       "  'Roll,Spin and Move',\n",
       "  'The object of All About Town is for players, using dice and playing pieces, to acquire 8 Travel cards by moving around the game board. You can adjust the length of the game by changing the number of collected cards required to win.&#10;&#10;Players can acquire money from Banks and Money Spaces. Surprise Spaces allow players to draw Surprise Cards that provide money, movement, both or cause them to lose a turn. Whenever a player acquires a Travel Card, another one is turned up.&#10;&#10;All About Town:'],\n",
       " ['Wembley',\n",
       "  'Dice,Sports',\n",
       "  'Dice Rolling,Simulation',\n",
       "  'The game simulates the passage of English football teams on their way to winning the FA cup.  The game has a series of cards which represent each of the clubs, and are dealt out to the players at the start of the game.  The clubs go through an elimination cup series, with money being earned for victories, which can be spent on tokens representing star players.  The winner of each match is determined by the roll of a die to represent goals scored, modified by the number of star players.'],\n",
       " ['The Banking Game',\n",
       "  'Economic',\n",
       "  'Roll,Spin and Move',\n",
       "  'This is a financial game about saving money and becoming a millionaire. The object of the game is to own a $200K home, a $50K auto, a $300 business, 100K in stocks, $200K in bonds, 100K in gold or collectibles, and $100K in savings.&#10;&#10;Players move along a pathway after twirling a special spinner that results in percentage increases in a designated form of investment or requires the player to draw an event card. There is score card that spells R-E-T-I-R-E-D as the player reaches each financial goal. Event cards reward a player who follows up on a hot &quot;tip&quot;'],\n",
       " ['Space Barons',\n",
       "  'Economic,Space Exploration,Transportation',\n",
       "  'Pick-up and Deliver,Trading',\n",
       "  '(Description based on prototype.)&#10;&#10;Space Barons is a quick game of trading space commodities, with commodities and thematic elements found in Felithian Finance, another Tom Wham unpublished game.  The theme includes many funny elements, such as the green eggs which could hatch, resulting in a fight against the awful green things from outer space :-)&#10;&#10;Inventory: map showing star systems and connections between them; rocket ship pawns, home base pawns, transporters (similar to monopoly houses), galactic credits (money chits), 4&quot;&times;6&quot;']]"
      ]
     },
     "execution_count": 102,
     "metadata": {},
     "output_type": "execute_result"
    }
   ],
   "source": [
    "data.values.tolist()"
   ]
  },
  {
   "cell_type": "code",
   "execution_count": null,
   "metadata": {},
   "outputs": [],
   "source": []
  }
 ],
 "metadata": {
  "kernelspec": {
   "display_name": "Python 3",
   "language": "python",
   "name": "python3"
  },
  "language_info": {
   "codemirror_mode": {
    "name": "ipython",
    "version": 3
   },
   "file_extension": ".py",
   "mimetype": "text/x-python",
   "name": "python",
   "nbconvert_exporter": "python",
   "pygments_lexer": "ipython3",
   "version": "3.7.7"
  }
 },
 "nbformat": 4,
 "nbformat_minor": 4
}
