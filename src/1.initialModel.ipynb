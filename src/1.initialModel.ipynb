{
 "cells": [
  {
   "cell_type": "code",
   "execution_count": 5,
   "metadata": {},
   "outputs": [],
   "source": [
    "import psycopg2 as pg2\n",
    "import pandas as pd\n",
    "import pprint \n",
    "import string\n",
    "import unicodedata\n",
    "import numpy as np\n",
    "import pickle\n",
    "\n",
    "from PIL import Image\n",
    "from wordcloud import WordCloud, STOPWORDS, ImageColorGenerator\n",
    "from sklearn.decomposition import LatentDirichletAllocation\n",
    "import matplotlib.pyplot as plt\n",
    "\n",
    "from sklearn.preprocessing import StandardScaler\n",
    "from sklearn.decomposition import PCA\n",
    "from sklearn import decomposition\n",
    "\n",
    "import matplotlib.pyplot as plt\n",
    "from pandas.plotting import scatter_matrix\n",
    "\n",
    "import nltk\n",
    "from nltk.tokenize import sent_tokenize\n",
    "from nltk.tokenize import word_tokenize\n",
    "from nltk.corpus import stopwords\n",
    "from nltk.stem.porter import PorterStemmer\n",
    "from nltk.stem.snowball import SnowballStemmer\n",
    "from nltk.stem.wordnet import WordNetLemmatizer\n",
    "from nltk.util import ngrams\n",
    "from nltk import pos_tag\n",
    "from nltk import RegexpParser\n",
    "import re\n",
    "\n",
    "from sklearn.feature_extraction.text import TfidfVectorizer\n",
    "from sklearn.feature_extraction.text import CountVectorizer\n",
    "from sklearn.cluster import KMeans"
   ]
  },
  {
   "cell_type": "markdown",
   "metadata": {},
   "source": [
    "## Import pickled cleaned data from previous project"
   ]
  },
  {
   "cell_type": "code",
   "execution_count": 2,
   "metadata": {},
   "outputs": [],
   "source": [
    "with open('../data/boardgamedata.pickle', 'rb') as f:\n",
    "    worddata, numdata = pickle.load(f)\n",
    "    \n",
    "worddata.reset_index(drop=True, inplace=True)"
   ]
  },
  {
   "cell_type": "code",
   "execution_count": 3,
   "metadata": {},
   "outputs": [
    {
     "data": {
      "text/html": [
       "<div>\n",
       "<style scoped>\n",
       "    .dataframe tbody tr th:only-of-type {\n",
       "        vertical-align: middle;\n",
       "    }\n",
       "\n",
       "    .dataframe tbody tr th {\n",
       "        vertical-align: top;\n",
       "    }\n",
       "\n",
       "    .dataframe thead th {\n",
       "        text-align: right;\n",
       "    }\n",
       "</style>\n",
       "<table border=\"1\" class=\"dataframe\">\n",
       "  <thead>\n",
       "    <tr style=\"text-align: right;\">\n",
       "      <th></th>\n",
       "      <th>game.id</th>\n",
       "      <th>name</th>\n",
       "      <th>description</th>\n",
       "      <th>category</th>\n",
       "      <th>mechanic</th>\n",
       "    </tr>\n",
       "  </thead>\n",
       "  <tbody>\n",
       "    <tr>\n",
       "      <th>10</th>\n",
       "      <td>10</td>\n",
       "      <td>Elfenland</td>\n",
       "      <td>Elfenland is a redesign of the original White ...</td>\n",
       "      <td>[Fantasy, Travel]</td>\n",
       "      <td>[Card Drafting, Hand Management, Point to Poin...</td>\n",
       "    </tr>\n",
       "    <tr>\n",
       "      <th>11</th>\n",
       "      <td>12</td>\n",
       "      <td>Ra</td>\n",
       "      <td>Ra is an auction and set-collection game with ...</td>\n",
       "      <td>[Ancient, Mythology]</td>\n",
       "      <td>[Auction/Bidding, Press Your Luck, Set Collect...</td>\n",
       "    </tr>\n",
       "    <tr>\n",
       "      <th>12</th>\n",
       "      <td>13</td>\n",
       "      <td>Catan</td>\n",
       "      <td>In Catan (formerly The Settlers of Catan), pla...</td>\n",
       "      <td>[Negotiation]</td>\n",
       "      <td>[Dice Rolling, Hand Management, Modular Board,...</td>\n",
       "    </tr>\n",
       "    <tr>\n",
       "      <th>13</th>\n",
       "      <td>14</td>\n",
       "      <td>Basari</td>\n",
       "      <td>Basari is a game of gem merchants competing in...</td>\n",
       "      <td>[Negotiation]</td>\n",
       "      <td>[Roll, Spin and Move, Set Collection, Simultan...</td>\n",
       "    </tr>\n",
       "    <tr>\n",
       "      <th>14</th>\n",
       "      <td>15</td>\n",
       "      <td>Cosmic Encounter</td>\n",
       "      <td>By request of Fantasy Flight Games, Board Game...</td>\n",
       "      <td>[Bluffing, Negotiation, Science Fiction]</td>\n",
       "      <td>[Hand Management, Variable Player Powers]</td>\n",
       "    </tr>\n",
       "  </tbody>\n",
       "</table>\n",
       "</div>"
      ],
      "text/plain": [
       "    game.id              name  \\\n",
       "10       10         Elfenland   \n",
       "11       12                Ra   \n",
       "12       13             Catan   \n",
       "13       14            Basari   \n",
       "14       15  Cosmic Encounter   \n",
       "\n",
       "                                          description  \\\n",
       "10  Elfenland is a redesign of the original White ...   \n",
       "11  Ra is an auction and set-collection game with ...   \n",
       "12  In Catan (formerly The Settlers of Catan), pla...   \n",
       "13  Basari is a game of gem merchants competing in...   \n",
       "14  By request of Fantasy Flight Games, Board Game...   \n",
       "\n",
       "                                    category  \\\n",
       "10                         [Fantasy, Travel]   \n",
       "11                      [Ancient, Mythology]   \n",
       "12                             [Negotiation]   \n",
       "13                             [Negotiation]   \n",
       "14  [Bluffing, Negotiation, Science Fiction]   \n",
       "\n",
       "                                             mechanic  \n",
       "10  [Card Drafting, Hand Management, Point to Poin...  \n",
       "11  [Auction/Bidding, Press Your Luck, Set Collect...  \n",
       "12  [Dice Rolling, Hand Management, Modular Board,...  \n",
       "13  [Roll, Spin and Move, Set Collection, Simultan...  \n",
       "14          [Hand Management, Variable Player Powers]  "
      ]
     },
     "execution_count": 3,
     "metadata": {},
     "output_type": "execute_result"
    }
   ],
   "source": [
    "worddata[10:15]"
   ]
  },
  {
   "cell_type": "markdown",
   "metadata": {},
   "source": [
    "## Build LDA Model"
   ]
  },
  {
   "cell_type": "code",
   "execution_count": 7,
   "metadata": {},
   "outputs": [],
   "source": [
    "#define common words in data to remove\n",
    "#built from pervious project\n",
    "sw = set(stopwords.words('english'))\n",
    "\n",
    "COMMON_WORDS = [\"game\",\"point\",\"board\",\"player\",\"rule\",\"turn\",\n",
    "                \"tile\",\"card\",\"deck\",\"hand\",\"points\",\"victory\",\n",
    "                \"win\",\"lose\",\"defeat\",\"quot\",\"players\",\"play\"\n",
    "               ]\n",
    "sw.update(COMMON_WORDS)"
   ]
  },
  {
   "cell_type": "markdown",
   "metadata": {},
   "source": [
    "#### Remove numbers from vectorizer\n",
    "\n",
    "Implement preprocess function"
   ]
  },
  {
   "cell_type": "code",
   "execution_count": 9,
   "metadata": {},
   "outputs": [],
   "source": [
    "def preprocess_text(text):\n",
    "    text = text.lower()\n",
    "    text = re.sub(r'\\d+', '', text)\n",
    "    return text"
   ]
  },
  {
   "cell_type": "code",
   "execution_count": null,
   "metadata": {},
   "outputs": [],
   "source": [
    "# use counter to count all words to get idea of common words\n",
    "\n"
   ]
  },
  {
   "cell_type": "code",
   "execution_count": 10,
   "metadata": {},
   "outputs": [],
   "source": [
    "count_vectorizer = CountVectorizer(stop_words=sw, preprocessor=preprocess_text, max_df=0.85,\n",
    "                                  min_df=2, max_features=1000)"
   ]
  },
  {
   "cell_type": "code",
   "execution_count": 11,
   "metadata": {},
   "outputs": [],
   "source": [
    "word_vec = count_vectorizer.fit_transform(worddata['description'])"
   ]
  },
  {
   "cell_type": "code",
   "execution_count": 12,
   "metadata": {
    "scrolled": true
   },
   "outputs": [
    {
     "data": {
      "text/plain": [
       "LatentDirichletAllocation(learning_method='online', n_jobs=-2,\n",
       "                          random_state=1659)"
      ]
     },
     "execution_count": 12,
     "metadata": {},
     "output_type": "execute_result"
    }
   ],
   "source": [
    "lda = LatentDirichletAllocation(learning_method='online', n_jobs=-2, \n",
    "                                random_state=1659)\n",
    "lda.fit(word_vec)"
   ]
  },
  {
   "cell_type": "code",
   "execution_count": 13,
   "metadata": {},
   "outputs": [],
   "source": [
    "def top_topic_features(model, feature_names, num_features=10):\n",
    "    sorted_topics = feature_names[model.components_.argsort(axis=1)[:, ::-1][:, :num_features]]\n",
    "    return sorted_topics"
   ]
  },
  {
   "cell_type": "code",
   "execution_count": 16,
   "metadata": {
    "scrolled": true
   },
   "outputs": [
    {
     "data": {
      "text/plain": [
       "array([['team', 'city', 'tokens', 'money', 'resources', 'build', 'phase',\n",
       "        'power', 'building', 'token'],\n",
       "       ['dice', 'move', 'one', 'roll', 'die', 'first', 'pieces', 'space',\n",
       "        'two', 'spaces'],\n",
       "       ['new', 'rules', 'expansion', 'cards', 'set', 'games', 'includes',\n",
       "        'ship', 'also', 'edition'],\n",
       "       ['questions', 'answer', 'eacute', 'party', 'question', 'la',\n",
       "        'guess', 'correct', 'correctly', 'variant'],\n",
       "       ['de', 'fun', 'treasure', 'monster', 'friends', 'find', 'dark',\n",
       "        'gold', 'items', 'dungeon'],\n",
       "       ['time', 'get', 'one', 'make', 'like', 'word', 'many', 'way',\n",
       "        'also', 'best'],\n",
       "       ['cards', 'one', 'round', 'two', 'tiles', 'wins', 'number',\n",
       "        'first', 'played', 'three'],\n",
       "       ['cards', 'character', 'characters', 'use', 'heroes', 'mdash',\n",
       "        'new', 'unique', 'action', 'abilities'],\n",
       "       ['rsquo', 'rdquo', 'red', 'ldquo', 'ndash', 'bull', 'black',\n",
       "        'blue', 'green', 'white'],\n",
       "       ['war', 'battle', 'attack', 'units', 'combat', 'one', 'map',\n",
       "        'army', 'forces', 'two']], dtype='<U14')"
      ]
     },
     "execution_count": 16,
     "metadata": {},
     "output_type": "execute_result"
    }
   ],
   "source": [
    "feature_names = np.array(count_vectorizer.get_feature_names())\n",
    "top_topic_features(lda, feature_names=feature_names)\n"
   ]
  },
  {
   "cell_type": "markdown",
   "metadata": {},
   "source": [
    "### Create Probability Matrix"
   ]
  },
  {
   "cell_type": "code",
   "execution_count": 17,
   "metadata": {},
   "outputs": [],
   "source": [
    "def predict_proba(model, vectorizer, text):\n",
    "    if type(text) == str:\n",
    "        text = [text]\n",
    "    vec_text = vectorizer.transform(text)\n",
    "    doc_probs = model.transform(vec_text)\n",
    "    return doc_probs"
   ]
  },
  {
   "cell_type": "code",
   "execution_count": 18,
   "metadata": {},
   "outputs": [],
   "source": [
    "game_probs = predict_proba(lda, count_vectorizer, worddata.description)"
   ]
  },
  {
   "cell_type": "code",
   "execution_count": 19,
   "metadata": {},
   "outputs": [],
   "source": [
    "#pickle the fitted transformed model\n",
    "\n",
    "with open('../models/lda.pickle', 'wb') as f:\n",
    "    pickle.dump([lda,count_vectorizer,game_probs], f)"
   ]
  },
  {
   "cell_type": "markdown",
   "metadata": {},
   "source": [
    "## Building the Recommender"
   ]
  },
  {
   "cell_type": "code",
   "execution_count": 22,
   "metadata": {},
   "outputs": [],
   "source": [
    "# function to find index of FIRST  game given the game title\n",
    "\n",
    "def find_game_idx(df, game_title):\n",
    "    try:\n",
    "        return df.name[df.name.str.contains(game_title)].index[0]\n",
    "    except:\n",
    "        return None\n",
    "\n",
    "def find_game_id(df, idx):\n",
    "    return df['game.id'].iloc[idx]\n"
   ]
  },
  {
   "cell_type": "markdown",
   "metadata": {},
   "source": [
    "## TODO: if search returns multiple results, what then?? Need to solve this"
   ]
  },
  {
   "cell_type": "code",
   "execution_count": 23,
   "metadata": {},
   "outputs": [
    {
     "data": {
      "text/plain": [
       "11"
      ]
     },
     "execution_count": 23,
     "metadata": {},
     "output_type": "execute_result"
    }
   ],
   "source": [
    "search = worddata.name.str.contains('Betrayal')\n",
    "search.sum()\n"
   ]
  },
  {
   "cell_type": "markdown",
   "metadata": {},
   "source": [
    "## /TODO"
   ]
  },
  {
   "cell_type": "code",
   "execution_count": 25,
   "metadata": {},
   "outputs": [],
   "source": [
    "from sklearn.metrics.pairwise import cosine_distances, euclidean_distances"
   ]
  },
  {
   "cell_type": "code",
   "execution_count": 26,
   "metadata": {},
   "outputs": [],
   "source": [
    "def sort_by_distance(idx, probs, distance_funct=cosine_distances, num_games=10):\n",
    "    #returns array of indices of games closest to the provided game index\n",
    "    return distance_funct(probs[idx].reshape(1,-1), probs).ravel().argsort()[:10]"
   ]
  },
  {
   "cell_type": "markdown",
   "metadata": {},
   "source": [
    "* Debug sort_by_distance function\n",
    "* check distances inside the function\n"
   ]
  },
  {
   "cell_type": "code",
   "execution_count": 27,
   "metadata": {},
   "outputs": [],
   "source": [
    "def find_closest_games_names(sorted_distances, names):\n",
    "    #finds names of an array of game idx's\n",
    "    name_array = names.iloc[sorted_distances]\n",
    "    return name_array"
   ]
  },
  {
   "cell_type": "code",
   "execution_count": 34,
   "metadata": {
    "scrolled": true
   },
   "outputs": [
    {
     "data": {
      "text/plain": [
       "12                                          Catan\n",
       "54254                              Pocket Paddles\n",
       "71292                       Dice City: Shipwright\n",
       "62950                          Small Star Empires\n",
       "68682          Dice Bazaar: Monkey Mini Expansion\n",
       "26389                         El Juego de la Liga\n",
       "132                             Buy Low Sell High\n",
       "5131                      The Ark of the Covenant\n",
       "63732    All About Town: Columbia, South Carolina\n",
       "2013                                      Wembley\n",
       "Name: name, dtype: object"
      ]
     },
     "execution_count": 34,
     "metadata": {},
     "output_type": "execute_result"
    }
   ],
   "source": [
    "game_index = find_game_idx(worddata,'Catan')\n",
    "game_sim = sort_by_distance(game_index, game_probs)\n",
    "find_closest_games_names(game_sim,worddata.name)\n"
   ]
  },
  {
   "cell_type": "code",
   "execution_count": 65,
   "metadata": {},
   "outputs": [],
   "source": [
    "def recommend(df, game_title, prob_matrix, \n",
    "             distance_funct=cosine_distances, num_games=10):\n",
    "    game_index = find_game_idx(df, game_title)\n",
    "    game_sim = sort_by_distance(game_index, prob_matrix, distance_funct, num_games)\n",
    "    game_recs = find_closest_games_names(game_sim, df.name)\n",
    "    game_ids = find_game_id(df, game_rec.index)\n",
    "    \n",
    "    rec_df = pd.DataFrame({'id':game_ids,'name':game_recs})\n",
    "    \n",
    "    return rec_df"
   ]
  },
  {
   "cell_type": "code",
   "execution_count": 71,
   "metadata": {
    "scrolled": false
   },
   "outputs": [
    {
     "data": {
      "text/html": [
       "<div>\n",
       "<style scoped>\n",
       "    .dataframe tbody tr th:only-of-type {\n",
       "        vertical-align: middle;\n",
       "    }\n",
       "\n",
       "    .dataframe tbody tr th {\n",
       "        vertical-align: top;\n",
       "    }\n",
       "\n",
       "    .dataframe thead th {\n",
       "        text-align: right;\n",
       "    }\n",
       "</style>\n",
       "<table border=\"1\" class=\"dataframe\">\n",
       "  <thead>\n",
       "    <tr style=\"text-align: right;\">\n",
       "      <th></th>\n",
       "      <th>id</th>\n",
       "      <th>name</th>\n",
       "    </tr>\n",
       "  </thead>\n",
       "  <tbody>\n",
       "    <tr>\n",
       "      <th>12</th>\n",
       "      <td>13</td>\n",
       "      <td>Catan</td>\n",
       "    </tr>\n",
       "    <tr>\n",
       "      <th>54254</th>\n",
       "      <td>150834</td>\n",
       "      <td>Pocket Paddles</td>\n",
       "    </tr>\n",
       "    <tr>\n",
       "      <th>71292</th>\n",
       "      <td>206255</td>\n",
       "      <td>Dice City: Shipwright</td>\n",
       "    </tr>\n",
       "    <tr>\n",
       "      <th>62950</th>\n",
       "      <td>178044</td>\n",
       "      <td>Small Star Empires</td>\n",
       "    </tr>\n",
       "    <tr>\n",
       "      <th>68682</th>\n",
       "      <td>199939</td>\n",
       "      <td>Dice Bazaar: Monkey Mini Expansion</td>\n",
       "    </tr>\n",
       "    <tr>\n",
       "      <th>26389</th>\n",
       "      <td>35371</td>\n",
       "      <td>El Juego de la Liga</td>\n",
       "    </tr>\n",
       "    <tr>\n",
       "      <th>132</th>\n",
       "      <td>146</td>\n",
       "      <td>Buy Low Sell High</td>\n",
       "    </tr>\n",
       "    <tr>\n",
       "      <th>5131</th>\n",
       "      <td>6779</td>\n",
       "      <td>The Ark of the Covenant</td>\n",
       "    </tr>\n",
       "    <tr>\n",
       "      <th>63732</th>\n",
       "      <td>180713</td>\n",
       "      <td>All About Town: Columbia, South Carolina</td>\n",
       "    </tr>\n",
       "    <tr>\n",
       "      <th>2013</th>\n",
       "      <td>2721</td>\n",
       "      <td>Wembley</td>\n",
       "    </tr>\n",
       "  </tbody>\n",
       "</table>\n",
       "</div>"
      ],
      "text/plain": [
       "           id                                      name\n",
       "12         13                                     Catan\n",
       "54254  150834                            Pocket Paddles\n",
       "71292  206255                     Dice City: Shipwright\n",
       "62950  178044                        Small Star Empires\n",
       "68682  199939        Dice Bazaar: Monkey Mini Expansion\n",
       "26389   35371                       El Juego de la Liga\n",
       "132       146                         Buy Low Sell High\n",
       "5131     6779                   The Ark of the Covenant\n",
       "63732  180713  All About Town: Columbia, South Carolina\n",
       "2013     2721                                   Wembley"
      ]
     },
     "execution_count": 71,
     "metadata": {},
     "output_type": "execute_result"
    }
   ],
   "source": [
    "game_rec = recommend(worddata, 'Catan', game_probs)\n",
    "game_rec"
   ]
  },
  {
   "cell_type": "code",
   "execution_count": 69,
   "metadata": {
    "scrolled": true
   },
   "outputs": [
    {
     "data": {
      "text/html": [
       "<div>\n",
       "<style scoped>\n",
       "    .dataframe tbody tr th:only-of-type {\n",
       "        vertical-align: middle;\n",
       "    }\n",
       "\n",
       "    .dataframe tbody tr th {\n",
       "        vertical-align: top;\n",
       "    }\n",
       "\n",
       "    .dataframe thead th {\n",
       "        text-align: right;\n",
       "    }\n",
       "</style>\n",
       "<table border=\"1\" class=\"dataframe\">\n",
       "  <thead>\n",
       "    <tr style=\"text-align: right;\">\n",
       "      <th></th>\n",
       "      <th>id</th>\n",
       "      <th>cover_url</th>\n",
       "    </tr>\n",
       "  </thead>\n",
       "  <tbody>\n",
       "    <tr>\n",
       "      <th>0</th>\n",
       "      <td>1</td>\n",
       "      <td>http://cf.geekdo-images.com/images/pic159509.jpg</td>\n",
       "    </tr>\n",
       "    <tr>\n",
       "      <th>1</th>\n",
       "      <td>2</td>\n",
       "      <td>http://cf.geekdo-images.com/images/pic184174.jpg</td>\n",
       "    </tr>\n",
       "    <tr>\n",
       "      <th>2</th>\n",
       "      <td>3</td>\n",
       "      <td>http://cf.geekdo-images.com/images/pic3211873.jpg</td>\n",
       "    </tr>\n",
       "    <tr>\n",
       "      <th>3</th>\n",
       "      <td>4</td>\n",
       "      <td>http://cf.geekdo-images.com/images/pic285299.jpg</td>\n",
       "    </tr>\n",
       "    <tr>\n",
       "      <th>4</th>\n",
       "      <td>11</td>\n",
       "      <td>http://cf.geekdo-images.com/images/pic69366.jpg</td>\n",
       "    </tr>\n",
       "  </tbody>\n",
       "</table>\n",
       "</div>"
      ],
      "text/plain": [
       "   id                                          cover_url\n",
       "0   1   http://cf.geekdo-images.com/images/pic159509.jpg\n",
       "1   2   http://cf.geekdo-images.com/images/pic184174.jpg\n",
       "2   3  http://cf.geekdo-images.com/images/pic3211873.jpg\n",
       "3   4   http://cf.geekdo-images.com/images/pic285299.jpg\n",
       "4  11    http://cf.geekdo-images.com/images/pic69366.jpg"
      ]
     },
     "execution_count": 69,
     "metadata": {},
     "output_type": "execute_result"
    }
   ],
   "source": [
    "cover_url = pd.read_csv('../data/cover_url.csv')\n",
    "cover_url.drop('Unnamed: 0', inplace=True, axis=1)\n",
    "cover_url.head()"
   ]
  },
  {
   "cell_type": "code",
   "execution_count": 99,
   "metadata": {},
   "outputs": [
    {
     "data": {
      "text/plain": [
       "1"
      ]
     },
     "execution_count": 99,
     "metadata": {},
     "output_type": "execute_result"
    }
   ],
   "source": [
    "cover_url.id[0]"
   ]
  },
  {
   "cell_type": "code",
   "execution_count": 87,
   "metadata": {},
   "outputs": [
    {
     "data": {
      "text/plain": [
       "array([    13, 150834, 206255, 178044, 199939,  35371,    146,   6779,\n",
       "       180713,   2721])"
      ]
     },
     "execution_count": 87,
     "metadata": {},
     "output_type": "execute_result"
    }
   ],
   "source": [
    "game_rec.id.values"
   ]
  },
  {
   "cell_type": "code",
   "execution_count": 92,
   "metadata": {},
   "outputs": [
    {
     "data": {
      "text/plain": [
       "13           13.0\n",
       "150834        NaN\n",
       "206255        NaN\n",
       "178044        NaN\n",
       "199939        NaN\n",
       "35371     38076.0\n",
       "146         146.0\n",
       "6779       7230.0\n",
       "180713        NaN\n",
       "2721       2931.0\n",
       "Name: id, dtype: float64"
      ]
     },
     "execution_count": 92,
     "metadata": {},
     "output_type": "execute_result"
    }
   ],
   "source": [
    "cover_url.id.reindex(game_rec.id.values)"
   ]
  },
  {
   "cell_type": "code",
   "execution_count": null,
   "metadata": {},
   "outputs": [],
   "source": [
    "def _recommend_game(game_title, num_games)\n",
    "    \"\"\"Generate recommended games as a list of lists. Each follows the pattern [game_title, cover_url]\n",
    "    Args:\n",
    "        game_title (str) : search string of user game\n",
    "        num_games (int) : number of similiar games to recommend\n",
    "    Returns:\n",
    "        a list of lists. Each follows the pattern [game_title, cover_url]\n",
    "    \"\"\"\n",
    "    \n",
    "    game_list = _recommend_game(game_title, num_games)"
   ]
  },
  {
   "cell_type": "code",
   "execution_count": 61,
   "metadata": {},
   "outputs": [],
   "source": [
    "#save prob matrix for use later\n",
    "with open('../models/prob_matrix.pickle', 'wb') as f:\n",
    "    pickle.dump(game_probs,f)"
   ]
  },
  {
   "cell_type": "markdown",
   "metadata": {},
   "source": [
    "## TODO: use suprise Library to test"
   ]
  },
  {
   "cell_type": "code",
   "execution_count": null,
   "metadata": {},
   "outputs": [],
   "source": []
  },
  {
   "cell_type": "code",
   "execution_count": null,
   "metadata": {},
   "outputs": [],
   "source": []
  }
 ],
 "metadata": {
  "kernelspec": {
   "display_name": "Python 3",
   "language": "python",
   "name": "python3"
  },
  "language_info": {
   "codemirror_mode": {
    "name": "ipython",
    "version": 3
   },
   "file_extension": ".py",
   "mimetype": "text/x-python",
   "name": "python",
   "nbconvert_exporter": "python",
   "pygments_lexer": "ipython3",
   "version": "3.7.7"
  }
 },
 "nbformat": 4,
 "nbformat_minor": 4
}
