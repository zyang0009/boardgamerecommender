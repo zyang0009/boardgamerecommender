{
 "cells": [
  {
   "cell_type": "code",
   "execution_count": 1,
   "metadata": {},
   "outputs": [],
   "source": [
    "import psycopg2 as pg2\n",
    "import pandas as pd\n",
    "import pprint \n",
    "import string\n",
    "import unicodedata\n",
    "import numpy as np\n",
    "import pickle\n",
    "\n",
    "from PIL import Image\n",
    "from wordcloud import WordCloud, STOPWORDS, ImageColorGenerator\n",
    "\n",
    "import matplotlib.pyplot as plt\n",
    "\n",
    "from sklearn.preprocessing import StandardScaler\n",
    "from sklearn.decomposition import PCA\n",
    "from sklearn import decomposition\n",
    "\n",
    "import matplotlib.pyplot as plt\n",
    "from pandas.plotting import scatter_matrix\n",
    "\n",
    "import nltk\n",
    "from nltk.tokenize import sent_tokenize\n",
    "from nltk.tokenize import word_tokenize\n",
    "from nltk.corpus import stopwords\n",
    "from nltk.stem.porter import PorterStemmer\n",
    "from nltk.stem.snowball import SnowballStemmer\n",
    "from nltk.stem.wordnet import WordNetLemmatizer\n",
    "from nltk.util import ngrams\n",
    "from nltk import pos_tag\n",
    "from nltk import RegexpParser\n",
    "import re\n",
    "\n",
    "from sklearn.feature_extraction.text import TfidfVectorizer\n",
    "from sklearn.cluster import KMeans"
   ]
  },
  {
   "cell_type": "markdown",
   "metadata": {},
   "source": [
    "## Import pickled cleaned data from previous project"
   ]
  },
  {
   "cell_type": "code",
   "execution_count": 42,
   "metadata": {},
   "outputs": [],
   "source": [
    "with open('../data/boardgamedata.pickle', 'rb') as f:\n",
    "    worddata, numdata = pickle.load(f)"
   ]
  },
  {
   "cell_type": "code",
   "execution_count": 43,
   "metadata": {},
   "outputs": [
    {
     "data": {
      "text/html": [
       "<div>\n",
       "<style scoped>\n",
       "    .dataframe tbody tr th:only-of-type {\n",
       "        vertical-align: middle;\n",
       "    }\n",
       "\n",
       "    .dataframe tbody tr th {\n",
       "        vertical-align: top;\n",
       "    }\n",
       "\n",
       "    .dataframe thead th {\n",
       "        text-align: right;\n",
       "    }\n",
       "</style>\n",
       "<table border=\"1\" class=\"dataframe\">\n",
       "  <thead>\n",
       "    <tr style=\"text-align: right;\">\n",
       "      <th></th>\n",
       "      <th>name</th>\n",
       "      <th>description</th>\n",
       "      <th>category</th>\n",
       "      <th>mechanic</th>\n",
       "    </tr>\n",
       "    <tr>\n",
       "      <th>game.id</th>\n",
       "      <th></th>\n",
       "      <th></th>\n",
       "      <th></th>\n",
       "      <th></th>\n",
       "    </tr>\n",
       "  </thead>\n",
       "  <tbody>\n",
       "    <tr>\n",
       "      <th>1</th>\n",
       "      <td>Die Macher</td>\n",
       "      <td>Die Macher is a game about seven sequential po...</td>\n",
       "      <td>[Economic, Negotiation, Political]</td>\n",
       "      <td>[Area Control, Area Influence, Auction/Bidding...</td>\n",
       "    </tr>\n",
       "    <tr>\n",
       "      <th>2</th>\n",
       "      <td>Dragonmaster</td>\n",
       "      <td>Dragonmaster is a trick-taking card game based...</td>\n",
       "      <td>[Card Game, Fantasy]</td>\n",
       "      <td>[Trick-taking]</td>\n",
       "    </tr>\n",
       "    <tr>\n",
       "      <th>3</th>\n",
       "      <td>Samurai</td>\n",
       "      <td>Part of the Knizia tile-laying trilogy, Samura...</td>\n",
       "      <td>[Abstract Strategy, Medieval]</td>\n",
       "      <td>[Area Control, Area Influence, Hand Management...</td>\n",
       "    </tr>\n",
       "    <tr>\n",
       "      <th>4</th>\n",
       "      <td>Tal der Könige</td>\n",
       "      <td>When you see the triangular box and the luxuri...</td>\n",
       "      <td>[Ancient]</td>\n",
       "      <td>[Action Point Allowance System, Area Control, ...</td>\n",
       "    </tr>\n",
       "    <tr>\n",
       "      <th>11</th>\n",
       "      <td>Bohnanza</td>\n",
       "      <td>Bohnanza is the first in the Bohnanza family o...</td>\n",
       "      <td>[Card Game, Farming, Negotiation]</td>\n",
       "      <td>[Hand Management, Set Collection, Trading]</td>\n",
       "    </tr>\n",
       "  </tbody>\n",
       "</table>\n",
       "</div>"
      ],
      "text/plain": [
       "                   name                                        description  \\\n",
       "game.id                                                                      \n",
       "1            Die Macher  Die Macher is a game about seven sequential po...   \n",
       "2          Dragonmaster  Dragonmaster is a trick-taking card game based...   \n",
       "3               Samurai  Part of the Knizia tile-laying trilogy, Samura...   \n",
       "4        Tal der Könige  When you see the triangular box and the luxuri...   \n",
       "11             Bohnanza  Bohnanza is the first in the Bohnanza family o...   \n",
       "\n",
       "                                   category  \\\n",
       "game.id                                       \n",
       "1        [Economic, Negotiation, Political]   \n",
       "2                      [Card Game, Fantasy]   \n",
       "3             [Abstract Strategy, Medieval]   \n",
       "4                                 [Ancient]   \n",
       "11        [Card Game, Farming, Negotiation]   \n",
       "\n",
       "                                                  mechanic  \n",
       "game.id                                                     \n",
       "1        [Area Control, Area Influence, Auction/Bidding...  \n",
       "2                                           [Trick-taking]  \n",
       "3        [Area Control, Area Influence, Hand Management...  \n",
       "4        [Action Point Allowance System, Area Control, ...  \n",
       "11              [Hand Management, Set Collection, Trading]  "
      ]
     },
     "execution_count": 43,
     "metadata": {},
     "output_type": "execute_result"
    }
   ],
   "source": [
    "worddata.head()"
   ]
  },
  {
   "cell_type": "code",
   "execution_count": 8,
   "metadata": {},
   "outputs": [],
   "source": [
    "numdata.set_index('game.id', drop=True, inplace=True)"
   ]
  },
  {
   "cell_type": "code",
   "execution_count": 11,
   "metadata": {},
   "outputs": [
    {
     "data": {
      "text/html": [
       "<div>\n",
       "<style scoped>\n",
       "    .dataframe tbody tr th:only-of-type {\n",
       "        vertical-align: middle;\n",
       "    }\n",
       "\n",
       "    .dataframe tbody tr th {\n",
       "        vertical-align: top;\n",
       "    }\n",
       "\n",
       "    .dataframe thead th {\n",
       "        text-align: right;\n",
       "    }\n",
       "</style>\n",
       "<table border=\"1\" class=\"dataframe\">\n",
       "  <thead>\n",
       "    <tr style=\"text-align: right;\">\n",
       "      <th></th>\n",
       "      <th>details.maxplayers</th>\n",
       "      <th>details.maxplaytime</th>\n",
       "      <th>details.minage</th>\n",
       "      <th>details.minplayers</th>\n",
       "      <th>details.minplaytime</th>\n",
       "      <th>details.playingtime</th>\n",
       "      <th>details.yearpublished</th>\n",
       "      <th>stats.average</th>\n",
       "      <th>stats.averageweight</th>\n",
       "      <th>stats.bayesaverage</th>\n",
       "      <th>stats.numcomments</th>\n",
       "      <th>stats.owned</th>\n",
       "      <th>stats.stddev</th>\n",
       "      <th>stats.trading</th>\n",
       "      <th>stats.usersrated</th>\n",
       "      <th>stats.wanting</th>\n",
       "      <th>stats.wishing</th>\n",
       "    </tr>\n",
       "  </thead>\n",
       "  <tbody>\n",
       "    <tr>\n",
       "      <th>count</th>\n",
       "      <td>90397.000000</td>\n",
       "      <td>90397.000000</td>\n",
       "      <td>90397.000000</td>\n",
       "      <td>90397.000000</td>\n",
       "      <td>90397.000000</td>\n",
       "      <td>90397.000000</td>\n",
       "      <td>90397.000000</td>\n",
       "      <td>90400.000000</td>\n",
       "      <td>90400.000000</td>\n",
       "      <td>90400.000000</td>\n",
       "      <td>90400.000000</td>\n",
       "      <td>90400.000000</td>\n",
       "      <td>90400.000000</td>\n",
       "      <td>90400.000000</td>\n",
       "      <td>90400.000000</td>\n",
       "      <td>90400.000000</td>\n",
       "      <td>90400.000000</td>\n",
       "    </tr>\n",
       "    <tr>\n",
       "      <th>mean</th>\n",
       "      <td>5.732004</td>\n",
       "      <td>51.773731</td>\n",
       "      <td>7.121143</td>\n",
       "      <td>1.982533</td>\n",
       "      <td>46.104506</td>\n",
       "      <td>51.773731</td>\n",
       "      <td>1814.056584</td>\n",
       "      <td>4.309627</td>\n",
       "      <td>0.866140</td>\n",
       "      <td>1.146279</td>\n",
       "      <td>36.044502</td>\n",
       "      <td>234.105608</td>\n",
       "      <td>0.945540</td>\n",
       "      <td>7.860996</td>\n",
       "      <td>123.134192</td>\n",
       "      <td>9.596858</td>\n",
       "      <td>34.333208</td>\n",
       "    </tr>\n",
       "    <tr>\n",
       "      <th>std</th>\n",
       "      <td>53.449543</td>\n",
       "      <td>331.657193</td>\n",
       "      <td>5.056647</td>\n",
       "      <td>0.860299</td>\n",
       "      <td>316.313227</td>\n",
       "      <td>331.657193</td>\n",
       "      <td>580.656445</td>\n",
       "      <td>2.927143</td>\n",
       "      <td>1.155766</td>\n",
       "      <td>2.300701</td>\n",
       "      <td>235.494572</td>\n",
       "      <td>1483.897861</td>\n",
       "      <td>0.989744</td>\n",
       "      <td>36.531960</td>\n",
       "      <td>1048.474551</td>\n",
       "      <td>50.702656</td>\n",
       "      <td>224.203389</td>\n",
       "    </tr>\n",
       "    <tr>\n",
       "      <th>min</th>\n",
       "      <td>0.000000</td>\n",
       "      <td>0.000000</td>\n",
       "      <td>0.000000</td>\n",
       "      <td>0.000000</td>\n",
       "      <td>0.000000</td>\n",
       "      <td>0.000000</td>\n",
       "      <td>-3500.000000</td>\n",
       "      <td>0.000000</td>\n",
       "      <td>0.000000</td>\n",
       "      <td>0.000000</td>\n",
       "      <td>0.000000</td>\n",
       "      <td>0.000000</td>\n",
       "      <td>0.000000</td>\n",
       "      <td>0.000000</td>\n",
       "      <td>0.000000</td>\n",
       "      <td>0.000000</td>\n",
       "      <td>0.000000</td>\n",
       "    </tr>\n",
       "    <tr>\n",
       "      <th>25%</th>\n",
       "      <td>2.000000</td>\n",
       "      <td>5.000000</td>\n",
       "      <td>0.000000</td>\n",
       "      <td>2.000000</td>\n",
       "      <td>10.000000</td>\n",
       "      <td>5.000000</td>\n",
       "      <td>1986.000000</td>\n",
       "      <td>0.000000</td>\n",
       "      <td>0.000000</td>\n",
       "      <td>0.000000</td>\n",
       "      <td>0.000000</td>\n",
       "      <td>2.000000</td>\n",
       "      <td>0.000000</td>\n",
       "      <td>0.000000</td>\n",
       "      <td>0.000000</td>\n",
       "      <td>0.000000</td>\n",
       "      <td>0.000000</td>\n",
       "    </tr>\n",
       "    <tr>\n",
       "      <th>50%</th>\n",
       "      <td>4.000000</td>\n",
       "      <td>30.000000</td>\n",
       "      <td>8.000000</td>\n",
       "      <td>2.000000</td>\n",
       "      <td>30.000000</td>\n",
       "      <td>30.000000</td>\n",
       "      <td>2005.000000</td>\n",
       "      <td>5.400000</td>\n",
       "      <td>0.000000</td>\n",
       "      <td>0.000000</td>\n",
       "      <td>2.000000</td>\n",
       "      <td>8.000000</td>\n",
       "      <td>0.986687</td>\n",
       "      <td>0.000000</td>\n",
       "      <td>3.000000</td>\n",
       "      <td>0.000000</td>\n",
       "      <td>1.000000</td>\n",
       "    </tr>\n",
       "    <tr>\n",
       "      <th>75%</th>\n",
       "      <td>6.000000</td>\n",
       "      <td>60.000000</td>\n",
       "      <td>12.000000</td>\n",
       "      <td>2.000000</td>\n",
       "      <td>60.000000</td>\n",
       "      <td>60.000000</td>\n",
       "      <td>2012.000000</td>\n",
       "      <td>6.666670</td>\n",
       "      <td>1.750000</td>\n",
       "      <td>0.000000</td>\n",
       "      <td>9.000000</td>\n",
       "      <td>58.000000</td>\n",
       "      <td>1.535955</td>\n",
       "      <td>2.000000</td>\n",
       "      <td>18.000000</td>\n",
       "      <td>3.000000</td>\n",
       "      <td>8.000000</td>\n",
       "    </tr>\n",
       "    <tr>\n",
       "      <th>max</th>\n",
       "      <td>11299.000000</td>\n",
       "      <td>60120.000000</td>\n",
       "      <td>120.000000</td>\n",
       "      <td>50.000000</td>\n",
       "      <td>60120.000000</td>\n",
       "      <td>60120.000000</td>\n",
       "      <td>2019.000000</td>\n",
       "      <td>10.000000</td>\n",
       "      <td>5.000000</td>\n",
       "      <td>8.489660</td>\n",
       "      <td>13841.000000</td>\n",
       "      <td>95401.000000</td>\n",
       "      <td>4.500000</td>\n",
       "      <td>1858.000000</td>\n",
       "      <td>67655.000000</td>\n",
       "      <td>1838.000000</td>\n",
       "      <td>9082.000000</td>\n",
       "    </tr>\n",
       "  </tbody>\n",
       "</table>\n",
       "</div>"
      ],
      "text/plain": [
       "       details.maxplayers  details.maxplaytime  details.minage  \\\n",
       "count        90397.000000         90397.000000    90397.000000   \n",
       "mean             5.732004            51.773731        7.121143   \n",
       "std             53.449543           331.657193        5.056647   \n",
       "min              0.000000             0.000000        0.000000   \n",
       "25%              2.000000             5.000000        0.000000   \n",
       "50%              4.000000            30.000000        8.000000   \n",
       "75%              6.000000            60.000000       12.000000   \n",
       "max          11299.000000         60120.000000      120.000000   \n",
       "\n",
       "       details.minplayers  details.minplaytime  details.playingtime  \\\n",
       "count        90397.000000         90397.000000         90397.000000   \n",
       "mean             1.982533            46.104506            51.773731   \n",
       "std              0.860299           316.313227           331.657193   \n",
       "min              0.000000             0.000000             0.000000   \n",
       "25%              2.000000            10.000000             5.000000   \n",
       "50%              2.000000            30.000000            30.000000   \n",
       "75%              2.000000            60.000000            60.000000   \n",
       "max             50.000000         60120.000000         60120.000000   \n",
       "\n",
       "       details.yearpublished  stats.average  stats.averageweight  \\\n",
       "count           90397.000000   90400.000000         90400.000000   \n",
       "mean             1814.056584       4.309627             0.866140   \n",
       "std               580.656445       2.927143             1.155766   \n",
       "min             -3500.000000       0.000000             0.000000   \n",
       "25%              1986.000000       0.000000             0.000000   \n",
       "50%              2005.000000       5.400000             0.000000   \n",
       "75%              2012.000000       6.666670             1.750000   \n",
       "max              2019.000000      10.000000             5.000000   \n",
       "\n",
       "       stats.bayesaverage  stats.numcomments   stats.owned  stats.stddev  \\\n",
       "count        90400.000000       90400.000000  90400.000000  90400.000000   \n",
       "mean             1.146279          36.044502    234.105608      0.945540   \n",
       "std              2.300701         235.494572   1483.897861      0.989744   \n",
       "min              0.000000           0.000000      0.000000      0.000000   \n",
       "25%              0.000000           0.000000      2.000000      0.000000   \n",
       "50%              0.000000           2.000000      8.000000      0.986687   \n",
       "75%              0.000000           9.000000     58.000000      1.535955   \n",
       "max              8.489660       13841.000000  95401.000000      4.500000   \n",
       "\n",
       "       stats.trading  stats.usersrated  stats.wanting  stats.wishing  \n",
       "count   90400.000000      90400.000000   90400.000000   90400.000000  \n",
       "mean        7.860996        123.134192       9.596858      34.333208  \n",
       "std        36.531960       1048.474551      50.702656     224.203389  \n",
       "min         0.000000          0.000000       0.000000       0.000000  \n",
       "25%         0.000000          0.000000       0.000000       0.000000  \n",
       "50%         0.000000          3.000000       0.000000       1.000000  \n",
       "75%         2.000000         18.000000       3.000000       8.000000  \n",
       "max      1858.000000      67655.000000    1838.000000    9082.000000  "
      ]
     },
     "execution_count": 11,
     "metadata": {},
     "output_type": "execute_result"
    }
   ],
   "source": [
    "numdata.describe()"
   ]
  },
  {
   "cell_type": "markdown",
   "metadata": {},
   "source": [
    "## Build LDA Model"
   ]
  },
  {
   "cell_type": "code",
   "execution_count": 12,
   "metadata": {},
   "outputs": [],
   "source": [
    "from sklearn.decomposition import LatentDirichletAllocation"
   ]
  },
  {
   "cell_type": "code",
   "execution_count": 13,
   "metadata": {},
   "outputs": [],
   "source": [
    "lda = LatentDirichletAllocation(learning_method='online', n_jobs=-2, random_state=9)"
   ]
  },
  {
   "cell_type": "code",
   "execution_count": 34,
   "metadata": {},
   "outputs": [],
   "source": [
    "#define common words in data to remove\n",
    "#built from pervious project\n",
    "sw = set(stopwords.words('english'))\n",
    "\n",
    "COMMON_WORDS = [\"game\",\"point\",\"board\",\"player\",\"rule\",\"turn\",\n",
    "                \"tile\",\"card\",\"deck\",\"hand\",\"points\",\"victory\",\n",
    "                \"win\",\"lose\",\"defeat\",\"quot\",\"players\",\"play\"\n",
    "               ]\n",
    "sw.update(COMMON_WORDS)"
   ]
  },
  {
   "cell_type": "code",
   "execution_count": 17,
   "metadata": {},
   "outputs": [],
   "source": [
    "#Try CountVectorizer for now\n",
    "\n",
    "from sklearn.feature_extraction.text import CountVectorizer\n",
    "\n",
    "tf_vectorizer = CountVectorizer(stop_words=sw, max_df=0.85, min_df=2, max_features=1000)\n",
    "word_vec = tf_vectorizer.fit_transform(worddata['description'])"
   ]
  },
  {
   "cell_type": "code",
   "execution_count": 18,
   "metadata": {},
   "outputs": [],
   "source": [
    "from sklearn.decomposition import LatentDirichletAllocation\n",
    "\n",
    "lda = LatentDirichletAllocation(learning_method='online', n_jobs=-2, random_state=1659)"
   ]
  },
  {
   "cell_type": "code",
   "execution_count": 19,
   "metadata": {},
   "outputs": [
    {
     "data": {
      "text/plain": [
       "LatentDirichletAllocation(learning_method='online', n_jobs=-2,\n",
       "                          random_state=1659)"
      ]
     },
     "execution_count": 19,
     "metadata": {},
     "output_type": "execute_result"
    }
   ],
   "source": [
    "lda.fit(word_vec)"
   ]
  },
  {
   "cell_type": "code",
   "execution_count": 20,
   "metadata": {},
   "outputs": [
    {
     "data": {
      "text/plain": [
       "['../data/tf_vec.joblib']"
      ]
     },
     "execution_count": 20,
     "metadata": {},
     "output_type": "execute_result"
    }
   ],
   "source": [
    "import joblib\n",
    "\n",
    "joblib.dump(lda, '../data/lda_model.joblib')\n",
    "joblib.dump(tf_vectorizer, '../data/tf_vec.joblib')"
   ]
  },
  {
   "cell_type": "code",
   "execution_count": 21,
   "metadata": {},
   "outputs": [],
   "source": [
    "def top_topic_features(model, feature_names, num_features=10):\n",
    "    sorted_topics = feature_names[model.components_.argsort(axis=1)[:, ::-1][:, :num_features]]\n",
    "    return sorted_topics"
   ]
  },
  {
   "cell_type": "code",
   "execution_count": 22,
   "metadata": {},
   "outputs": [
    {
     "data": {
      "text/plain": [
       "array([['war', 'battle', 'rules', 'units', 'map', 'combat', 'army',\n",
       "        'attack', 'counters', 'one'],\n",
       "       ['tokens', 'fun', 'players', 'play', 'get', 'around', 'fast',\n",
       "        'family', 'token', 'find'],\n",
       "       ['players', 'rsquo', 'one', 'city', 'time', 'action', 'take',\n",
       "        'may', 'end', 'must'],\n",
       "       ['move', 'pieces', 'space', 'one', 'players', 'first', 'spaces',\n",
       "        'two', 'piece', 'race'],\n",
       "       ['dice', 'roll', 'die', '140', '231', 'bull', '184', 'rolls',\n",
       "        'rolling', 'monopoly'],\n",
       "       ['cards', '229', 'play', 'players', 'draw', 'played', 'pack',\n",
       "        'pile', 'one', '136'],\n",
       "       ['one', 'players', 'two', 'tiles', '208', 'number', 'first',\n",
       "        'play', 'three', 'score'],\n",
       "       ['team', 'ship', 'word', 'questions', 'answer', 'words',\n",
       "        'question', 'ships', 'teams', 'players'],\n",
       "       ['227', '129', '130', '131', '128', '230', '188', 'de', '139',\n",
       "        '174'],\n",
       "       ['new', 'expansion', 'set', 'rules', 'play', 'character', 'games',\n",
       "        'characters', 'also', 'heroes']], dtype='<U14')"
      ]
     },
     "execution_count": 22,
     "metadata": {},
     "output_type": "execute_result"
    }
   ],
   "source": [
    "feature_names = np.array(tf_vectorizer.get_feature_names())\n",
    "top_topic_features(lda, feature_names=feature_names)"
   ]
  },
  {
   "cell_type": "markdown",
   "metadata": {},
   "source": [
    "#### Remove numbers from vectorizer\n",
    "\n",
    "Implement preprocess function"
   ]
  },
  {
   "cell_type": "code",
   "execution_count": 23,
   "metadata": {},
   "outputs": [],
   "source": [
    "def preprocess_text(text):\n",
    "    text = text.lower()\n",
    "    text = re.sub(r'\\d+', '', text)\n",
    "    return text"
   ]
  },
  {
   "cell_type": "code",
   "execution_count": 35,
   "metadata": {},
   "outputs": [],
   "source": [
    "count_vectorizer = CountVectorizer(stop_words=sw, preprocessor=preprocess_text, max_df=0.85,\n",
    "                                  min_df=2, max_features=1000)"
   ]
  },
  {
   "cell_type": "code",
   "execution_count": 36,
   "metadata": {},
   "outputs": [],
   "source": [
    "word_vec_2 = count_vectorizer.fit_transform(worddata['description'])"
   ]
  },
  {
   "cell_type": "code",
   "execution_count": 37,
   "metadata": {},
   "outputs": [
    {
     "data": {
      "text/plain": [
       "LatentDirichletAllocation(learning_method='online', n_jobs=-2,\n",
       "                          random_state=1659)"
      ]
     },
     "execution_count": 37,
     "metadata": {},
     "output_type": "execute_result"
    }
   ],
   "source": [
    "lda2 = LatentDirichletAllocation(learning_method='online', n_jobs=-2, \n",
    "                                random_state=1659)\n",
    "lda2.fit(word_vec_2)"
   ]
  },
  {
   "cell_type": "code",
   "execution_count": 38,
   "metadata": {},
   "outputs": [
    {
     "data": {
      "text/plain": [
       "array([['team', 'city', 'tokens', 'money', 'resources', 'build', 'phase',\n",
       "        'power', 'building', 'token'],\n",
       "       ['dice', 'move', 'one', 'roll', 'die', 'first', 'pieces', 'space',\n",
       "        'two', 'spaces'],\n",
       "       ['new', 'rules', 'expansion', 'cards', 'set', 'games', 'includes',\n",
       "        'ship', 'also', 'edition'],\n",
       "       ['questions', 'answer', 'eacute', 'party', 'question', 'la',\n",
       "        'guess', 'correct', 'correctly', 'variant'],\n",
       "       ['de', 'fun', 'treasure', 'monster', 'friends', 'find', 'dark',\n",
       "        'gold', 'items', 'dungeon'],\n",
       "       ['time', 'get', 'one', 'make', 'like', 'word', 'many', 'way',\n",
       "        'also', 'best'],\n",
       "       ['cards', 'one', 'round', 'two', 'tiles', 'wins', 'number',\n",
       "        'first', 'played', 'three'],\n",
       "       ['cards', 'character', 'characters', 'use', 'heroes', 'mdash',\n",
       "        'new', 'unique', 'action', 'abilities'],\n",
       "       ['rsquo', 'rdquo', 'red', 'ldquo', 'ndash', 'bull', 'black',\n",
       "        'blue', 'green', 'white'],\n",
       "       ['war', 'battle', 'attack', 'units', 'combat', 'one', 'map',\n",
       "        'army', 'forces', 'two']], dtype='<U14')"
      ]
     },
     "execution_count": 38,
     "metadata": {},
     "output_type": "execute_result"
    }
   ],
   "source": [
    "feature_names2 = np.array(count_vectorizer.get_feature_names())\n",
    "top_topic_features(lda2, feature_names=feature_names2)\n"
   ]
  },
  {
   "cell_type": "code",
   "execution_count": 41,
   "metadata": {},
   "outputs": [],
   "source": [
    "#pickle the fitted transformed model\n",
    "\n",
    "with open('../models/lda.pickle', 'wb') as f:\n",
    "    pickle.dump(lda2, f)"
   ]
  },
  {
   "cell_type": "markdown",
   "metadata": {},
   "source": [
    "## Building the Recommender"
   ]
  },
  {
   "cell_type": "code",
   "execution_count": null,
   "metadata": {},
   "outputs": [],
   "source": [
    "# write function to find index of game given the game title\n",
    "\n",
    "def find_game_idx(df, game_title);\n",
    "    return df.name[]"
   ]
  }
 ],
 "metadata": {
  "kernelspec": {
   "display_name": "Python 3",
   "language": "python",
   "name": "python3"
  },
  "language_info": {
   "codemirror_mode": {
    "name": "ipython",
    "version": 3
   },
   "file_extension": ".py",
   "mimetype": "text/x-python",
   "name": "python",
   "nbconvert_exporter": "python",
   "pygments_lexer": "ipython3",
   "version": "3.7.7"
  }
 },
 "nbformat": 4,
 "nbformat_minor": 4
}
